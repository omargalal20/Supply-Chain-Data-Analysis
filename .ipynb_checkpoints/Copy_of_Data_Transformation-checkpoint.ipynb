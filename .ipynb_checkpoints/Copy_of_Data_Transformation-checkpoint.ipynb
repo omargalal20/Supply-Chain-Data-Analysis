{
 "cells": [
  {
   "cell_type": "markdown",
   "id": "e0e2ddb5",
   "metadata": {},
   "source": [
    "[Section 1](#section_1)"
   ]
  },
  {
   "cell_type": "markdown",
   "id": "1c98e8ef",
   "metadata": {
    "id": "1c98e8ef"
   },
   "source": [
    "## Imports"
   ]
  },
  {
   "cell_type": "code",
   "execution_count": 1,
   "id": "db4381b1",
   "metadata": {
    "id": "db4381b1"
   },
   "outputs": [],
   "source": [
    "import pandas as pd\n",
    "import os\n",
    "import numpy as np\n",
    "from pyvis.network import Network\n",
    "from neo4j import GraphDatabase\n",
    "import re\n"
   ]
  },
  {
   "cell_type": "markdown",
   "id": "bcd66061",
   "metadata": {
    "id": "bcd66061"
   },
   "source": [
    "## Functions "
   ]
  },
  {
   "cell_type": "markdown",
   "id": "2e5fc642",
   "metadata": {
    "id": "2e5fc642"
   },
   "source": [
    "### Find Each Table's primary key"
   ]
  },
  {
   "cell_type": "code",
   "execution_count": 2,
   "id": "a33b18f5",
   "metadata": {
    "id": "a33b18f5"
   },
   "outputs": [],
   "source": [
    "def pk_finder(name, df):\n",
    "    for i in range(len(df.columns)):\n",
    "        col = df.iloc[:,i]\n",
    "        #if(col.size == col.drop_duplicates().size):\n",
    "        if(col.nunique() == col.size):\n",
    "            pk[name] = df.columns[i] \n",
    "            break\n",
    "        "
   ]
  },
  {
   "cell_type": "markdown",
   "id": "5649ff29",
   "metadata": {
    "id": "5649ff29"
   },
   "source": [
    "### Find Each Table's foreign key\n"
   ]
  },
  {
   "cell_type": "code",
   "execution_count": 3,
   "id": "c36338f1",
   "metadata": {
    "id": "c36338f1"
   },
   "outputs": [],
   "source": [
    "def fk_finder(name, df):\n",
    "    for i in range(len(df.columns)):\n",
    "        col_name = df.columns[i]\n",
    "        col = df.iloc[:,i]\n",
    "        if(list(df.columns)[i] not in pk):\n",
    "            flag = True\n",
    "            for j in pk: #loops on the key j = table names\n",
    "                if j != name:\n",
    "                    primary_key_column = All_dfs[j][(pk[j])]\n",
    "                    if primary_key_column.dtype == col.dtype:\n",
    "                        status = col.isin(primary_key_column)\n",
    "                        if status[status== False].size == 0:\n",
    "                            fk[name][col_name] = j \n",
    "                            ref_in[j].add(name)\n",
    "                            break"
   ]
  },
  {
   "cell_type": "markdown",
   "id": "094b5a4a",
   "metadata": {
    "id": "094b5a4a"
   },
   "source": [
    "### Assign Tables to nodes or edges"
   ]
  },
  {
   "cell_type": "code",
   "execution_count": 4,
   "id": "36bc7af4",
   "metadata": {
    "id": "36bc7af4"
   },
   "outputs": [],
   "source": [
    "def nodes_edges(fk):\n",
    "    for f in fk:\n",
    "        if len(fk[f]) == 2:\n",
    "            inner_dict = list(fk[f])\n",
    "            edges[f] = fk[f]\n",
    "        elif len(fk[f]) == 1:\n",
    "            properties[f] = fk[f]\n",
    "        else:\n",
    "            nodes[f] = All_dfs[f]\n",
    "#         else:\n",
    "#             if len(fk[f]) == 1:\n",
    "#                 properties[f] = fk[f]\n",
    "            \n",
    "#             nodes[f] = All_dfs[f]\n",
    "    # for f in fk:\n",
    "    #     if((f not in edges) ):\n",
    "    #         nodes[f] = All_dfs[f]\n",
    "    #         #nodes.append(f)\n",
    "        "
   ]
  },
  {
   "cell_type": "markdown",
   "id": "83acb674",
   "metadata": {
    "id": "83acb674"
   },
   "source": [
    "### Create Nodes Table"
   ]
  },
  {
   "cell_type": "code",
   "execution_count": 5,
   "id": "62f17479",
   "metadata": {
    "id": "62f17479"
   },
   "outputs": [],
   "source": [
    "def add_nodes(nodes, nodesTable):\n",
    "    for n in range(len(nodes)):\n",
    "        for index, row in nodes[list(nodes.keys())[n]].iterrows():\n",
    "            column_names = list(nodes[list(nodes.keys())[n]].columns) #get column names\n",
    "            att = {}\n",
    "            for i in range(1, len(column_names)):\n",
    "                att[column_names[i]] = nodes[list(nodes.keys())[n]].iloc[index, i]\n",
    "            newRow = [{'Label': list(nodes.keys())[n] , 'ID': nodes[list(nodes.keys())[n]].iloc[index,0] , 'Attributes': att}]\n",
    "            tmp = pd.DataFrame(newRow)\n",
    "            nodesTable = pd.concat([nodesTable, tmp], ignore_index=True)\n",
    "    return nodesTable\n"
   ]
  },
  {
   "cell_type": "markdown",
   "id": "fab162b7",
   "metadata": {
    "id": "fab162b7"
   },
   "source": [
    "### Create Edges Table"
   ]
  },
  {
   "cell_type": "code",
   "execution_count": 6,
   "id": "7193efa5",
   "metadata": {
    "id": "7193efa5"
   },
   "outputs": [],
   "source": [
    "def add_edges(edges,edgesTable,pk,fk,ref_in):\n",
    "    for e in edges:\n",
    "        df = All_dfs[e] #df of the cur edge\n",
    "        for r in range(len(df)):\n",
    "            label = list(edges[e].keys())\n",
    "            from_id = nodesTable[(nodesTable[\"Label\"] == edges[e][label[0]]) & (df.loc[r,label[0]] == nodesTable[\"ID\"])]\n",
    "            from_id = from_id.index[0]\n",
    "            to_id = nodesTable[(nodesTable[\"Label\"] == edges[e][label[1]]) & (df.loc[r,label[1]] == nodesTable[\"ID\"])]\n",
    "            to_id = to_id.index[0]\n",
    "            pk_col = pk[e]\n",
    "#             primary_key = df[pk_col].iloc[r]\n",
    "            primary_key = df.loc[r,pk_col]\n",
    "            att = convert_prop(ref_in,e,primary_key,fk)\n",
    "            newRow = [{'From_Node_ID': from_id, 'To_Node_ID': to_id, 'order/service' : att}]\n",
    "            tmp = pd.DataFrame(newRow)\n",
    "            edgesTable = pd.concat([edgesTable, tmp], ignore_index=True)\n",
    "    return edgesTable"
   ]
  },
  {
   "cell_type": "markdown",
   "id": "b212538d",
   "metadata": {
    "id": "b212538d"
   },
   "source": [
    "### Properties of the Edge"
   ]
  },
  {
   "cell_type": "code",
   "execution_count": 7,
   "id": "4829dbe7",
   "metadata": {
    "id": "4829dbe7"
   },
   "outputs": [],
   "source": [
    "def convert_prop(ref_in,edge_key, pk_value,fk):\n",
    "    for referenced_table_name in ref_in[edge_key]:\n",
    "        referenced_table = All_dfs[referenced_table_name]\n",
    "        fk_of_ref_table = fk[referenced_table_name]\n",
    "        for foreign_key in fk_of_ref_table:\n",
    "            if fk_of_ref_table[foreign_key] == edge_key:\n",
    "#                 referenced_table[referenced_table[foreign_key]== id]\n",
    "                all_occurances_df = referenced_table[referenced_table[foreign_key]== pk_value].drop([foreign_key],axis=1)\n",
    "                return all_occurances_df.to_dict('records')\n",
    "                "
   ]
  },
  {
   "cell_type": "markdown",
   "id": "67c2907a",
   "metadata": {},
   "source": [
    "### generate list of n colors"
   ]
  },
  {
   "cell_type": "code",
   "execution_count": 8,
   "id": "47cb3129",
   "metadata": {},
   "outputs": [],
   "source": [
    "import random\n",
    "get_colors = lambda n: list(map(lambda i: \"#\" + \"%06x\" % random.randint(0, 0xFFFFFF),range(n)))\n",
    "# get_colors(5) # sample return:  ['#8af5da', '#fbc08c', '#b741d0', '#e599f1', '#bbcb59', '#a2a6c0']"
   ]
  },
  {
   "cell_type": "markdown",
   "id": "56580eb8",
   "metadata": {},
   "source": [
    "### Draw Pyvis graph"
   ]
  },
  {
   "cell_type": "code",
   "execution_count": 9,
   "id": "8d8a13c6",
   "metadata": {},
   "outputs": [],
   "source": [
    "def draw_graph_pyvis(nodes_table,edges_table):\n",
    "\n",
    "    nodes_name = [(x[1]+'_'+str(x[0])).capitalize() for x in zip(nodes_table.ID,nodes_table.Label)]\n",
    "    indices = list(map(lambda x: int(x),list(nodes_table.index)))\n",
    "    nodes_attributes = list(map(lambda x: str(x).replace(',',\"\\n\"),list(nodes_table.Attributes)))\n",
    "    nodes_tables = list(nodes_df.Label.unique())\n",
    "    colors = get_colors(len(nodes_name))\n",
    "    nodes_color = list(map(lambda x: colors[nodes_tables.index(x)],list(nodes_table.Label)))\n",
    "    \n",
    "    g = Network(width='100%')\n",
    "#     g.barnes_hut()\n",
    "    g.add_nodes(indices,\n",
    "                title= nodes_attributes,\n",
    "                label=nodes_name,\n",
    "                color=nodes_color,\n",
    "                )\n",
    "    for e in range(len(edges_table)):\n",
    "        src = int(edges_table.iloc[e][\"From\"])\n",
    "        dst = int(edges_table.iloc[e][\"To\"])\n",
    "        g.add_edge(src,dst,weight=5)\n",
    "\n",
    "    print(\"Number of Nodes: \",len(g.get_nodes()))\n",
    "    print(\"Number of Edges: \",len(g.get_edges()))\n",
    "    \n",
    "\n",
    "    g.show('test.html')\n",
    "\n",
    "\n"
   ]
  },
  {
   "cell_type": "markdown",
   "id": "2ea01894",
   "metadata": {},
   "source": [
    "### Draw Graph Neo4j\n",
    "\n",
    "<a id='Neo4jFunction'></a>"
   ]
  },
  {
   "cell_type": "markdown",
   "id": "0c578abb",
   "metadata": {},
   "source": [
    "[Noe4jCallFunction](#Neo4jCall)"
   ]
  },
  {
   "cell_type": "markdown",
   "id": "439e2fff",
   "metadata": {},
   "source": [
    "#### prepare satements"
   ]
  },
  {
   "cell_type": "code",
   "execution_count": 38,
   "id": "3bb78c33",
   "metadata": {},
   "outputs": [],
   "source": [
    "def draw_graph_Neo4j(nodes_table,edges_table):\n",
    "\n",
    "    transaction_execution_commands = []\n",
    "    # creating a statement for each node (row in node_table)\n",
    "    for i, node in nodes_table.iterrows():\n",
    "        label = node[\"Label\"]\n",
    "        index = i\n",
    "        IDs = node[\"ID\"]\n",
    "        attributes = node[\"Attributes\"]\n",
    "        neo4j_create_statement = Create_Statement(label,i,IDs,attributes)\n",
    "        print(neo4j_create_statement)\n",
    "        transaction_execution_commands.append(neo4j_create_statement)\n",
    "\n",
    "#     for i, edge in edges_table.iterrows():\n",
    "#         from_node_id = edge['From']\n",
    "#         to_node_id = edge['To']\n",
    "#         from_node_name = edge['From_Table']\n",
    "#         to_node_name = edge['To_Table']\n",
    "#         neo4j_create_statement = create_relation_statement(from_node_id,to_node_id,from_node_name,to_node_name)\n",
    "#         transaction_execution_commands.append(neo4j_create_statement)\n",
    "\n",
    "     \n",
    "    execute_transactions(transaction_execution_commands)\n",
    " "
   ]
  },
  {
   "cell_type": "markdown",
   "id": "c079d3da",
   "metadata": {},
   "source": [
    "#### Connect and execute statements"
   ]
  },
  {
   "cell_type": "code",
   "execution_count": 11,
   "id": "a9097aa2",
   "metadata": {},
   "outputs": [],
   "source": [
    "def execute_transactions(transaction_execution_commands):\n",
    "    data_base_connection = GraphDatabase.driver(uri = \"bolt://localhost:7687\", auth=(\"neo4j\", \"password\"))\n",
    "    session = data_base_connection.session()    \n",
    "    for i in transaction_execution_commands:\n",
    "        session.run(i)\n",
    "\n",
    " "
   ]
  },
  {
   "cell_type": "markdown",
   "id": "1c4e8f87",
   "metadata": {},
   "source": [
    "#### Create a \"Create statement for nodes\""
   ]
  },
  {
   "cell_type": "code",
   "execution_count": 44,
   "id": "1598c72c",
   "metadata": {},
   "outputs": [
    {
     "data": {
      "text/plain": [
       "'B'"
      ]
     },
     "execution_count": 44,
     "metadata": {},
     "output_type": "execute_result"
    }
   ],
   "source": [
    "\"A\" if False else \"B\""
   ]
  },
  {
   "cell_type": "code",
   "execution_count": 12,
   "id": "7b5dbf69",
   "metadata": {},
   "outputs": [],
   "source": [
    "def Create_Statement(label,index,IDs,attributes):\n",
    "#     att = destructure_dict(attributes)\n",
    "#     return f\"CREATE (x:{label} {'{'}name: {get_name(label,IDs)},index:{index},ID:{IDs} ,{destructure_dict(attributes)} {'}'})\"\n",
    "return f\"CREATE (x:{label} {'{'}name: {get_name(label,IDs)},index:{index},ID:{IDs} {\", \" + destructure_dict(attributes) if (len(attributes) > 0) else \"\"} {'}'})\"\n"
   ]
  },
  {
   "cell_type": "code",
   "execution_count": 13,
   "id": "7e7de542",
   "metadata": {},
   "outputs": [],
   "source": [
    "def get_name(label,ID):\n",
    "    return '\\\"' + label.capitalize()+' '+str(ID)+'\\\"'"
   ]
  },
  {
   "cell_type": "markdown",
   "id": "c17d7fa2",
   "metadata": {},
   "source": [
    "#### prepare attributes for create statement"
   ]
  },
  {
   "cell_type": "code",
   "execution_count": 14,
   "id": "c128f9c7",
   "metadata": {},
   "outputs": [],
   "source": [
    "def destructure_dict(dic):\n",
    "    s = \"\"\n",
    "    for key in dic:\n",
    "        value = dic[key]\n",
    "        if isinstance (value,str):\n",
    "            value = \"\\\"\" + value +\"\\\"\"\n",
    "        s=s + re.sub(\"[^\\w_]\", '',str(key).replace(\" \",\"_\")) + \":\" + str(value)+\",\"\n",
    "    return s[:-1]"
   ]
  },
  {
   "cell_type": "code",
   "execution_count": 15,
   "id": "78bdb262",
   "metadata": {},
   "outputs": [],
   "source": [
    "def create_relation_statement(from_id, to_id,from_name,to_name):\n",
    "        return f\"Match (a:{from_name}),(b:{to_name}) WHERE a.ID ={from_id} AND b.ID = {to_id} CREATE (a) - [r:RELTYPE]->(b)\"\n"
   ]
  },
  {
   "cell_type": "markdown",
   "id": "0e2c1e35",
   "metadata": {
    "id": "0e2c1e35"
   },
   "source": [
    "## Global Variables"
   ]
  },
  {
   "cell_type": "code",
   "execution_count": 16,
   "id": "9fe74450",
   "metadata": {
    "id": "9fe74450"
   },
   "outputs": [],
   "source": [
    "# {Table name: df}\n",
    "All_dfs = {}\n",
    "# {Table name: Table's Primary key}\n",
    "pk = {}\n",
    "# {Table name: {Column Name: Referenced Table}}\n",
    "fk = {}\n",
    "# {Table name: set(Tables that references the table)}\n",
    "ref_in = {}\n",
    "# {Table name: df}\n",
    "nodes = {}\n",
    "# {Table name: {Column Name: Referenced Table}}\n",
    "edges = {}\n",
    "# _\n",
    "properties = {}\n",
    "# Nodes_df\n",
    "nodesTable = pd.DataFrame(columns=['Label', 'ID', 'Attributes'])\n",
    "# Edges_df\n",
    "edgesTable = pd.DataFrame(columns = ['From_Node_ID', 'To_Node_ID', 'order/service'])\n",
    "# Properties_df\n",
    "propertiesTable = pd.DataFrame(columns = [['index','From', 'Label', 'Attributes']])\n",
    "#Label = ['facilities'/ 'order' / 'service']\n",
    "\n",
    "\n",
    "# Nodes\n",
    "# Edges ['From_Node_ID', 'To_Node_ID']\n",
    "# Properties ['Label', 'ID', 'Attributes']\n",
    "# (^Nodes in graph)\n",
    "# Relationship [\"Relation_name\",\"from\",\"to\"]\n",
    "\n",
    "\n",
    "nodes_df = pd.DataFrame(columns=['Label', 'ID', 'Attributes'])\n",
    "edges_df = pd.DataFrame(columns=['From','To','From_Table','To_Table'])\n"
   ]
  },
  {
   "cell_type": "markdown",
   "id": "3bb863a2",
   "metadata": {
    "id": "3bb863a2"
   },
   "source": [
    "<a id='section_1'></a>\n",
    "## Reading Data Set\n"
   ]
  },
  {
   "cell_type": "markdown",
   "id": "9aa7852e",
   "metadata": {
    "id": "9aa7852e"
   },
   "source": [
    " creating a dictionary where\n",
    " key: first word of the table name \n",
    " value: df "
   ]
  },
  {
   "cell_type": "code",
   "execution_count": 17,
   "id": "793fb3eb",
   "metadata": {
    "colab": {
     "base_uri": "https://localhost:8080/"
    },
    "id": "793fb3eb",
    "outputId": "7e77c5d9-1d3f-4eac-97b6-4c0480dca9f2"
   },
   "outputs": [
    {
     "name": "stdout",
     "output_type": "stream",
     "text": [
      "customer_data.csv\n",
      "ExternalOrders_data.csv\n",
      "ExternalServices_data.csv\n",
      "ExternalShipments_data.csv\n",
      "ExternalTransactions.csv\n",
      "facilities_data.csv\n",
      "InternalOrders_data.csv\n",
      "InternalServices_data.csv\n",
      "InternalShipments_data.csv\n",
      "InternalTransactions.csv\n",
      "Manufacturing_data.csv\n",
      "Products_data.csv\n",
      "Retailer_data.csv\n",
      "Supplier_data.csv\n",
      "warehouses_data.csv\n"
     ]
    }
   ],
   "source": [
    "import os\n",
    "path_of_the_directory = './DataSet/'\n",
    "ext = ('.csv')\n",
    "for file in os.listdir(path_of_the_directory):\n",
    "    if file.endswith(ext):\n",
    "        print(file) \n",
    "        temp = (file.replace(\"_\",\" \").replace(\".\",\" \").split(\" \")[0].lower())\n",
    "        All_dfs[temp] = pd.read_csv(path_of_the_directory+file)\n",
    "    else:\n",
    "        continue"
   ]
  },
  {
   "cell_type": "markdown",
   "id": "7cb547a6",
   "metadata": {
    "id": "7cb547a6"
   },
   "source": [
    "### Splitting Shipments tables"
   ]
  },
  {
   "cell_type": "code",
   "execution_count": 18,
   "id": "a61a8f33",
   "metadata": {
    "id": "a61a8f33"
   },
   "outputs": [],
   "source": [
    "SRIntShip = All_dfs[\"internalshipments\"].query('from_to_where == \"SR\"')\n",
    "SRIntShip = SRIntShip.drop(['from_to_where'], axis=1).reset_index(drop = True)\n",
    "#SRIntShip\n",
    "RCExtShip = All_dfs[\"externalshipments\"].query('from_to_where == \"RC\"')\n",
    "RCExtShip = RCExtShip.drop(['from_to_where'], axis=1).reset_index(drop = True)\n",
    "#RCExtShip\n",
    "SSIntShip = All_dfs[\"internalshipments\"].query('from_to_where == \"SS\"')\n",
    "SSIntShip = SSIntShip.drop(['from_to_where'], axis=1).reset_index(drop = True)\n",
    "#SSIntShip\n",
    "SCExtShip = All_dfs[\"externalshipments\"].query('from_to_where == \"SC\"')\n",
    "SCExtShip = SCExtShip.drop(['from_to_where'], axis=1).reset_index(drop = True)\n",
    "#SCExtShip\n",
    "All_dfs[\"RCExtShip\".lower()] = RCExtShip\n",
    "All_dfs[\"SCExtShip\".lower()] = SCExtShip\n",
    "All_dfs[\"SRIntShip\".lower()] = SRIntShip\n",
    "All_dfs[\"SSIntShip\".lower()] = SSIntShip"
   ]
  },
  {
   "cell_type": "markdown",
   "id": "792e06a4",
   "metadata": {
    "id": "792e06a4"
   },
   "source": [
    "### Splitting Orders Tables"
   ]
  },
  {
   "cell_type": "code",
   "execution_count": 19,
   "id": "e05ff098",
   "metadata": {
    "id": "e05ff098"
   },
   "outputs": [],
   "source": [
    "filter_list = All_dfs[\"rcextship\"][\"ExtShip_id\"]\n",
    "All_dfs[\"rcextorders\"] = All_dfs[\"externalorders\"][All_dfs[\"externalorders\"].ExtShip_id.isin(filter_list)].reset_index(drop=True)\n",
    "filter_list = All_dfs[\"scextship\"][\"ExtShip_id\"]\n",
    "All_dfs[\"scextorders\"] = All_dfs[\"externalorders\"][All_dfs[\"externalorders\"].ExtShip_id.isin(filter_list)].reset_index(drop=True)\n",
    "#All_dfs[\"scextorders\"] = All_dfs[\"externalorders\"].query(\"ExtShip_id.isin(@filter_list)\").reset_index(drop=True)\n",
    "filter_list = All_dfs[\"srintship\"][\"IntShip_id\"]\n",
    "All_dfs[\"srintorders\"] = All_dfs[\"internalorders\"][All_dfs[\"internalorders\"].IntShip_id.isin(filter_list)].reset_index(drop=True)\n",
    "#All_dfs[\"srintorders\"] = All_dfs[\"internalorders\"].query(\"IntShip_id.isin(@filter_list)\").reset_index(drop=True)\n",
    "filter_list = All_dfs[\"ssintship\"][\"IntShip_id\"]\n",
    "All_dfs[\"ssintorders\"] = All_dfs[\"internalorders\"][All_dfs[\"internalorders\"].IntShip_id.isin(filter_list)].reset_index(drop=True)\n",
    "#All_dfs[\"ssintorders\"] = All_dfs[\"internalorders\"].query(\"IntShip_id.isin(@filter_list)\").reset_index(drop=True)"
   ]
  },
  {
   "cell_type": "markdown",
   "id": "27b40154",
   "metadata": {
    "id": "27b40154"
   },
   "source": [
    "### Removing Redundant Tables"
   ]
  },
  {
   "cell_type": "code",
   "execution_count": 20,
   "id": "1dce7a31",
   "metadata": {
    "colab": {
     "base_uri": "https://localhost:8080/"
    },
    "id": "1dce7a31",
    "outputId": "f7113947-2d2d-46bd-89f4-68c6341fa514"
   },
   "outputs": [
    {
     "data": {
      "text/plain": [
       "dict_keys(['customer', 'externalservices', 'externaltransactions', 'facilities', 'internalservices', 'internaltransactions', 'manufacturing', 'products', 'retailer', 'supplier', 'warehouses', 'rcextship', 'scextship', 'srintship', 'ssintship', 'rcextorders', 'scextorders', 'srintorders', 'ssintorders'])"
      ]
     },
     "execution_count": 20,
     "metadata": {},
     "output_type": "execute_result"
    }
   ],
   "source": [
    "All_dfs.pop(\"internalshipments\")\n",
    "All_dfs.pop(\"externalshipments\")\n",
    "All_dfs.pop(\"externalorders\")\n",
    "All_dfs.pop(\"internalorders\")\n",
    "All_dfs.keys()"
   ]
  },
  {
   "cell_type": "markdown",
   "id": "9e191d11",
   "metadata": {},
   "source": [
    "### Removing nan"
   ]
  },
  {
   "cell_type": "code",
   "execution_count": 21,
   "id": "b1b0b012",
   "metadata": {},
   "outputs": [],
   "source": [
    "All_dfs[\"retailer\"].fillna('Unknown',inplace = True)\n",
    "All_dfs[\"supplier\"].fillna('Unknown',inplace = True)\n",
    "All_dfs[\"warehouses\"].fillna('Unknown',inplace = True)"
   ]
  },
  {
   "cell_type": "markdown",
   "id": "SFbYcLkyvgI1",
   "metadata": {
    "id": "SFbYcLkyvgI1"
   },
   "source": [
    "### Execlude Tables"
   ]
  },
  {
   "cell_type": "code",
   "execution_count": 22,
   "id": "NPz3VcBXvjj-",
   "metadata": {
    "colab": {
     "base_uri": "https://localhost:8080/"
    },
    "id": "NPz3VcBXvjj-",
    "outputId": "bf669753-ae70-4f7f-8723-500d897e74b4"
   },
   "outputs": [
    {
     "data": {
      "text/plain": [
       "dict_keys(['customer', 'externalservices', 'externaltransactions', 'facilities', 'internalservices', 'internaltransactions', 'retailer', 'supplier', 'rcextship', 'scextship', 'srintship', 'ssintship', 'rcextorders', 'scextorders', 'srintorders', 'ssintorders'])"
      ]
     },
     "execution_count": 22,
     "metadata": {},
     "output_type": "execute_result"
    }
   ],
   "source": [
    "All_dfs = {key: value for key, value in All_dfs.items() \n",
    "           if key not in [\"products\",\"warehouses\",\"manufacturing\"]}\n",
    "All_dfs.keys()\n",
    "\n"
   ]
  },
  {
   "cell_type": "markdown",
   "id": "44151839",
   "metadata": {
    "id": "44151839"
   },
   "source": [
    "### Initialize fk and ref_in"
   ]
  },
  {
   "cell_type": "code",
   "execution_count": 23,
   "id": "d0650994",
   "metadata": {
    "id": "d0650994"
   },
   "outputs": [],
   "source": [
    "table_name = list(All_dfs.keys())\n",
    "for table_name in All_dfs:\n",
    "    fk[table_name] = {}\n",
    "    ref_in[table_name] = set()"
   ]
  },
  {
   "cell_type": "markdown",
   "id": "abaac2b1",
   "metadata": {
    "id": "abaac2b1"
   },
   "source": [
    "### Get Primary key for each table"
   ]
  },
  {
   "cell_type": "code",
   "execution_count": 24,
   "id": "2009ba51",
   "metadata": {
    "colab": {
     "base_uri": "https://localhost:8080/"
    },
    "id": "2009ba51",
    "outputId": "ca52c92d-cdf1-4e43-f6ae-521a641f6143"
   },
   "outputs": [
    {
     "data": {
      "text/plain": [
       "{'customer': 'cust_id',\n",
       " 'externalservices': 'ExtServ_id',\n",
       " 'externaltransactions': 'ExtTran_id',\n",
       " 'facilities': 'fac_id',\n",
       " 'internalservices': 'IntServ_id',\n",
       " 'internaltransactions': 'IntTran_id',\n",
       " 'retailer': 'retailer_id',\n",
       " 'supplier': 'supp_id',\n",
       " 'rcextship': 'ExtShip_id',\n",
       " 'scextship': 'ExtShip_id',\n",
       " 'srintship': 'IntShip_id',\n",
       " 'ssintship': 'IntShip_id',\n",
       " 'rcextorders': 'ExtOrders_id',\n",
       " 'scextorders': 'ExtOrders_id',\n",
       " 'srintorders': 'IntOrders_id',\n",
       " 'ssintorders': 'IntOrders_id'}"
      ]
     },
     "execution_count": 24,
     "metadata": {},
     "output_type": "execute_result"
    }
   ],
   "source": [
    "for t in All_dfs:\n",
    "    pk_finder(t,All_dfs[t])\n",
    "pk"
   ]
  },
  {
   "cell_type": "markdown",
   "id": "dcedd35e",
   "metadata": {
    "id": "dcedd35e"
   },
   "source": [
    "### Get Foreing key for each table"
   ]
  },
  {
   "cell_type": "code",
   "execution_count": 25,
   "id": "ea835d03",
   "metadata": {
    "colab": {
     "base_uri": "https://localhost:8080/"
    },
    "id": "ea835d03",
    "outputId": "d1773b0b-f680-4a53-a7b1-45229492cb26"
   },
   "outputs": [
    {
     "data": {
      "text/plain": [
       "{'customer': {},\n",
       " 'externalservices': {'ExtTrans_id': 'externaltransactions'},\n",
       " 'externaltransactions': {'CompFrom': 'supplier', 'Custto': 'customer'},\n",
       " 'facilities': {'supplier_id': 'supplier'},\n",
       " 'internalservices': {'IntTrans_id': 'internaltransactions'},\n",
       " 'internaltransactions': {'CompFrom': 'supplier', 'Compto': 'supplier'},\n",
       " 'retailer': {},\n",
       " 'supplier': {},\n",
       " 'rcextship': {'factoryIds/retailerIds': 'retailer', 'idsTo': 'customer'},\n",
       " 'scextship': {'factoryIds/retailerIds': 'supplier', 'idsTo': 'customer'},\n",
       " 'srintship': {'listSuppIds': 'supplier', 'factoryIds': 'retailer'},\n",
       " 'ssintship': {'listSuppIds': 'supplier', 'factoryIds': 'supplier'},\n",
       " 'rcextorders': {'ExtShip_id': 'rcextship'},\n",
       " 'scextorders': {'ExtShip_id': 'scextship'},\n",
       " 'srintorders': {'IntShip_id': 'srintship'},\n",
       " 'ssintorders': {'IntShip_id': 'ssintship'}}"
      ]
     },
     "execution_count": 25,
     "metadata": {},
     "output_type": "execute_result"
    }
   ],
   "source": [
    "for t in All_dfs:\n",
    "    fk_finder(t,All_dfs[t])\n",
    "fk"
   ]
  },
  {
   "cell_type": "code",
   "execution_count": 26,
   "id": "db523572",
   "metadata": {
    "colab": {
     "base_uri": "https://localhost:8080/"
    },
    "id": "db523572",
    "outputId": "56de3687-8004-45ee-d1cd-2a194d42c74b"
   },
   "outputs": [
    {
     "data": {
      "text/plain": [
       "{'customer': {'externaltransactions', 'rcextship', 'scextship'},\n",
       " 'externalservices': set(),\n",
       " 'externaltransactions': {'externalservices'},\n",
       " 'facilities': set(),\n",
       " 'internalservices': set(),\n",
       " 'internaltransactions': {'internalservices'},\n",
       " 'retailer': {'rcextship', 'srintship'},\n",
       " 'supplier': {'externaltransactions',\n",
       "  'facilities',\n",
       "  'internaltransactions',\n",
       "  'scextship',\n",
       "  'srintship',\n",
       "  'ssintship'},\n",
       " 'rcextship': {'rcextorders'},\n",
       " 'scextship': {'scextorders'},\n",
       " 'srintship': {'srintorders'},\n",
       " 'ssintship': {'ssintorders'},\n",
       " 'rcextorders': set(),\n",
       " 'scextorders': set(),\n",
       " 'srintorders': set(),\n",
       " 'ssintorders': set()}"
      ]
     },
     "execution_count": 26,
     "metadata": {},
     "output_type": "execute_result"
    }
   ],
   "source": [
    "ref_in"
   ]
  },
  {
   "cell_type": "markdown",
   "id": "e47d40f8",
   "metadata": {
    "id": "e47d40f8"
   },
   "source": [
    "### Determine nodes and edges"
   ]
  },
  {
   "cell_type": "code",
   "execution_count": 27,
   "id": "e5ca1421",
   "metadata": {
    "id": "e5ca1421"
   },
   "outputs": [],
   "source": [
    "nodes_edges(fk)"
   ]
  },
  {
   "cell_type": "code",
   "execution_count": 28,
   "id": "557ca7af",
   "metadata": {
    "colab": {
     "base_uri": "https://localhost:8080/"
    },
    "id": "557ca7af",
    "outputId": "087881bb-4c71-4280-fe8f-2acb191670bf"
   },
   "outputs": [
    {
     "data": {
      "text/plain": [
       "dict_keys(['customer', 'retailer', 'supplier'])"
      ]
     },
     "execution_count": 28,
     "metadata": {},
     "output_type": "execute_result"
    }
   ],
   "source": [
    "nodes.keys()"
   ]
  },
  {
   "cell_type": "code",
   "execution_count": 29,
   "id": "4e3ebbb5",
   "metadata": {
    "colab": {
     "base_uri": "https://localhost:8080/"
    },
    "id": "4e3ebbb5",
    "outputId": "51aa740e-5aa0-4d32-a52a-aa2eb58182e1"
   },
   "outputs": [
    {
     "data": {
      "text/plain": [
       "{'externaltransactions': {'CompFrom': 'supplier', 'Custto': 'customer'},\n",
       " 'internaltransactions': {'CompFrom': 'supplier', 'Compto': 'supplier'},\n",
       " 'rcextship': {'factoryIds/retailerIds': 'retailer', 'idsTo': 'customer'},\n",
       " 'scextship': {'factoryIds/retailerIds': 'supplier', 'idsTo': 'customer'},\n",
       " 'srintship': {'listSuppIds': 'supplier', 'factoryIds': 'retailer'},\n",
       " 'ssintship': {'listSuppIds': 'supplier', 'factoryIds': 'supplier'}}"
      ]
     },
     "execution_count": 29,
     "metadata": {},
     "output_type": "execute_result"
    }
   ],
   "source": [
    "edges"
   ]
  },
  {
   "cell_type": "code",
   "execution_count": 30,
   "id": "5ba55d53",
   "metadata": {
    "colab": {
     "base_uri": "https://localhost:8080/"
    },
    "id": "5ba55d53",
    "outputId": "20e0398e-6349-48ab-d1cb-63958dda0890"
   },
   "outputs": [
    {
     "data": {
      "text/plain": [
       "{'externalservices': {'ExtTrans_id': 'externaltransactions'},\n",
       " 'facilities': {'supplier_id': 'supplier'},\n",
       " 'internalservices': {'IntTrans_id': 'internaltransactions'},\n",
       " 'rcextorders': {'ExtShip_id': 'rcextship'},\n",
       " 'scextorders': {'ExtShip_id': 'scextship'},\n",
       " 'srintorders': {'IntShip_id': 'srintship'},\n",
       " 'ssintorders': {'IntShip_id': 'ssintship'}}"
      ]
     },
     "execution_count": 30,
     "metadata": {},
     "output_type": "execute_result"
    }
   ],
   "source": [
    "properties"
   ]
  },
  {
   "cell_type": "markdown",
   "id": "16e305b5",
   "metadata": {
    "id": "16e305b5"
   },
   "source": [
    "### Create NodesTable"
   ]
  },
  {
   "cell_type": "code",
   "execution_count": 31,
   "id": "bcd83ca2",
   "metadata": {
    "colab": {
     "base_uri": "https://localhost:8080/",
     "height": 424
    },
    "id": "bcd83ca2",
    "outputId": "53ab6f8b-8dbe-4019-95c9-e697929c2d52"
   },
   "outputs": [
    {
     "data": {
      "text/html": [
       "<div>\n",
       "<style scoped>\n",
       "    .dataframe tbody tr th:only-of-type {\n",
       "        vertical-align: middle;\n",
       "    }\n",
       "\n",
       "    .dataframe tbody tr th {\n",
       "        vertical-align: top;\n",
       "    }\n",
       "\n",
       "    .dataframe thead th {\n",
       "        text-align: right;\n",
       "    }\n",
       "</style>\n",
       "<table border=\"1\" class=\"dataframe\">\n",
       "  <thead>\n",
       "    <tr style=\"text-align: right;\">\n",
       "      <th></th>\n",
       "      <th>Label</th>\n",
       "      <th>ID</th>\n",
       "      <th>Attributes</th>\n",
       "    </tr>\n",
       "  </thead>\n",
       "  <tbody>\n",
       "    <tr>\n",
       "      <th>0</th>\n",
       "      <td>customer</td>\n",
       "      <td>33736</td>\n",
       "      <td>{'gender': 'F', 'first_name': 'Nadia', 'last_n...</td>\n",
       "    </tr>\n",
       "    <tr>\n",
       "      <th>1</th>\n",
       "      <td>customer</td>\n",
       "      <td>42959</td>\n",
       "      <td>{'gender': 'M', 'first_name': 'Eric', 'last_na...</td>\n",
       "    </tr>\n",
       "    <tr>\n",
       "      <th>2</th>\n",
       "      <td>customer</td>\n",
       "      <td>50653</td>\n",
       "      <td>{'gender': 'F', 'first_name': 'Alessia', 'last...</td>\n",
       "    </tr>\n",
       "    <tr>\n",
       "      <th>3</th>\n",
       "      <td>customer</td>\n",
       "      <td>82485</td>\n",
       "      <td>{'gender': 'M', 'first_name': 'Alexei', 'last_...</td>\n",
       "    </tr>\n",
       "    <tr>\n",
       "      <th>4</th>\n",
       "      <td>customer</td>\n",
       "      <td>56609</td>\n",
       "      <td>{'gender': 'F', 'first_name': 'Brenda', 'last_...</td>\n",
       "    </tr>\n",
       "    <tr>\n",
       "      <th>...</th>\n",
       "      <td>...</td>\n",
       "      <td>...</td>\n",
       "      <td>...</td>\n",
       "    </tr>\n",
       "    <tr>\n",
       "      <th>595</th>\n",
       "      <td>supplier</td>\n",
       "      <td>90256</td>\n",
       "      <td>{'supplier_name': 'Förster', 'country': 'Ethio...</td>\n",
       "    </tr>\n",
       "    <tr>\n",
       "      <th>596</th>\n",
       "      <td>supplier</td>\n",
       "      <td>35266</td>\n",
       "      <td>{'supplier_name': 'Gotthard Zahn GmbH', 'count...</td>\n",
       "    </tr>\n",
       "    <tr>\n",
       "      <th>597</th>\n",
       "      <td>supplier</td>\n",
       "      <td>52647</td>\n",
       "      <td>{'supplier_name': 'Cook-Webb', 'country': 'Mor...</td>\n",
       "    </tr>\n",
       "    <tr>\n",
       "      <th>598</th>\n",
       "      <td>supplier</td>\n",
       "      <td>13355</td>\n",
       "      <td>{'supplier_name': 'Shah-Lowe', 'country': 'Cen...</td>\n",
       "    </tr>\n",
       "    <tr>\n",
       "      <th>599</th>\n",
       "      <td>supplier</td>\n",
       "      <td>48467</td>\n",
       "      <td>{'supplier_name': 'Brandt Ltd', 'country': 'An...</td>\n",
       "    </tr>\n",
       "  </tbody>\n",
       "</table>\n",
       "<p>600 rows × 3 columns</p>\n",
       "</div>"
      ],
      "text/plain": [
       "        Label     ID                                         Attributes\n",
       "0    customer  33736  {'gender': 'F', 'first_name': 'Nadia', 'last_n...\n",
       "1    customer  42959  {'gender': 'M', 'first_name': 'Eric', 'last_na...\n",
       "2    customer  50653  {'gender': 'F', 'first_name': 'Alessia', 'last...\n",
       "3    customer  82485  {'gender': 'M', 'first_name': 'Alexei', 'last_...\n",
       "4    customer  56609  {'gender': 'F', 'first_name': 'Brenda', 'last_...\n",
       "..        ...    ...                                                ...\n",
       "595  supplier  90256  {'supplier_name': 'Förster', 'country': 'Ethio...\n",
       "596  supplier  35266  {'supplier_name': 'Gotthard Zahn GmbH', 'count...\n",
       "597  supplier  52647  {'supplier_name': 'Cook-Webb', 'country': 'Mor...\n",
       "598  supplier  13355  {'supplier_name': 'Shah-Lowe', 'country': 'Cen...\n",
       "599  supplier  48467  {'supplier_name': 'Brandt Ltd', 'country': 'An...\n",
       "\n",
       "[600 rows x 3 columns]"
      ]
     },
     "execution_count": 31,
     "metadata": {},
     "output_type": "execute_result"
    }
   ],
   "source": [
    "nodesTable = add_nodes(nodes,nodesTable)\n",
    "nodesTable"
   ]
  },
  {
   "cell_type": "markdown",
   "id": "92bfeb8a",
   "metadata": {
    "id": "92bfeb8a"
   },
   "source": [
    "### Create Edges Table"
   ]
  },
  {
   "cell_type": "code",
   "execution_count": 32,
   "id": "243aacff",
   "metadata": {
    "colab": {
     "base_uri": "https://localhost:8080/",
     "height": 424
    },
    "id": "243aacff",
    "outputId": "4aa0f919-0ceb-466f-b768-fe040f2f78c0"
   },
   "outputs": [
    {
     "data": {
      "text/html": [
       "<div>\n",
       "<style scoped>\n",
       "    .dataframe tbody tr th:only-of-type {\n",
       "        vertical-align: middle;\n",
       "    }\n",
       "\n",
       "    .dataframe tbody tr th {\n",
       "        vertical-align: top;\n",
       "    }\n",
       "\n",
       "    .dataframe thead th {\n",
       "        text-align: right;\n",
       "    }\n",
       "</style>\n",
       "<table border=\"1\" class=\"dataframe\">\n",
       "  <thead>\n",
       "    <tr style=\"text-align: right;\">\n",
       "      <th></th>\n",
       "      <th>From_Node_ID</th>\n",
       "      <th>To_Node_ID</th>\n",
       "      <th>order/service</th>\n",
       "    </tr>\n",
       "  </thead>\n",
       "  <tbody>\n",
       "    <tr>\n",
       "      <th>0</th>\n",
       "      <td>484</td>\n",
       "      <td>140</td>\n",
       "      <td>[]</td>\n",
       "    </tr>\n",
       "    <tr>\n",
       "      <th>1</th>\n",
       "      <td>426</td>\n",
       "      <td>72</td>\n",
       "      <td>[{'ExtServ_id': 8658, 'placed_when': '1998-06-...</td>\n",
       "    </tr>\n",
       "    <tr>\n",
       "      <th>2</th>\n",
       "      <td>465</td>\n",
       "      <td>2</td>\n",
       "      <td>[]</td>\n",
       "    </tr>\n",
       "    <tr>\n",
       "      <th>3</th>\n",
       "      <td>374</td>\n",
       "      <td>137</td>\n",
       "      <td>[]</td>\n",
       "    </tr>\n",
       "    <tr>\n",
       "      <th>4</th>\n",
       "      <td>475</td>\n",
       "      <td>92</td>\n",
       "      <td>[{'ExtServ_id': 7764, 'placed_when': '1973-08-...</td>\n",
       "    </tr>\n",
       "    <tr>\n",
       "      <th>...</th>\n",
       "      <td>...</td>\n",
       "      <td>...</td>\n",
       "      <td>...</td>\n",
       "    </tr>\n",
       "    <tr>\n",
       "      <th>395</th>\n",
       "      <td>459</td>\n",
       "      <td>348</td>\n",
       "      <td>[{'IntOrders_id': 2751, 'quantity': 734, 'plac...</td>\n",
       "    </tr>\n",
       "    <tr>\n",
       "      <th>396</th>\n",
       "      <td>321</td>\n",
       "      <td>471</td>\n",
       "      <td>[{'IntOrders_id': 1084, 'quantity': 784, 'plac...</td>\n",
       "    </tr>\n",
       "    <tr>\n",
       "      <th>397</th>\n",
       "      <td>343</td>\n",
       "      <td>351</td>\n",
       "      <td>[{'IntOrders_id': 4939, 'quantity': 819, 'plac...</td>\n",
       "    </tr>\n",
       "    <tr>\n",
       "      <th>398</th>\n",
       "      <td>321</td>\n",
       "      <td>394</td>\n",
       "      <td>[{'IntOrders_id': 6448, 'quantity': 712, 'plac...</td>\n",
       "    </tr>\n",
       "    <tr>\n",
       "      <th>399</th>\n",
       "      <td>306</td>\n",
       "      <td>596</td>\n",
       "      <td>[{'IntOrders_id': 5094, 'quantity': 255, 'plac...</td>\n",
       "    </tr>\n",
       "  </tbody>\n",
       "</table>\n",
       "<p>400 rows × 3 columns</p>\n",
       "</div>"
      ],
      "text/plain": [
       "    From_Node_ID To_Node_ID                                      order/service\n",
       "0            484        140                                                 []\n",
       "1            426         72  [{'ExtServ_id': 8658, 'placed_when': '1998-06-...\n",
       "2            465          2                                                 []\n",
       "3            374        137                                                 []\n",
       "4            475         92  [{'ExtServ_id': 7764, 'placed_when': '1973-08-...\n",
       "..           ...        ...                                                ...\n",
       "395          459        348  [{'IntOrders_id': 2751, 'quantity': 734, 'plac...\n",
       "396          321        471  [{'IntOrders_id': 1084, 'quantity': 784, 'plac...\n",
       "397          343        351  [{'IntOrders_id': 4939, 'quantity': 819, 'plac...\n",
       "398          321        394  [{'IntOrders_id': 6448, 'quantity': 712, 'plac...\n",
       "399          306        596  [{'IntOrders_id': 5094, 'quantity': 255, 'plac...\n",
       "\n",
       "[400 rows x 3 columns]"
      ]
     },
     "execution_count": 32,
     "metadata": {},
     "output_type": "execute_result"
    }
   ],
   "source": [
    "edgesTable = add_edges(edges, edgesTable,pk,fk,ref_in)\n",
    "edgesTable"
   ]
  },
  {
   "cell_type": "code",
   "execution_count": 33,
   "id": "ziqKFfbOwK60",
   "metadata": {
    "id": "ziqKFfbOwK60"
   },
   "outputs": [],
   "source": [
    "# nodes_df = pd.DataFrame(columns=['Label', 'ID', 'Attributes'])\n",
    "# edges_df = pd.DataFrame(columns=['From','To'])\n",
    "all_nodes = list(nodes.keys())\n",
    "for n in range(len(nodes)):\n",
    "      for index, row in nodes[all_nodes[n]].iterrows():\n",
    "          column_names = list(nodes[all_nodes[n]].columns) #get column names\n",
    "          att = {}\n",
    "          for i in range(1, len(column_names)):\n",
    "              att[column_names[i]] = nodes[all_nodes[n]].iloc[index, i]\n",
    "          newRow = [{'Label': all_nodes[n] , 'ID': nodes[all_nodes[n]].iloc[index,0] , 'Attributes': att}]\n",
    "          tmp = pd.DataFrame(newRow)\n",
    "          nodes_df = pd.concat([nodes_df, tmp], ignore_index=True)"
   ]
  },
  {
   "cell_type": "code",
   "execution_count": 34,
   "id": "cBd3GL_EwK9t",
   "metadata": {
    "id": "cBd3GL_EwK9t"
   },
   "outputs": [],
   "source": [
    "all_edges = list(edges.keys())\n",
    "for n in range(len(edges)):\n",
    "      Edge_name = all_edges[n]\n",
    "      \n",
    "      foreign_keys = list(fk[Edge_name].keys())\n",
    "\n",
    "      from_col = foreign_keys[0]\n",
    "      from_table_name = fk[Edge_name][from_col]\n",
    "      from_df = All_dfs[from_table_name]\n",
    "      from_df_pk = pk[from_table_name]\n",
    "      \n",
    "      to_col = foreign_keys[-1]\n",
    "      to_table_name = fk[Edge_name][to_col]\n",
    "      to_df = All_dfs[to_table_name]\n",
    "      to_df_pk = pk[to_table_name]\n",
    "      \n",
    "      column_names = list(All_dfs[Edge_name].columns) #get column names\n",
    "      for index, _ in All_dfs[Edge_name].iterrows():\n",
    "          att = {}\n",
    "          from_ref_id,to_ref_id = None, None\n",
    "          \n",
    "          \n",
    "          for i in range(1, len(column_names)):\n",
    "            column_name = column_names[i]\n",
    "            \n",
    "            \n",
    "            if column_name not in foreign_keys:\n",
    "              att[column_name] = All_dfs[Edge_name].iloc[index, i]\n",
    "          \n",
    "            else:\n",
    "              reference_id = All_dfs[Edge_name].iloc[index, i]\n",
    "              if column_name == from_col:\n",
    "                # from_ref_id = from_df[from_df[from_df_pk] == reference_id].index[0]\n",
    "                from_ref_id = reference_id\n",
    "              else:\n",
    "                # to_ref_id = to_df[to_df[to_df_pk] == reference_id].index[0]\n",
    "                to_ref_id = reference_id\n",
    "\n",
    "          # Adding new entry to node tabel\n",
    "          newRow = [{'Label': Edge_name , 'ID': All_dfs[Edge_name].iloc[index,0] , 'Attributes': att}]\n",
    "          tmp = pd.DataFrame(newRow)\n",
    "          nodes_df = pd.concat([nodes_df, tmp], ignore_index=True)\n",
    "          edge_node_index = len(nodes_df)-1\n",
    "          # print(nodes_df.iloc[len(nodes_df)-1],All_dfs[Edge_name].iloc[index,0] )\n",
    "\n",
    "          # creating two edges, one from the from_node to the edge node and one from edge node to to_node\n",
    "          from_node_id = nodes_df[(nodes_df['Label']==from_table_name) &  (nodes_df['ID']==from_ref_id)].index[0]\n",
    "          to_node_id =  nodes_df[(nodes_df['Label']==to_table_name) &  (nodes_df['ID']==to_ref_id)].index[0] \n",
    "          \n",
    "          # from ---> edge \n",
    "          new_from_edge_row = [{'From': from_node_id , 'To':edge_node_index,'From_Table': from_table_name.capitalize(),'To_Table': Edge_name.capitalize() }]\n",
    "          tmp = pd.DataFrame(new_from_edge_row)\n",
    "          edges_df = pd.concat([edges_df, tmp], ignore_index=True)\n",
    "          # edge --->to\n",
    "          new_to_edge_row = [{'From': edge_node_index , 'To':  to_node_id, 'From_Table':Edge_name.capitalize(), 'To_Table': to_table_name.capitalize()}]\n",
    "          tmp = pd.DataFrame(new_to_edge_row)\n",
    "          edges_df = pd.concat([edges_df, tmp], ignore_index=True)\n",
    "\n"
   ]
  },
  {
   "cell_type": "code",
   "execution_count": 35,
   "id": "JjImjta5GIKZ",
   "metadata": {
    "id": "JjImjta5GIKZ"
   },
   "outputs": [],
   "source": [
    "all_properties = list(properties.keys())\n",
    "for property_name in all_properties:\n",
    "  property_df = All_dfs[property_name]\n",
    "      \n",
    "  foreign_keys = list(fk[property_name].keys())\n",
    "\n",
    "  fk_col = foreign_keys[0]\n",
    "  referenced_table_name = fk[property_name][fk_col]\n",
    "  referenced_table_df = All_dfs[referenced_table_name]\n",
    "  referenced_table_pk = pk[referenced_table_name]\n",
    "  \n",
    "  column_names = list(property_df.columns) #get column names\n",
    "  \n",
    "  for index, _ in property_df.iterrows():    \n",
    "      att = {}\n",
    "      reference_id = None;      \n",
    "      \n",
    "      for i in range(1, len(column_names)):\n",
    "        column_name = column_names[i]\n",
    "        \n",
    "        \n",
    "        if column_name not in foreign_keys:\n",
    "          att[column_name] = property_df.iloc[index, i]\n",
    "      \n",
    "        else:\n",
    "          # capturing foreign key value\n",
    "          reference_id = property_df.iloc[index, i]\n",
    "\n",
    "      # Adding new entry to node tabel\n",
    "      newRow = [{'Label': property_name , 'ID': property_df.iloc[index,0] , 'Attributes': att}]\n",
    "      tmp = pd.DataFrame(newRow)\n",
    "      nodes_df = pd.concat([nodes_df, tmp], ignore_index=True)\n",
    "      property_node_index = len(nodes_df)-1\n",
    "      # print(nodes_df.iloc[len(nodes_df)-1],property_df.iloc[index,0] )\n",
    "\n",
    "      # creating two edges, one from the from_node to the edge node and one from edge node to to_node\n",
    "      referenced_node_id = nodes_df[(nodes_df['Label']==referenced_table_name) &  (nodes_df['ID']==reference_id)].index[0] \n",
    "      \n",
    "      new_property_edge_row = [{'From': referenced_node_id , 'To':  property_node_index,'From_Table':referenced_table_name.capitalize(), 'To_Table': property_name.capitalize()}]\n",
    "      tmp = pd.DataFrame(new_property_edge_row)\n",
    "      edges_df = pd.concat([edges_df, tmp], ignore_index=True)\n",
    "\n"
   ]
  },
  {
   "cell_type": "code",
   "execution_count": 36,
   "id": "2011c1c0",
   "metadata": {},
   "outputs": [],
   "source": [
    "# draw_graph_pyvis(nodes_df,edges_df)"
   ]
  },
  {
   "cell_type": "markdown",
   "id": "c0073eb5",
   "metadata": {},
   "source": [
    "[Neo 4j Function](#Neo4jFunction)\n"
   ]
  },
  {
   "cell_type": "markdown",
   "id": "9db321d8",
   "metadata": {},
   "source": [
    "<a id=\"Neo4jCall\"></a>"
   ]
  },
  {
   "cell_type": "code",
   "execution_count": 40,
   "id": "173378a9",
   "metadata": {},
   "outputs": [
    {
     "name": "stdout",
     "output_type": "stream",
     "text": [
      "CREATE (x:externaltransactions {name: \"Externaltransactions_2611\",index:600,ID:2611 , })\n",
      "CREATE (x:externaltransactions {name: \"Externaltransactions_7858\",index:601,ID:7858 , })\n",
      "CREATE (x:externaltransactions {name: \"Externaltransactions_4247\",index:602,ID:4247 , })\n",
      "CREATE (x:externaltransactions {name: \"Externaltransactions_2530\",index:603,ID:2530 , })\n",
      "CREATE (x:externaltransactions {name: \"Externaltransactions_3381\",index:604,ID:3381 , })\n",
      "CREATE (x:externaltransactions {name: \"Externaltransactions_2789\",index:605,ID:2789 , })\n",
      "CREATE (x:externaltransactions {name: \"Externaltransactions_1733\",index:606,ID:1733 , })\n",
      "CREATE (x:externaltransactions {name: \"Externaltransactions_7320\",index:607,ID:7320 , })\n",
      "CREATE (x:externaltransactions {name: \"Externaltransactions_7832\",index:608,ID:7832 , })\n",
      "CREATE (x:externaltransactions {name: \"Externaltransactions_3849\",index:609,ID:3849 , })\n",
      "CREATE (x:externaltransactions {name: \"Externaltransactions_2655\",index:610,ID:2655 , })\n",
      "CREATE (x:externaltransactions {name: \"Externaltransactions_7454\",index:611,ID:7454 , })\n",
      "CREATE (x:externaltransactions {name: \"Externaltransactions_5407\",index:612,ID:5407 , })\n",
      "CREATE (x:externaltransactions {name: \"Externaltransactions_8813\",index:613,ID:8813 , })\n",
      "CREATE (x:externaltransactions {name: \"Externaltransactions_6163\",index:614,ID:6163 , })\n",
      "CREATE (x:externaltransactions {name: \"Externaltransactions_7226\",index:615,ID:7226 , })\n",
      "CREATE (x:externaltransactions {name: \"Externaltransactions_6696\",index:616,ID:6696 , })\n",
      "CREATE (x:externaltransactions {name: \"Externaltransactions_9153\",index:617,ID:9153 , })\n",
      "CREATE (x:externaltransactions {name: \"Externaltransactions_9795\",index:618,ID:9795 , })\n",
      "CREATE (x:externaltransactions {name: \"Externaltransactions_5702\",index:619,ID:5702 , })\n",
      "CREATE (x:externaltransactions {name: \"Externaltransactions_6970\",index:620,ID:6970 , })\n",
      "CREATE (x:externaltransactions {name: \"Externaltransactions_6214\",index:621,ID:6214 , })\n",
      "CREATE (x:externaltransactions {name: \"Externaltransactions_8124\",index:622,ID:8124 , })\n",
      "CREATE (x:externaltransactions {name: \"Externaltransactions_7236\",index:623,ID:7236 , })\n",
      "CREATE (x:externaltransactions {name: \"Externaltransactions_5260\",index:624,ID:5260 , })\n",
      "CREATE (x:externaltransactions {name: \"Externaltransactions_8383\",index:625,ID:8383 , })\n",
      "CREATE (x:externaltransactions {name: \"Externaltransactions_1030\",index:626,ID:1030 , })\n",
      "CREATE (x:externaltransactions {name: \"Externaltransactions_4561\",index:627,ID:4561 , })\n",
      "CREATE (x:externaltransactions {name: \"Externaltransactions_8815\",index:628,ID:8815 , })\n",
      "CREATE (x:externaltransactions {name: \"Externaltransactions_8157\",index:629,ID:8157 , })\n",
      "CREATE (x:externaltransactions {name: \"Externaltransactions_3686\",index:630,ID:3686 , })\n",
      "CREATE (x:externaltransactions {name: \"Externaltransactions_9808\",index:631,ID:9808 , })\n",
      "CREATE (x:externaltransactions {name: \"Externaltransactions_4703\",index:632,ID:4703 , })\n",
      "CREATE (x:externaltransactions {name: \"Externaltransactions_2345\",index:633,ID:2345 , })\n",
      "CREATE (x:externaltransactions {name: \"Externaltransactions_4876\",index:634,ID:4876 , })\n",
      "CREATE (x:externaltransactions {name: \"Externaltransactions_3766\",index:635,ID:3766 , })\n",
      "CREATE (x:externaltransactions {name: \"Externaltransactions_3134\",index:636,ID:3134 , })\n",
      "CREATE (x:externaltransactions {name: \"Externaltransactions_5427\",index:637,ID:5427 , })\n",
      "CREATE (x:externaltransactions {name: \"Externaltransactions_9134\",index:638,ID:9134 , })\n",
      "CREATE (x:externaltransactions {name: \"Externaltransactions_7378\",index:639,ID:7378 , })\n",
      "CREATE (x:externaltransactions {name: \"Externaltransactions_1784\",index:640,ID:1784 , })\n",
      "CREATE (x:externaltransactions {name: \"Externaltransactions_6347\",index:641,ID:6347 , })\n",
      "CREATE (x:externaltransactions {name: \"Externaltransactions_9300\",index:642,ID:9300 , })\n",
      "CREATE (x:externaltransactions {name: \"Externaltransactions_5956\",index:643,ID:5956 , })\n",
      "CREATE (x:externaltransactions {name: \"Externaltransactions_6322\",index:644,ID:6322 , })\n",
      "CREATE (x:externaltransactions {name: \"Externaltransactions_5374\",index:645,ID:5374 , })\n",
      "CREATE (x:externaltransactions {name: \"Externaltransactions_4297\",index:646,ID:4297 , })\n",
      "CREATE (x:externaltransactions {name: \"Externaltransactions_7943\",index:647,ID:7943 , })\n",
      "CREATE (x:externaltransactions {name: \"Externaltransactions_5881\",index:648,ID:5881 , })\n",
      "CREATE (x:externaltransactions {name: \"Externaltransactions_8961\",index:649,ID:8961 , })\n",
      "CREATE (x:externaltransactions {name: \"Externaltransactions_1796\",index:650,ID:1796 , })\n",
      "CREATE (x:externaltransactions {name: \"Externaltransactions_1756\",index:651,ID:1756 , })\n",
      "CREATE (x:externaltransactions {name: \"Externaltransactions_7334\",index:652,ID:7334 , })\n",
      "CREATE (x:externaltransactions {name: \"Externaltransactions_7929\",index:653,ID:7929 , })\n",
      "CREATE (x:externaltransactions {name: \"Externaltransactions_3530\",index:654,ID:3530 , })\n",
      "CREATE (x:externaltransactions {name: \"Externaltransactions_6574\",index:655,ID:6574 , })\n",
      "CREATE (x:externaltransactions {name: \"Externaltransactions_6912\",index:656,ID:6912 , })\n",
      "CREATE (x:externaltransactions {name: \"Externaltransactions_6793\",index:657,ID:6793 , })\n",
      "CREATE (x:externaltransactions {name: \"Externaltransactions_6628\",index:658,ID:6628 , })\n",
      "CREATE (x:externaltransactions {name: \"Externaltransactions_6092\",index:659,ID:6092 , })\n",
      "CREATE (x:externaltransactions {name: \"Externaltransactions_6663\",index:660,ID:6663 , })\n",
      "CREATE (x:externaltransactions {name: \"Externaltransactions_9598\",index:661,ID:9598 , })\n",
      "CREATE (x:externaltransactions {name: \"Externaltransactions_4235\",index:662,ID:4235 , })\n",
      "CREATE (x:externaltransactions {name: \"Externaltransactions_6055\",index:663,ID:6055 , })\n",
      "CREATE (x:externaltransactions {name: \"Externaltransactions_7443\",index:664,ID:7443 , })\n",
      "CREATE (x:externaltransactions {name: \"Externaltransactions_5176\",index:665,ID:5176 , })\n",
      "CREATE (x:externaltransactions {name: \"Externaltransactions_5334\",index:666,ID:5334 , })\n",
      "CREATE (x:externaltransactions {name: \"Externaltransactions_1822\",index:667,ID:1822 , })\n",
      "CREATE (x:externaltransactions {name: \"Externaltransactions_5023\",index:668,ID:5023 , })\n",
      "CREATE (x:externaltransactions {name: \"Externaltransactions_9156\",index:669,ID:9156 , })\n",
      "CREATE (x:externaltransactions {name: \"Externaltransactions_7892\",index:670,ID:7892 , })\n",
      "CREATE (x:externaltransactions {name: \"Externaltransactions_3549\",index:671,ID:3549 , })\n",
      "CREATE (x:externaltransactions {name: \"Externaltransactions_1532\",index:672,ID:1532 , })\n",
      "CREATE (x:externaltransactions {name: \"Externaltransactions_8014\",index:673,ID:8014 , })\n",
      "CREATE (x:externaltransactions {name: \"Externaltransactions_4294\",index:674,ID:4294 , })\n",
      "CREATE (x:externaltransactions {name: \"Externaltransactions_5442\",index:675,ID:5442 , })\n",
      "CREATE (x:externaltransactions {name: \"Externaltransactions_7255\",index:676,ID:7255 , })\n",
      "CREATE (x:externaltransactions {name: \"Externaltransactions_4662\",index:677,ID:4662 , })\n",
      "CREATE (x:externaltransactions {name: \"Externaltransactions_4680\",index:678,ID:4680 , })\n",
      "CREATE (x:externaltransactions {name: \"Externaltransactions_6431\",index:679,ID:6431 , })\n",
      "CREATE (x:externaltransactions {name: \"Externaltransactions_9057\",index:680,ID:9057 , })\n",
      "CREATE (x:externaltransactions {name: \"Externaltransactions_8003\",index:681,ID:8003 , })\n",
      "CREATE (x:externaltransactions {name: \"Externaltransactions_2285\",index:682,ID:2285 , })\n",
      "CREATE (x:externaltransactions {name: \"Externaltransactions_2466\",index:683,ID:2466 , })\n",
      "CREATE (x:externaltransactions {name: \"Externaltransactions_8367\",index:684,ID:8367 , })\n",
      "CREATE (x:externaltransactions {name: \"Externaltransactions_2603\",index:685,ID:2603 , })\n",
      "CREATE (x:externaltransactions {name: \"Externaltransactions_1217\",index:686,ID:1217 , })\n",
      "CREATE (x:externaltransactions {name: \"Externaltransactions_5644\",index:687,ID:5644 , })\n",
      "CREATE (x:externaltransactions {name: \"Externaltransactions_6889\",index:688,ID:6889 , })\n",
      "CREATE (x:externaltransactions {name: \"Externaltransactions_8838\",index:689,ID:8838 , })\n",
      "CREATE (x:externaltransactions {name: \"Externaltransactions_3053\",index:690,ID:3053 , })\n",
      "CREATE (x:externaltransactions {name: \"Externaltransactions_8650\",index:691,ID:8650 , })\n",
      "CREATE (x:externaltransactions {name: \"Externaltransactions_3325\",index:692,ID:3325 , })\n",
      "CREATE (x:externaltransactions {name: \"Externaltransactions_3720\",index:693,ID:3720 , })\n",
      "CREATE (x:externaltransactions {name: \"Externaltransactions_9431\",index:694,ID:9431 , })\n",
      "CREATE (x:externaltransactions {name: \"Externaltransactions_9232\",index:695,ID:9232 , })\n",
      "CREATE (x:externaltransactions {name: \"Externaltransactions_8429\",index:696,ID:8429 , })\n",
      "CREATE (x:externaltransactions {name: \"Externaltransactions_4926\",index:697,ID:4926 , })\n",
      "CREATE (x:externaltransactions {name: \"Externaltransactions_6209\",index:698,ID:6209 , })\n",
      "CREATE (x:externaltransactions {name: \"Externaltransactions_8719\",index:699,ID:8719 , })\n"
     ]
    },
    {
     "ename": "CypherSyntaxError",
     "evalue": "Invalid input '}': expected an identifier (line 1, column 87 (offset: 86))\r\n\"CREATE (x:externaltransactions {name: \"Externaltransactions_2611\",index:600,ID:2611 , })\"\r\n                                                                                       ^",
     "output_type": "error",
     "traceback": [
      "\u001b[1;31m---------------------------------------------------------------------------\u001b[0m",
      "\u001b[1;31mCypherSyntaxError\u001b[0m                         Traceback (most recent call last)",
      "Input \u001b[1;32mIn [40]\u001b[0m, in \u001b[0;36m<cell line: 1>\u001b[1;34m()\u001b[0m\n\u001b[1;32m----> 1\u001b[0m \u001b[43mdraw_graph_Neo4j\u001b[49m\u001b[43m(\u001b[49m\u001b[43mnodes_df\u001b[49m\u001b[38;5;241;43m.\u001b[39;49m\u001b[43mquery\u001b[49m\u001b[43m(\u001b[49m\u001b[38;5;124;43m\"\u001b[39;49m\u001b[38;5;124;43mLabel == \u001b[39;49m\u001b[38;5;124;43m'\u001b[39;49m\u001b[38;5;124;43mexternaltransactions\u001b[39;49m\u001b[38;5;124;43m'\u001b[39;49m\u001b[38;5;124;43m \u001b[39;49m\u001b[38;5;124;43m\"\u001b[39;49m\u001b[43m)\u001b[49m\u001b[43m,\u001b[49m\u001b[43medges_df\u001b[49m\u001b[43m)\u001b[49m\n",
      "Input \u001b[1;32mIn [38]\u001b[0m, in \u001b[0;36mdraw_graph_Neo4j\u001b[1;34m(nodes_table, edges_table)\u001b[0m\n\u001b[0;32m     12\u001b[0m         transaction_execution_commands\u001b[38;5;241m.\u001b[39mappend(neo4j_create_statement)\n\u001b[0;32m     14\u001b[0m \u001b[38;5;66;03m#     for i, edge in edges_table.iterrows():\u001b[39;00m\n\u001b[0;32m     15\u001b[0m \u001b[38;5;66;03m#         from_node_id = edge['From']\u001b[39;00m\n\u001b[0;32m     16\u001b[0m \u001b[38;5;66;03m#         to_node_id = edge['To']\u001b[39;00m\n\u001b[1;32m   (...)\u001b[0m\n\u001b[0;32m     19\u001b[0m \u001b[38;5;66;03m#         neo4j_create_statement = create_relation_statement(from_node_id,to_node_id,from_node_name,to_node_name)\u001b[39;00m\n\u001b[0;32m     20\u001b[0m \u001b[38;5;66;03m#         transaction_execution_commands.append(neo4j_create_statement)\u001b[39;00m\n\u001b[1;32m---> 23\u001b[0m     \u001b[43mexecute_transactions\u001b[49m\u001b[43m(\u001b[49m\u001b[43mtransaction_execution_commands\u001b[49m\u001b[43m)\u001b[49m\n",
      "Input \u001b[1;32mIn [11]\u001b[0m, in \u001b[0;36mexecute_transactions\u001b[1;34m(transaction_execution_commands)\u001b[0m\n\u001b[0;32m      3\u001b[0m session \u001b[38;5;241m=\u001b[39m data_base_connection\u001b[38;5;241m.\u001b[39msession()    \n\u001b[0;32m      4\u001b[0m \u001b[38;5;28;01mfor\u001b[39;00m i \u001b[38;5;129;01min\u001b[39;00m transaction_execution_commands:\n\u001b[1;32m----> 5\u001b[0m     \u001b[43msession\u001b[49m\u001b[38;5;241;43m.\u001b[39;49m\u001b[43mrun\u001b[49m\u001b[43m(\u001b[49m\u001b[43mi\u001b[49m\u001b[43m)\u001b[49m\n",
      "File \u001b[1;32mC:\\ProgramData\\Anaconda3\\lib\\site-packages\\neo4j\\work\\simple.py:215\u001b[0m, in \u001b[0;36mSession.run\u001b[1;34m(self, query, parameters, **kwparameters)\u001b[0m\n\u001b[0;32m    209\u001b[0m hydrant \u001b[38;5;241m=\u001b[39m DataHydrator(patch_utc\u001b[38;5;241m=\u001b[39m\u001b[38;5;124m\"\u001b[39m\u001b[38;5;124mutc\u001b[39m\u001b[38;5;124m\"\u001b[39m \u001b[38;5;129;01min\u001b[39;00m cx\u001b[38;5;241m.\u001b[39mbolt_patches)\n\u001b[0;32m    211\u001b[0m \u001b[38;5;28mself\u001b[39m\u001b[38;5;241m.\u001b[39m_autoResult \u001b[38;5;241m=\u001b[39m Result(\n\u001b[0;32m    212\u001b[0m     cx, hydrant, \u001b[38;5;28mself\u001b[39m\u001b[38;5;241m.\u001b[39m_config\u001b[38;5;241m.\u001b[39mfetch_size, \u001b[38;5;28mself\u001b[39m\u001b[38;5;241m.\u001b[39m_result_closed,\n\u001b[0;32m    213\u001b[0m     \u001b[38;5;28mself\u001b[39m\u001b[38;5;241m.\u001b[39m_result_error\n\u001b[0;32m    214\u001b[0m )\n\u001b[1;32m--> 215\u001b[0m \u001b[38;5;28mself\u001b[39m\u001b[38;5;241m.\u001b[39m_autoResult\u001b[38;5;241m.\u001b[39m_run(\n\u001b[0;32m    216\u001b[0m     query, parameters, \u001b[38;5;28mself\u001b[39m\u001b[38;5;241m.\u001b[39m_config\u001b[38;5;241m.\u001b[39mdatabase,\n\u001b[0;32m    217\u001b[0m     \u001b[38;5;28mself\u001b[39m\u001b[38;5;241m.\u001b[39m_config\u001b[38;5;241m.\u001b[39mimpersonated_user, \u001b[38;5;28mself\u001b[39m\u001b[38;5;241m.\u001b[39m_config\u001b[38;5;241m.\u001b[39mdefault_access_mode,\n\u001b[0;32m    218\u001b[0m     \u001b[38;5;28mself\u001b[39m\u001b[38;5;241m.\u001b[39m_bookmarks, \u001b[38;5;241m*\u001b[39m\u001b[38;5;241m*\u001b[39mkwparameters\n\u001b[0;32m    219\u001b[0m )\n\u001b[0;32m    221\u001b[0m \u001b[38;5;28;01mreturn\u001b[39;00m \u001b[38;5;28mself\u001b[39m\u001b[38;5;241m.\u001b[39m_autoResult\n",
      "File \u001b[1;32mC:\\ProgramData\\Anaconda3\\lib\\site-packages\\neo4j\\work\\result.py:117\u001b[0m, in \u001b[0;36mResult._run\u001b[1;34m(self, query, parameters, db, imp_user, access_mode, bookmarks, **kwparameters)\u001b[0m\n\u001b[0;32m    115\u001b[0m \u001b[38;5;28mself\u001b[39m\u001b[38;5;241m.\u001b[39m_pull()\n\u001b[0;32m    116\u001b[0m \u001b[38;5;28mself\u001b[39m\u001b[38;5;241m.\u001b[39m_connection\u001b[38;5;241m.\u001b[39msend_all()\n\u001b[1;32m--> 117\u001b[0m \u001b[38;5;28;43mself\u001b[39;49m\u001b[38;5;241;43m.\u001b[39;49m\u001b[43m_attach\u001b[49m\u001b[43m(\u001b[49m\u001b[43m)\u001b[49m\n",
      "File \u001b[1;32mC:\\ProgramData\\Anaconda3\\lib\\site-packages\\neo4j\\work\\result.py:206\u001b[0m, in \u001b[0;36mResult._attach\u001b[1;34m(self)\u001b[0m\n\u001b[0;32m    204\u001b[0m \u001b[38;5;28;01mif\u001b[39;00m \u001b[38;5;28mself\u001b[39m\u001b[38;5;241m.\u001b[39m_closed \u001b[38;5;129;01mis\u001b[39;00m \u001b[38;5;28;01mFalse\u001b[39;00m:\n\u001b[0;32m    205\u001b[0m     \u001b[38;5;28;01mwhile\u001b[39;00m \u001b[38;5;28mself\u001b[39m\u001b[38;5;241m.\u001b[39m_attached \u001b[38;5;129;01mis\u001b[39;00m \u001b[38;5;28;01mFalse\u001b[39;00m:\n\u001b[1;32m--> 206\u001b[0m         \u001b[38;5;28;43mself\u001b[39;49m\u001b[38;5;241;43m.\u001b[39;49m\u001b[43m_connection\u001b[49m\u001b[38;5;241;43m.\u001b[39;49m\u001b[43mfetch_message\u001b[49m\u001b[43m(\u001b[49m\u001b[43m)\u001b[49m\n",
      "File \u001b[1;32mC:\\ProgramData\\Anaconda3\\lib\\site-packages\\neo4j\\io\\_common.py:188\u001b[0m, in \u001b[0;36mConnectionErrorHandler.__getattr__.<locals>.outer.<locals>.inner\u001b[1;34m(*args, **kwargs)\u001b[0m\n\u001b[0;32m    186\u001b[0m \u001b[38;5;28;01mdef\u001b[39;00m \u001b[38;5;21minner\u001b[39m(\u001b[38;5;241m*\u001b[39margs, \u001b[38;5;241m*\u001b[39m\u001b[38;5;241m*\u001b[39mkwargs):\n\u001b[0;32m    187\u001b[0m     \u001b[38;5;28;01mtry\u001b[39;00m:\n\u001b[1;32m--> 188\u001b[0m         func(\u001b[38;5;241m*\u001b[39margs, \u001b[38;5;241m*\u001b[39m\u001b[38;5;241m*\u001b[39mkwargs)\n\u001b[0;32m    189\u001b[0m     \u001b[38;5;28;01mexcept\u001b[39;00m (Neo4jError, ServiceUnavailable, SessionExpired) \u001b[38;5;28;01mas\u001b[39;00m exc:\n\u001b[0;32m    190\u001b[0m         \u001b[38;5;28mself\u001b[39m\u001b[38;5;241m.\u001b[39m__on_error(exc)\n",
      "File \u001b[1;32mC:\\ProgramData\\Anaconda3\\lib\\site-packages\\neo4j\\io\\_bolt4.py:306\u001b[0m, in \u001b[0;36mBolt4x0.fetch_message\u001b[1;34m(self)\u001b[0m\n\u001b[0;32m    304\u001b[0m \u001b[38;5;28mself\u001b[39m\u001b[38;5;241m.\u001b[39m_server_state_manager\u001b[38;5;241m.\u001b[39mstate \u001b[38;5;241m=\u001b[39m ServerStates\u001b[38;5;241m.\u001b[39mFAILED\n\u001b[0;32m    305\u001b[0m \u001b[38;5;28;01mtry\u001b[39;00m:\n\u001b[1;32m--> 306\u001b[0m     \u001b[43mresponse\u001b[49m\u001b[38;5;241;43m.\u001b[39;49m\u001b[43mon_failure\u001b[49m\u001b[43m(\u001b[49m\u001b[43msummary_metadata\u001b[49m\u001b[43m \u001b[49m\u001b[38;5;129;43;01mor\u001b[39;49;00m\u001b[43m \u001b[49m\u001b[43m{\u001b[49m\u001b[43m}\u001b[49m\u001b[43m)\u001b[49m\n\u001b[0;32m    307\u001b[0m \u001b[38;5;28;01mexcept\u001b[39;00m (ServiceUnavailable, DatabaseUnavailable):\n\u001b[0;32m    308\u001b[0m     \u001b[38;5;28;01mif\u001b[39;00m \u001b[38;5;28mself\u001b[39m\u001b[38;5;241m.\u001b[39mpool:\n",
      "File \u001b[1;32mC:\\ProgramData\\Anaconda3\\lib\\site-packages\\neo4j\\io\\_common.py:246\u001b[0m, in \u001b[0;36mResponse.on_failure\u001b[1;34m(self, metadata)\u001b[0m\n\u001b[0;32m    244\u001b[0m \u001b[38;5;28;01mif\u001b[39;00m callable(handler):\n\u001b[0;32m    245\u001b[0m     handler()\n\u001b[1;32m--> 246\u001b[0m \u001b[38;5;28;01mraise\u001b[39;00m Neo4jError\u001b[38;5;241m.\u001b[39mhydrate(\u001b[38;5;241m*\u001b[39m\u001b[38;5;241m*\u001b[39mmetadata)\n",
      "\u001b[1;31mCypherSyntaxError\u001b[0m: Invalid input '}': expected an identifier (line 1, column 87 (offset: 86))\r\n\"CREATE (x:externaltransactions {name: \"Externaltransactions_2611\",index:600,ID:2611 , })\"\r\n                                                                                       ^"
     ]
    }
   ],
   "source": [
    "draw_graph_Neo4j(nodes_df.query(\"Label == 'externaltransactions' \"),edges_df)"
   ]
  },
  {
   "cell_type": "code",
   "execution_count": null,
   "id": "c6f54012",
   "metadata": {},
   "outputs": [],
   "source": [
    "All_dfs[\"warehouses\"].isna().sum()"
   ]
  },
  {
   "cell_type": "code",
   "execution_count": null,
   "id": "bd54edeb",
   "metadata": {},
   "outputs": [],
   "source": [
    "All_dfs[\"retailer\"].iloc[14]"
   ]
  },
  {
   "cell_type": "code",
   "execution_count": null,
   "id": "8a9683bf",
   "metadata": {},
   "outputs": [],
   "source": [
    "sum_nodes = 0\n",
    "sum_edges = 0\n",
    "for key in All_dfs:\n",
    "    table_size = len(All_dfs[key])\n",
    "    print(key, table_size)\n",
    "    sum_nodes += table_size\n",
    "    if(key in all_edges):\n",
    "        sum_edges += table_size*2\n",
    "    if(key in all_properties ):\n",
    "        sum_edges += table_size\n",
    "print(\"Number Of Nodes: \",sum_nodes)\n",
    "print(\"Number Of Edges: \",sum_edges)"
   ]
  },
  {
   "cell_type": "code",
   "execution_count": null,
   "id": "29598862",
   "metadata": {},
   "outputs": [],
   "source": [
    "re.sub(\"[^\\w_]\", '', '_Aaa_s()90-9930VB-_)(*&^%^dsa_ 20_')"
   ]
  },
  {
   "cell_type": "code",
   "execution_count": null,
   "id": "c5c28133",
   "metadata": {},
   "outputs": [],
   "source": []
  },
  {
   "cell_type": "code",
   "execution_count": null,
   "id": "6dacd083",
   "metadata": {},
   "outputs": [],
   "source": [
    "type(NaN)"
   ]
  },
  {
   "cell_type": "code",
   "execution_count": null,
   "id": "e0572be9",
   "metadata": {},
   "outputs": [],
   "source": []
  }
 ],
 "metadata": {
  "colab": {
   "collapsed_sections": [],
   "name": "Copy of Data Transformation.ipynb",
   "provenance": []
  },
  "kernelspec": {
   "display_name": "Python 3 (ipykernel)",
   "language": "python",
   "name": "python3"
  },
  "language_info": {
   "codemirror_mode": {
    "name": "ipython",
    "version": 3
   },
   "file_extension": ".py",
   "mimetype": "text/x-python",
   "name": "python",
   "nbconvert_exporter": "python",
   "pygments_lexer": "ipython3",
   "version": "3.9.7"
  },
  "vscode": {
   "interpreter": {
    "hash": "ad2bdc8ecc057115af97d19610ffacc2b4e99fae6737bb82f5d7fb13d2f2c186"
   }
  }
 },
 "nbformat": 4,
 "nbformat_minor": 5
}
