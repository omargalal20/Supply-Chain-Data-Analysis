{
 "cells": [
  {
   "cell_type": "markdown",
   "id": "e0e2ddb5",
   "metadata": {},
   "source": [
    "[Section 1](#section_1)"
   ]
  },
  {
   "cell_type": "markdown",
   "id": "1c98e8ef",
   "metadata": {
    "id": "1c98e8ef"
   },
   "source": [
    "## Imports"
   ]
  },
  {
   "cell_type": "code",
   "execution_count": 5,
   "id": "db4381b1",
   "metadata": {
    "id": "db4381b1"
   },
   "outputs": [],
   "source": [
    "import pandas as pd\n",
    "import os\n",
    "import numpy as np\n",
    "from neo4j import GraphDatabase\n",
    "import re\n",
    "from functools import reduce\n",
    "import matplotlib as plt"
   ]
  },
  {
   "cell_type": "markdown",
   "id": "bcd66061",
   "metadata": {
    "id": "bcd66061"
   },
   "source": [
    "## Functions "
   ]
  },
  {
   "cell_type": "markdown",
   "id": "03d0090f",
   "metadata": {},
   "source": [
    "### Using Naming Conventions"
   ]
  },
  {
   "cell_type": "code",
   "execution_count": 5,
   "id": "b0cf02e5",
   "metadata": {},
   "outputs": [],
   "source": [
    "def convert_using_naming():\n",
    "    nodesNames = ('supplier', 'customer',  'retailer','service providers', 'distributors', 'sales channels', 'consumers', 'producers', 'vendors', 'transportation', 'wholesaler', 'distribution center', 'warehouses')\n",
    "\n",
    "    for name in list(All_dfs.keys()):\n",
    "        lowerCasedName = name.lower()\n",
    "        if(lowerCasedName in nodesNames):\n",
    "            nodes.add(lowerCasedName)"
   ]
  },
  {
   "cell_type": "markdown",
   "id": "2e5fc642",
   "metadata": {
    "id": "2e5fc642"
   },
   "source": [
    "### Find Each Table's primary key"
   ]
  },
  {
   "cell_type": "code",
   "execution_count": 6,
   "id": "a33b18f5",
   "metadata": {
    "id": "a33b18f5"
   },
   "outputs": [],
   "source": [
    "def pk_finder(name, df):\n",
    "    for i in range(len(df.columns)):\n",
    "        col = df.iloc[:,i]\n",
    "        #if(col.size == col.drop_duplicates().size):\n",
    "        if(col.nunique() == col.size):\n",
    "            pk[name] = df.columns[i] \n",
    "            break\n",
    "        "
   ]
  },
  {
   "cell_type": "markdown",
   "id": "5649ff29",
   "metadata": {
    "id": "5649ff29"
   },
   "source": [
    "### Find Each Table's foreign key\n"
   ]
  },
  {
   "cell_type": "code",
   "execution_count": 7,
   "id": "c36338f1",
   "metadata": {
    "id": "c36338f1"
   },
   "outputs": [],
   "source": [
    "def fk_finder(name, df):\n",
    "    for i in range(len(df.columns)):\n",
    "        col_name = df.columns[i]\n",
    "        col = df[col_name]\n",
    "        for j in pk: #loops on the key j = table names\n",
    "            if j != name:\n",
    "                primary_key_column = All_dfs[j][(pk[j])]\n",
    "                \n",
    "                if primary_key_column.dtype == col.dtype:\n",
    "                    status = col.isin(primary_key_column)\n",
    "                    if status[status== False].size == 0:\n",
    "                        fk[name][col_name] = j \n",
    "                        ref_in[j].add(name)\n",
    "                        break\n",
    "\n",
    "                elif (isinstance(col[0],list) and len(df[col.isin([[]])])==0 and type(primary_key_column[0]) == type(col[0][0])):\n",
    "                    status = col.explode().reset_index(drop=True).isin(primary_key_column)\n",
    "                    if status[status== False].size == 0:\n",
    "                        fk[name][col_name] = j \n",
    "                        ref_in[j].add(name)\n",
    "                        break"
   ]
  },
  {
   "cell_type": "code",
   "execution_count": 8,
   "id": "c8ba2d83",
   "metadata": {},
   "outputs": [],
   "source": [
    "# type(All_dfs[\"warehouses\"].warehouse_id[0])"
   ]
  },
  {
   "cell_type": "markdown",
   "id": "094b5a4a",
   "metadata": {
    "id": "094b5a4a"
   },
   "source": [
    "### Assign Tables to nodes or edges"
   ]
  },
  {
   "cell_type": "code",
   "execution_count": 9,
   "id": "36bc7af4",
   "metadata": {
    "id": "36bc7af4"
   },
   "outputs": [],
   "source": [
    "def nodes_edges(fk):\n",
    "    for f in fk:\n",
    "        if(f not in ['ssintorders','manufacturing']):\n",
    "            if len(fk[f]) == 2:\n",
    "                inner_dict = list(fk[f])\n",
    "                edges.add(f)\n",
    "            elif len(fk[f]) == 1:\n",
    "                properties.add(f)\n",
    "            # elif len(fk[f]) == 0:\n",
    "            #     nodes.add(f)\n"
   ]
  },
  {
   "cell_type": "markdown",
   "id": "83acb674",
   "metadata": {
    "id": "83acb674"
   },
   "source": [
    "### Create Nodes Table"
   ]
  },
  {
   "cell_type": "code",
   "execution_count": 10,
   "id": "62f17479",
   "metadata": {
    "id": "62f17479"
   },
   "outputs": [],
   "source": [
    "def add_nodes(nodes, nodesTable):\n",
    "    for node in nodes:\n",
    "#     for n in range(len(nodes)):\n",
    "        column_names = list(All_dfs[node].columns) #get column names\n",
    "        for index,row in All_dfs[node].iterrows():\n",
    "#         for index, row in nodes[list(nodes.keys())[n]].iterrows():\n",
    "            \n",
    "            att = {}\n",
    "            for i in range(1, len(column_names)):\n",
    "                att[column_names[i]] = All_dfs[node].iloc[index, i]\n",
    "#                 att[column_names[i]] = nodes[list(nodes.keys())[n]].iloc[index, i]\n",
    "                \n",
    "            newRow = [{'Label': node , 'ID': All_dfs[node].iloc[index,0] , 'Attributes': att}]\n",
    "            tmp = pd.DataFrame(newRow)\n",
    "            nodesTable = pd.concat([nodesTable, tmp], ignore_index=True)\n",
    "    return nodesTable\n",
    "\n",
    "def add_nodesV2(nodeNames, nodesTB):\n",
    "    for node in nodeNames:\n",
    "        print(node)\n",
    "        dfNumpy =  All_dfs[node].to_numpy()\n",
    "        # All_dfs.pop(node)\n",
    "        allDfsKeys.remove(node)\n",
    "        for row in dfNumpy:\n",
    "            newRow = [{'Label': node, 'ID': row[0] , 'Attributes': row[1:]}]\n",
    "            tmp = pd.DataFrame(newRow)\n",
    "            nodesTB = pd.concat([nodesTB, tmp], ignore_index=True)\n",
    "    return nodesTB\n"
   ]
  },
  {
   "cell_type": "markdown",
   "id": "fab162b7",
   "metadata": {
    "id": "fab162b7"
   },
   "source": [
    "### Create Edges Table"
   ]
  },
  {
   "cell_type": "code",
   "execution_count": 11,
   "id": "7193efa5",
   "metadata": {
    "id": "7193efa5"
   },
   "outputs": [],
   "source": [
    "def add_edges(edges,edgesTable,pk,fk,ref_in):\n",
    "    \n",
    "    for e in edges:\n",
    "        df = All_dfs[e] #df of the cur edge\n",
    "        for r in range(len(df)):\n",
    "            label = list(fk[e].keys())\n",
    "            from_id = nodesTable[(nodesTable[\"Label\"] == fk[e][label[0]]) & (df.loc[r,label[0]] == nodesTable[\"ID\"])]\n",
    "            from_id = from_id.index[0]\n",
    "            to_id = nodesTable[(nodesTable[\"Label\"] == fk[e][label[1]]) & (df.loc[r,label[1]] == nodesTable[\"ID\"])]\n",
    "            to_id = to_id.index[0]\n",
    "            pk_col = pk[e]\n",
    "#             primary_key = df[pk_col].iloc[r]\n",
    "            primary_key = df.loc[r,pk_col]\n",
    "            att = convert_prop(ref_in,e,primary_key,fk)\n",
    "            newRow = [{'From_Node_ID': from_id, 'To_Node_ID': to_id, 'order/service' : att}]\n",
    "            tmp = pd.DataFrame(newRow)\n",
    "            edgesTable = pd.concat([edgesTable, tmp], ignore_index=True)\n",
    "    return edgesTable\n",
    "\n",
    "def add_edgesV2(edges,edgesTable,pk,fk,ref_in):\n",
    "    for e in edges:\n",
    "        df = All_dfs[e] #df of the cur edge\n",
    "        dfNumpy =  df.to_numpy()\n",
    "        for row in dfNumpy:\n",
    "            label = list(edges[e].keys())\n",
    "            indexOfFromColumn =  list(df.columns).index(label[0])\n",
    "            from_id = nodesTableV1[(nodesTableV1[\"Label\"] == edges[e][label[0]]) & (row[indexOfFromColumn] == nodesTableV1[\"ID\"])]\n",
    "            from_id = from_id.index[0]\n",
    "            indexToFromColumn =  list(df.columns).index(label[1])\n",
    "            to_id = nodesTableV1[(nodesTableV1[\"Label\"] == edges[e][label[1]]) & (row[indexToFromColumn] == nodesTableV1[\"ID\"])]\n",
    "            to_id = to_id.index[0]\n",
    "            pk_col = pk[e]\n",
    "            primary_key = row[list(df.columns).index(pk_col)]\n",
    "            att = convert_prop(ref_in,e,primary_key,fk)\n",
    "            newRow = [{'From_Node_ID': from_id, 'To_Node_ID': to_id, 'order/service' : att}]\n",
    "            tmp = pd.DataFrame(newRow)\n",
    "            edgesTableV1 = pd.concat([edgesTableV1, tmp], ignore_index=True)\n",
    "    return edgesTable"
   ]
  },
  {
   "cell_type": "markdown",
   "id": "b212538d",
   "metadata": {
    "id": "b212538d"
   },
   "source": [
    "### Properties of the Edge"
   ]
  },
  {
   "cell_type": "code",
   "execution_count": 12,
   "id": "4829dbe7",
   "metadata": {
    "id": "4829dbe7"
   },
   "outputs": [],
   "source": [
    "def convert_prop(ref_in,edge_key, pk_value,fk):\n",
    "    for referenced_table_name in ref_in[edge_key]:\n",
    "        referenced_table = All_dfs[referenced_table_name]\n",
    "        fk_of_ref_table = fk[referenced_table_name]\n",
    "        for foreign_key in fk_of_ref_table:\n",
    "            if fk_of_ref_table[foreign_key] == edge_key:\n",
    "#                 referenced_table[referenced_table[foreign_key]== id]\n",
    "                all_occurances_df = referenced_table[referenced_table[foreign_key]== pk_value].drop([foreign_key],axis=1)\n",
    "                return all_occurances_df.to_dict('records')\n",
    "                "
   ]
  },
  {
   "cell_type": "markdown",
   "id": "67c2907a",
   "metadata": {},
   "source": [
    "### generate list of n colors"
   ]
  },
  {
   "cell_type": "code",
   "execution_count": 13,
   "id": "47cb3129",
   "metadata": {},
   "outputs": [],
   "source": [
    "import random\n",
    "get_colors = lambda n: list(map(lambda i: \"#\" + \"%06x\" % random.randint(0, 0xFFFFFF),range(n)))\n",
    "# get_colors(5) # sample return:  ['#8af5da', '#fbc08c', '#b741d0', '#e599f1', '#bbcb59', '#a2a6c0']"
   ]
  },
  {
   "cell_type": "markdown",
   "id": "56580eb8",
   "metadata": {},
   "source": [
    "### Draw Pyvis graph"
   ]
  },
  {
   "cell_type": "code",
   "execution_count": 14,
   "id": "8d8a13c6",
   "metadata": {},
   "outputs": [],
   "source": [
    "def draw_graph_pyvis(nodes_table,edges_table):\n",
    "\n",
    "    nodes_name = [(x[1]+'_'+str(x[0])).capitalize() for x in zip(nodes_table.ID,nodes_table.Label)]\n",
    "    indices = list(map(lambda x: int(x),list(nodes_table.index)))\n",
    "    nodes_attributes = list(map(lambda x: str(x).replace(',',\"\\n\"),list(nodes_table.Attributes)))\n",
    "    nodes_tables = list(nodes_df.Label.unique())\n",
    "    colors = get_colors(len(nodes_name))\n",
    "    nodes_color = list(map(lambda x: colors[nodes_tables.index(x)],list(nodes_table.Label)))\n",
    "    \n",
    "    g = Network(width='100%')\n",
    "#     g.barnes_hut()\n",
    "    g.add_nodes(indices,\n",
    "                title= nodes_attributes,\n",
    "                label=nodes_name,\n",
    "                color=nodes_color,\n",
    "                )\n",
    "    for e in range(len(edges_table)):\n",
    "        src = int(edges_table.iloc[e][\"From\"])\n",
    "        dst = int(edges_table.iloc[e][\"To\"])\n",
    "        g.add_edge(src,dst,weight=5)\n",
    "\n",
    "    print(\"Number of Nodes: \",len(g.get_nodes()))\n",
    "    print(\"Number of Edges: \",len(g.get_edges()))\n",
    "    \n",
    "\n",
    "    g.show('test.html')\n",
    "\n",
    "\n"
   ]
  },
  {
   "cell_type": "markdown",
   "id": "2ea01894",
   "metadata": {},
   "source": [
    "### Draw Graph Neo4j\n",
    "\n",
    "<a id='Neo4jFunction'></a>"
   ]
  },
  {
   "cell_type": "markdown",
   "id": "0c578abb",
   "metadata": {},
   "source": [
    "[Noe4jCallFunction](#Neo4jCall)"
   ]
  },
  {
   "cell_type": "markdown",
   "id": "439e2fff",
   "metadata": {},
   "source": [
    "#### prepare satements"
   ]
  },
  {
   "cell_type": "code",
   "execution_count": 15,
   "id": "3bb78c33",
   "metadata": {},
   "outputs": [],
   "source": [
    "def draw_graph_Neo4j(nodes_table,edges_table):\n",
    "\n",
    "    transaction_execution_commands = []\n",
    "    transaction_execution_commands.append(\"match (n) detach delete n\")\n",
    "    # creating a statement for each node (row in node_table)\n",
    "    for i, node in nodes_table.iterrows():\n",
    "        label = node[\"Label\"].capitalize()\n",
    "        index = i\n",
    "        IDs = node[\"ID\"]\n",
    "        attributes = node[\"Attributes\"]\n",
    "        neo4j_create_statement = Create_Statement(label,i,IDs,attributes)\n",
    "        transaction_execution_commands.append(neo4j_create_statement)\n",
    "\n",
    "    for i, edge in edges_table.iterrows():\n",
    "\n",
    "        neo4j_create_statement = create_relation_statement(edge)\n",
    "        transaction_execution_commands.append(neo4j_create_statement)\n",
    "\n",
    "     \n",
    "    execute_transactions(transaction_execution_commands)\n",
    " "
   ]
  },
  {
   "cell_type": "markdown",
   "id": "c079d3da",
   "metadata": {},
   "source": [
    "#### Connect and execute statements"
   ]
  },
  {
   "cell_type": "code",
   "execution_count": 16,
   "id": "a9097aa2",
   "metadata": {},
   "outputs": [],
   "source": [
    "def execute_transactions(transaction_execution_commands):\n",
    "    data_base_connection = GraphDatabase.driver(uri = \"bolt://localhost:7687\", auth=(\"neo4j\", \"password\"))\n",
    "#     session = data_base_connection.session()    \n",
    "    with data_base_connection.session() as session:\n",
    "        for i in transaction_execution_commands:\n",
    "            session.execute_write(lambda tx,i: tx.run(i),i)\n",
    "            #execute_read\n",
    "\n",
    " "
   ]
  },
  {
   "cell_type": "markdown",
   "id": "1c4e8f87",
   "metadata": {},
   "source": [
    "#### Create a \"Create statement for nodes\""
   ]
  },
  {
   "cell_type": "code",
   "execution_count": 17,
   "id": "7b5dbf69",
   "metadata": {},
   "outputs": [],
   "source": [
    "def Create_Statement(label,index,IDs,attributes):\n",
    "#     att = destructure_dict(attributes)\n",
    "#     return f\"CREATE (x:{label} {'{'}name: {get_name(label,IDs)},index:{index},ID:{IDs} ,{destructure_dict(attributes)} {'}'})\"\n",
    "    att = (\", \" + destructure_dict(attributes)) if len(attributes) > 0 else \"\"\n",
    "    return f\"CREATE (x:{label} {'{'}name: {get_name(label,IDs)},index:{index},ID:{IDs} {att} {'}'})\"\n"
   ]
  },
  {
   "cell_type": "code",
   "execution_count": 18,
   "id": "7e7de542",
   "metadata": {},
   "outputs": [],
   "source": [
    "def get_name(label,ID):\n",
    "    return '\\\"' + label.capitalize()+' '+str(ID)+'\\\"'"
   ]
  },
  {
   "cell_type": "markdown",
   "id": "c17d7fa2",
   "metadata": {},
   "source": [
    "#### prepare attributes for create statement"
   ]
  },
  {
   "cell_type": "code",
   "execution_count": 19,
   "id": "c128f9c7",
   "metadata": {},
   "outputs": [],
   "source": [
    "def destructure_dict(dic):\n",
    "    s = \"\"\n",
    "    for key in dic:\n",
    "        value = dic[key]\n",
    "        if isinstance (value,str):\n",
    "            value = \"\\\"\" + value +\"\\\"\"\n",
    "        s=s + re.sub(\"[^\\w_]\", '',str(key).replace(\" \",\"_\")) + \":\" + str(value)+\",\"\n",
    "    return s[:-1]"
   ]
  },
  {
   "cell_type": "code",
   "execution_count": 20,
   "id": "78bdb262",
   "metadata": {},
   "outputs": [],
   "source": [
    "def create_relation_statement(edge):\n",
    "        from_id = edge['From']\n",
    "        to_id = edge['To']\n",
    "        from_name = edge['From_Table']\n",
    "        to_name = edge['To_Table']\n",
    "        rel_name = edge['Edge_Name']\n",
    "        w = edge['Weight']\n",
    "        return f\"Match (a:{from_name}),(b:{to_name}) WHERE a.index ={from_id} AND b.index = {to_id} CREATE (a) - [r:{rel_name} {'{ weight: '+ str(w) +' }'}]->(b)\"\n"
   ]
  },
  {
   "cell_type": "code",
   "execution_count": 21,
   "id": "5d1a5750",
   "metadata": {},
   "outputs": [],
   "source": [
    "def and_agg(series):\n",
    "       return reduce(lambda x, y: x and y, series)"
   ]
  },
  {
   "cell_type": "markdown",
   "id": "0e2c1e35",
   "metadata": {
    "id": "0e2c1e35"
   },
   "source": [
    "## Global Variables"
   ]
  },
  {
   "cell_type": "code",
   "execution_count": 22,
   "id": "9fe74450",
   "metadata": {
    "id": "9fe74450"
   },
   "outputs": [],
   "source": [
    "# {Table name: df}\n",
    "All_dfs = {}\n",
    "# {Table name: Table's Primary key}\n",
    "pk = {}\n",
    "# {Table name: {Column Name: Referenced Table}}\n",
    "fk = {}\n",
    "# {Table name: set(Tables that references the table)}\n",
    "ref_in = {}\n",
    "# {Table name: df}\n",
    "nodes = set()\n",
    "# {Table name: {Column Name: Referenced Table}}\n",
    "edges = set()\n",
    "# _\n",
    "properties = set()\n",
    "# Nodes_df\n",
    "nodesTable = pd.DataFrame(columns=['Label', 'ID', 'Attributes'])\n",
    "# Edges_df\n",
    "edgesTable = pd.DataFrame(columns = ['From_Node_ID', 'To_Node_ID', 'order/service'])\n",
    "# Properties_df\n",
    "propertiesTable = pd.DataFrame(columns = [['index','From', 'Label', 'Attributes']])\n",
    "#Label = ['facilities'/ 'order' / 'service']\n",
    "\n",
    "\n",
    "# Nodes\n",
    "# Edges ['From_Node_ID', 'To_Node_ID']\n",
    "# Properties ['Label', 'ID', 'Attributes']\n",
    "# (^Nodes in graph)\n",
    "# Relationship [\"Relation_name\",\"from\",\"to\"]\n",
    "\n",
    "\n",
    "nodes_df = pd.DataFrame(columns=['Label', 'ID', 'Attributes'])\n",
    "edges_df = pd.DataFrame(columns=['From','To','From_Table','To_Table','Weight','Edge_Name'])\n"
   ]
  },
  {
   "cell_type": "markdown",
   "id": "3bb863a2",
   "metadata": {
    "id": "3bb863a2"
   },
   "source": [
    "<a id='section_1'></a>\n",
    "## Reading Data Set\n"
   ]
  },
  {
   "cell_type": "markdown",
   "id": "9aa7852e",
   "metadata": {
    "id": "9aa7852e"
   },
   "source": [
    " creating a dictionary where\n",
    " key: first word of the table name \n",
    " value: df "
   ]
  },
  {
   "cell_type": "code",
   "execution_count": 33,
   "id": "793fb3eb",
   "metadata": {
    "colab": {
     "base_uri": "https://localhost:8080/"
    },
    "id": "793fb3eb",
    "outputId": "7e77c5d9-1d3f-4eac-97b6-4c0480dca9f2"
   },
   "outputs": [
    {
     "name": "stdout",
     "output_type": "stream",
     "text": [
      "customer_data.csv\n",
      "ExternalOrders_data.csv\n",
      "ExternalServices_data.csv\n",
      "ExternalShipments_data.csv\n",
      "ExternalTransactions.csv\n",
      "facilities_data.csv\n",
      "InternalOrders_data.csv\n",
      "InternalServices_data.csv\n",
      "InternalShipments_data.csv\n",
      "InternalTransactions.csv\n",
      "Manufacturing_data.csv\n",
      "Products_data.csv\n",
      "Retailer_data.csv\n",
      "Supplier_data.csv\n",
      "warehouses_data.csv\n",
      "manufacturing Different_suppliers\n",
      "products warehouses\n",
      "warehouses product_types\n",
      "B\n"
     ]
    }
   ],
   "source": [
    "import os\n",
    "path_of_the_directory = './DataSet/'\n",
    "ext = ('.csv')\n",
    "for file in os.listdir(path_of_the_directory):\n",
    "    if file.endswith(ext):\n",
    "        print(file) \n",
    "        temp = (file.replace(\"_\",\" \").replace(\".\",\" \").split(\" \")[0].lower())\n",
    "        All_dfs[temp] = pd.read_csv(path_of_the_directory+file)\n",
    "    else:\n",
    "        continue\n",
    "\n",
    "for table_nm in All_dfs:\n",
    "    table = All_dfs[table_nm]\n",
    "    for column_name in table.columns:\n",
    "        column =  table[column_name]\n",
    "        if column.dtype=='O' and isinstance(column[0],str):\n",
    "            if  (isinstance(column[0],str) and column.apply(lambda x: (str(x).startswith('[') and str(x).endswith(']'))\n",
    "                         or \n",
    "                         (str(x).startswith('(') and str(x).endswith(')'))).agg(and_agg)):\n",
    "                print(table_nm,column_name)\n",
    "\n",
    "                s = column.apply(lambda x: x.strip(\"[](,)\").split(','))\n",
    "                if (s[0][0].isdigit()):\n",
    "                    \n",
    "                    new_s = pd.Series(dtype=object)                \n",
    "                    for index,item in s.iteritems():\n",
    "                        new_item = []\n",
    "                        for element in item:\n",
    "                            new_item.append(np.int64(element))\n",
    "                        new_s.at[index] = new_item\n",
    "                    s=new_s\n",
    "\n",
    "                else:\n",
    "                    new_s = pd.Series(dtype=object)                \n",
    "                    for index,item in s.iteritems():\n",
    "                        new_item = []\n",
    "                        for element in item:\n",
    "                            new_item.append(element.strip().strip('\"').strip(\"'\").strip())\n",
    "                        new_s.at[index] = new_item\n",
    "                    s=new_s\n",
    "\n",
    "                All_dfs[table_nm][column_name] = s\n",
    "                \n"
   ]
  },
  {
   "cell_type": "code",
   "execution_count": 34,
   "id": "ad2b91cc",
   "metadata": {},
   "outputs": [
    {
     "data": {
      "text/plain": [
       "list"
      ]
     },
     "execution_count": 34,
     "metadata": {},
     "output_type": "execute_result"
    }
   ],
   "source": [
    "type([])"
   ]
  },
  {
   "cell_type": "code",
   "execution_count": 35,
   "id": "8e64d07a",
   "metadata": {},
   "outputs": [
    {
     "name": "stdout",
     "output_type": "stream",
     "text": [
      "<class 'numpy.int64'>\n"
     ]
    }
   ],
   "source": [
    "print(type(np.int64(\"2\")))"
   ]
  },
  {
   "cell_type": "code",
   "execution_count": 36,
   "id": "964662f0",
   "metadata": {},
   "outputs": [
    {
     "data": {
      "text/plain": [
       "dtype('O')"
      ]
     },
     "execution_count": 36,
     "metadata": {},
     "output_type": "execute_result"
    }
   ],
   "source": [
    "All_dfs['manufacturing']['Different_suppliers'].dtype"
   ]
  },
  {
   "cell_type": "code",
   "execution_count": 37,
   "id": "ab6ec34b",
   "metadata": {},
   "outputs": [
    {
     "data": {
      "text/plain": [
       "True"
      ]
     },
     "execution_count": 37,
     "metadata": {},
     "output_type": "execute_result"
    }
   ],
   "source": [
    "All_dfs[\"products\"].warehouses.explode().isin(All_dfs[\"warehouses\"].warehouse_id ).agg(and_agg)"
   ]
  },
  {
   "cell_type": "code",
   "execution_count": 38,
   "id": "120a6b4a",
   "metadata": {},
   "outputs": [],
   "source": [
    "# ware_house_id = All_dfs[\"warehouses\"].warehouse_id \n",
    "\n",
    "# warehouse_product_isin_warehouse = All_dfs[\"products\"].warehouses.explode().isin(ware_house_id)\n",
    "# warehouse_product_not_in_warehouse_values = list(All_dfs[\"products\"].warehouses.explode()[[not elem for elem in warehouse_product_isin_warehouse]].unique())\n",
    "# print(len(warehouse_product_not_in_warehouse_values))\n",
    "# warehouse_isin_warehouse_product =  ware_house_id.isin(All_dfs[\"products\"].warehouses.explode())\n",
    "# print(len( list(ware_house_id[[not elem for elem in warehouse_isin_warehouse_product]].unique())))\n",
    "# warehouses_to_be_replaced = list(ware_house_id[[not elem for elem in warehouse_isin_warehouse_product]].unique())[:len(warehouse_product_not_in_warehouse_values)]\n",
    "\n",
    "# All_dfs[\"warehouses\"].warehouse_id  =  ware_house_id.replace(warehouses_to_be_replaced,warehouse_product_not_in_warehouse_values)"
   ]
  },
  {
   "cell_type": "markdown",
   "id": "4dd67254",
   "metadata": {},
   "source": [
    "### Adding Missing Edges\n"
   ]
  },
  {
   "cell_type": "code",
   "execution_count": 39,
   "id": "46c3bb8d",
   "metadata": {
    "scrolled": true
   },
   "outputs": [
    {
     "data": {
      "text/html": [
       "<div>\n",
       "<style scoped>\n",
       "    .dataframe tbody tr th:only-of-type {\n",
       "        vertical-align: middle;\n",
       "    }\n",
       "\n",
       "    .dataframe tbody tr th {\n",
       "        vertical-align: top;\n",
       "    }\n",
       "\n",
       "    .dataframe thead th {\n",
       "        text-align: right;\n",
       "    }\n",
       "</style>\n",
       "<table border=\"1\" class=\"dataframe\">\n",
       "  <thead>\n",
       "    <tr style=\"text-align: right;\">\n",
       "      <th></th>\n",
       "      <th>IntShip_id</th>\n",
       "      <th>listSuppIds</th>\n",
       "      <th>factoryIds</th>\n",
       "      <th>from_to_where</th>\n",
       "      <th>TransportationType</th>\n",
       "    </tr>\n",
       "  </thead>\n",
       "  <tbody>\n",
       "    <tr>\n",
       "      <th>0</th>\n",
       "      <td>7281</td>\n",
       "      <td>90942</td>\n",
       "      <td>52160</td>\n",
       "      <td>SS</td>\n",
       "      <td>Land</td>\n",
       "    </tr>\n",
       "    <tr>\n",
       "      <th>1</th>\n",
       "      <td>5897</td>\n",
       "      <td>36243</td>\n",
       "      <td>67361</td>\n",
       "      <td>SR</td>\n",
       "      <td>Air</td>\n",
       "    </tr>\n",
       "    <tr>\n",
       "      <th>2</th>\n",
       "      <td>3477</td>\n",
       "      <td>87916</td>\n",
       "      <td>30692</td>\n",
       "      <td>SS</td>\n",
       "      <td>Land</td>\n",
       "    </tr>\n",
       "    <tr>\n",
       "      <th>3</th>\n",
       "      <td>8796</td>\n",
       "      <td>90236</td>\n",
       "      <td>26533</td>\n",
       "      <td>SS</td>\n",
       "      <td>Sea</td>\n",
       "    </tr>\n",
       "    <tr>\n",
       "      <th>4</th>\n",
       "      <td>2360</td>\n",
       "      <td>89467</td>\n",
       "      <td>46954</td>\n",
       "      <td>SR</td>\n",
       "      <td>Air</td>\n",
       "    </tr>\n",
       "    <tr>\n",
       "      <th>...</th>\n",
       "      <td>...</td>\n",
       "      <td>...</td>\n",
       "      <td>...</td>\n",
       "      <td>...</td>\n",
       "      <td>...</td>\n",
       "    </tr>\n",
       "    <tr>\n",
       "      <th>583</th>\n",
       "      <td>10478</td>\n",
       "      <td>42179</td>\n",
       "      <td>46070</td>\n",
       "      <td>SS</td>\n",
       "      <td>Sea</td>\n",
       "    </tr>\n",
       "    <tr>\n",
       "      <th>584</th>\n",
       "      <td>10479</td>\n",
       "      <td>48467</td>\n",
       "      <td>46070</td>\n",
       "      <td>SS</td>\n",
       "      <td>Sea</td>\n",
       "    </tr>\n",
       "    <tr>\n",
       "      <th>585</th>\n",
       "      <td>10480</td>\n",
       "      <td>70468</td>\n",
       "      <td>18952</td>\n",
       "      <td>SS</td>\n",
       "      <td>Air</td>\n",
       "    </tr>\n",
       "    <tr>\n",
       "      <th>586</th>\n",
       "      <td>10481</td>\n",
       "      <td>48580</td>\n",
       "      <td>18952</td>\n",
       "      <td>SS</td>\n",
       "      <td>Land</td>\n",
       "    </tr>\n",
       "    <tr>\n",
       "      <th>587</th>\n",
       "      <td>10482</td>\n",
       "      <td>30864</td>\n",
       "      <td>18952</td>\n",
       "      <td>SS</td>\n",
       "      <td>Air</td>\n",
       "    </tr>\n",
       "  </tbody>\n",
       "</table>\n",
       "<p>588 rows × 5 columns</p>\n",
       "</div>"
      ],
      "text/plain": [
       "     IntShip_id  listSuppIds  factoryIds from_to_where TransportationType\n",
       "0          7281        90942       52160            SS               Land\n",
       "1          5897        36243       67361            SR                Air\n",
       "2          3477        87916       30692            SS               Land\n",
       "3          8796        90236       26533            SS                Sea\n",
       "4          2360        89467       46954            SR                Air\n",
       "..          ...          ...         ...           ...                ...\n",
       "583       10478        42179       46070            SS                Sea\n",
       "584       10479        48467       46070            SS                Sea\n",
       "585       10480        70468       18952            SS                Air\n",
       "586       10481        48580       18952            SS               Land\n",
       "587       10482        30864       18952            SS                Air\n",
       "\n",
       "[588 rows x 5 columns]"
      ]
     },
     "execution_count": 39,
     "metadata": {},
     "output_type": "execute_result"
    }
   ],
   "source": [
    "initial_internalshipments_df = All_dfs[\"internalshipments\"]\n",
    "initial_internalshipments_df"
   ]
  },
  {
   "cell_type": "code",
   "execution_count": 40,
   "id": "d58dcd3f",
   "metadata": {},
   "outputs": [],
   "source": [
    "c = 9995\n",
    "from_shipment = All_dfs[\"internalshipments\"].listSuppIds\n",
    "to_shipment = All_dfs[\"internalshipments\"].factoryIds\n",
    "\n",
    "for r in range(len(All_dfs[\"manufacturing\"])):\n",
    "    diff_supp = All_dfs[\"manufacturing\"].loc[r,\"Different_suppliers\"]\n",
    "    factory = All_dfs[\"manufacturing\"].loc[r,\"Factory_id\"]\n",
    "    for s in range(len(diff_supp)):\n",
    "        \n",
    "        supp = diff_supp[s]\n",
    "        if supp == factory:\n",
    "            print(factory)\n",
    "        if len(All_dfs[\"internalshipments\"].query(f\"listSuppIds == {supp} and factoryIds == {factory}\")) ==0:\n",
    "            new_row = [{\"IntShip_id\":c, \"listSuppIds\":supp, \"factoryIds\": factory, \"from_to_where\": \"SS\"}] \n",
    "            df = pd.DataFrame(new_row)\n",
    "            c = c+1\n",
    "            All_dfs[\"internalshipments\"] = pd.concat([All_dfs[\"internalshipments\"], df], ignore_index=True)\n",
    "\n",
    "#         if (supp not in from_shipmentfrom_shipment)  :\n",
    "#                 if factory in All_dfs[\"supplier\"].supp_id:\n",
    "#                     i = \"SS\"\n",
    "\n",
    "#         new_row = [{\"IntShip_id\":c, \"listSuppIds\":diff_supp[s], \"factoryIds\": factory, \"from_to_where\": i}] \n",
    "#         df = pd.DataFrame(new_row)\n",
    "#         c = c+1\n",
    "#         All_dfs[\"internalshipments\"] = pd.concat([All_dfs[\"internalshipments\"], df], ignore_index=True)\n",
    "      "
   ]
  },
  {
   "cell_type": "markdown",
   "id": "f6ff1585",
   "metadata": {},
   "source": [
    "### Adding Missing Orders\n"
   ]
  },
  {
   "cell_type": "code",
   "execution_count": 41,
   "id": "4fe5f572",
   "metadata": {},
   "outputs": [
    {
     "data": {
      "text/plain": [
       "522"
      ]
     },
     "execution_count": 41,
     "metadata": {},
     "output_type": "execute_result"
    }
   ],
   "source": [
    "orders_int_ship_id = All_dfs[\"internalorders\"].IntShip_id\t\n",
    "internal_ship_id = All_dfs[\"internalshipments\"].IntShip_id\n",
    "ship_id_in_orders_ship_id = internal_ship_id.isin(orders_int_ship_id)\n",
    "ship_id_not_in_orders_ship_id = list(All_dfs[\"internalshipments\"].IntShip_id[[not elem for elem in ship_id_in_orders_ship_id]].unique())\n",
    "len(ship_id_not_in_orders_ship_id)"
   ]
  },
  {
   "cell_type": "code",
   "execution_count": 42,
   "id": "ff976549",
   "metadata": {},
   "outputs": [],
   "source": [
    "c = 9931\n",
    "for id in ship_id_not_in_orders_ship_id:\n",
    "    new_row = [{\"IntOrders_id\":c, \"IntShip_id\":id, \"quantity\": 766, \"placed_when\": \"1993-05-08\",\n",
    "    \"actual_date\":\"1993-05-30 00:00:00\", \"expected_date\":\"1993-06-01\", \"cost\":\"38.90\", \"status\":\"Closed\"}] \n",
    "    df = pd.DataFrame(new_row)\n",
    "    c = c+1\n",
    "    All_dfs[\"internalorders\"] = pd.concat([All_dfs[\"internalorders\"], df], ignore_index=True)\n"
   ]
  },
  {
   "cell_type": "code",
   "execution_count": 43,
   "id": "e39e5987",
   "metadata": {},
   "outputs": [
    {
     "data": {
      "text/html": [
       "<div>\n",
       "<style scoped>\n",
       "    .dataframe tbody tr th:only-of-type {\n",
       "        vertical-align: middle;\n",
       "    }\n",
       "\n",
       "    .dataframe tbody tr th {\n",
       "        vertical-align: top;\n",
       "    }\n",
       "\n",
       "    .dataframe thead th {\n",
       "        text-align: right;\n",
       "    }\n",
       "</style>\n",
       "<table border=\"1\" class=\"dataframe\">\n",
       "  <thead>\n",
       "    <tr style=\"text-align: right;\">\n",
       "      <th></th>\n",
       "      <th>IntShip_id</th>\n",
       "      <th>listSuppIds</th>\n",
       "      <th>factoryIds</th>\n",
       "      <th>from_to_where</th>\n",
       "      <th>TransportationType</th>\n",
       "    </tr>\n",
       "  </thead>\n",
       "  <tbody>\n",
       "    <tr>\n",
       "      <th>0</th>\n",
       "      <td>7281</td>\n",
       "      <td>90942</td>\n",
       "      <td>52160</td>\n",
       "      <td>SS</td>\n",
       "      <td>Land</td>\n",
       "    </tr>\n",
       "    <tr>\n",
       "      <th>1</th>\n",
       "      <td>5897</td>\n",
       "      <td>36243</td>\n",
       "      <td>67361</td>\n",
       "      <td>SR</td>\n",
       "      <td>Air</td>\n",
       "    </tr>\n",
       "    <tr>\n",
       "      <th>2</th>\n",
       "      <td>3477</td>\n",
       "      <td>87916</td>\n",
       "      <td>30692</td>\n",
       "      <td>SS</td>\n",
       "      <td>Land</td>\n",
       "    </tr>\n",
       "    <tr>\n",
       "      <th>3</th>\n",
       "      <td>8796</td>\n",
       "      <td>90236</td>\n",
       "      <td>26533</td>\n",
       "      <td>SS</td>\n",
       "      <td>Sea</td>\n",
       "    </tr>\n",
       "    <tr>\n",
       "      <th>4</th>\n",
       "      <td>2360</td>\n",
       "      <td>89467</td>\n",
       "      <td>46954</td>\n",
       "      <td>SR</td>\n",
       "      <td>Air</td>\n",
       "    </tr>\n",
       "    <tr>\n",
       "      <th>...</th>\n",
       "      <td>...</td>\n",
       "      <td>...</td>\n",
       "      <td>...</td>\n",
       "      <td>...</td>\n",
       "      <td>...</td>\n",
       "    </tr>\n",
       "    <tr>\n",
       "      <th>583</th>\n",
       "      <td>10478</td>\n",
       "      <td>42179</td>\n",
       "      <td>46070</td>\n",
       "      <td>SS</td>\n",
       "      <td>Sea</td>\n",
       "    </tr>\n",
       "    <tr>\n",
       "      <th>584</th>\n",
       "      <td>10479</td>\n",
       "      <td>48467</td>\n",
       "      <td>46070</td>\n",
       "      <td>SS</td>\n",
       "      <td>Sea</td>\n",
       "    </tr>\n",
       "    <tr>\n",
       "      <th>585</th>\n",
       "      <td>10480</td>\n",
       "      <td>70468</td>\n",
       "      <td>18952</td>\n",
       "      <td>SS</td>\n",
       "      <td>Air</td>\n",
       "    </tr>\n",
       "    <tr>\n",
       "      <th>586</th>\n",
       "      <td>10481</td>\n",
       "      <td>48580</td>\n",
       "      <td>18952</td>\n",
       "      <td>SS</td>\n",
       "      <td>Land</td>\n",
       "    </tr>\n",
       "    <tr>\n",
       "      <th>587</th>\n",
       "      <td>10482</td>\n",
       "      <td>30864</td>\n",
       "      <td>18952</td>\n",
       "      <td>SS</td>\n",
       "      <td>Air</td>\n",
       "    </tr>\n",
       "  </tbody>\n",
       "</table>\n",
       "<p>588 rows × 5 columns</p>\n",
       "</div>"
      ],
      "text/plain": [
       "     IntShip_id  listSuppIds  factoryIds from_to_where TransportationType\n",
       "0          7281        90942       52160            SS               Land\n",
       "1          5897        36243       67361            SR                Air\n",
       "2          3477        87916       30692            SS               Land\n",
       "3          8796        90236       26533            SS                Sea\n",
       "4          2360        89467       46954            SR                Air\n",
       "..          ...          ...         ...           ...                ...\n",
       "583       10478        42179       46070            SS                Sea\n",
       "584       10479        48467       46070            SS                Sea\n",
       "585       10480        70468       18952            SS                Air\n",
       "586       10481        48580       18952            SS               Land\n",
       "587       10482        30864       18952            SS                Air\n",
       "\n",
       "[588 rows x 5 columns]"
      ]
     },
     "metadata": {},
     "output_type": "display_data"
    },
    {
     "data": {
      "text/html": [
       "<div>\n",
       "<style scoped>\n",
       "    .dataframe tbody tr th:only-of-type {\n",
       "        vertical-align: middle;\n",
       "    }\n",
       "\n",
       "    .dataframe tbody tr th {\n",
       "        vertical-align: top;\n",
       "    }\n",
       "\n",
       "    .dataframe thead th {\n",
       "        text-align: right;\n",
       "    }\n",
       "</style>\n",
       "<table border=\"1\" class=\"dataframe\">\n",
       "  <thead>\n",
       "    <tr style=\"text-align: right;\">\n",
       "      <th></th>\n",
       "      <th>IntShip_id</th>\n",
       "      <th>listSuppIds</th>\n",
       "      <th>factoryIds</th>\n",
       "      <th>from_to_where</th>\n",
       "      <th>TransportationType</th>\n",
       "    </tr>\n",
       "  </thead>\n",
       "  <tbody>\n",
       "    <tr>\n",
       "      <th>0</th>\n",
       "      <td>7281</td>\n",
       "      <td>90942</td>\n",
       "      <td>52160</td>\n",
       "      <td>SS</td>\n",
       "      <td>Sea</td>\n",
       "    </tr>\n",
       "    <tr>\n",
       "      <th>1</th>\n",
       "      <td>5897</td>\n",
       "      <td>36243</td>\n",
       "      <td>67361</td>\n",
       "      <td>SR</td>\n",
       "      <td>Land</td>\n",
       "    </tr>\n",
       "    <tr>\n",
       "      <th>2</th>\n",
       "      <td>3477</td>\n",
       "      <td>87916</td>\n",
       "      <td>30692</td>\n",
       "      <td>SS</td>\n",
       "      <td>Land</td>\n",
       "    </tr>\n",
       "    <tr>\n",
       "      <th>3</th>\n",
       "      <td>8796</td>\n",
       "      <td>90236</td>\n",
       "      <td>26533</td>\n",
       "      <td>SS</td>\n",
       "      <td>Land</td>\n",
       "    </tr>\n",
       "    <tr>\n",
       "      <th>4</th>\n",
       "      <td>2360</td>\n",
       "      <td>89467</td>\n",
       "      <td>46954</td>\n",
       "      <td>SR</td>\n",
       "      <td>Land</td>\n",
       "    </tr>\n",
       "    <tr>\n",
       "      <th>...</th>\n",
       "      <td>...</td>\n",
       "      <td>...</td>\n",
       "      <td>...</td>\n",
       "      <td>...</td>\n",
       "      <td>...</td>\n",
       "    </tr>\n",
       "    <tr>\n",
       "      <th>583</th>\n",
       "      <td>10478</td>\n",
       "      <td>42179</td>\n",
       "      <td>46070</td>\n",
       "      <td>SS</td>\n",
       "      <td>Sea</td>\n",
       "    </tr>\n",
       "    <tr>\n",
       "      <th>584</th>\n",
       "      <td>10479</td>\n",
       "      <td>48467</td>\n",
       "      <td>46070</td>\n",
       "      <td>SS</td>\n",
       "      <td>Air</td>\n",
       "    </tr>\n",
       "    <tr>\n",
       "      <th>585</th>\n",
       "      <td>10480</td>\n",
       "      <td>70468</td>\n",
       "      <td>18952</td>\n",
       "      <td>SS</td>\n",
       "      <td>Land</td>\n",
       "    </tr>\n",
       "    <tr>\n",
       "      <th>586</th>\n",
       "      <td>10481</td>\n",
       "      <td>48580</td>\n",
       "      <td>18952</td>\n",
       "      <td>SS</td>\n",
       "      <td>Sea</td>\n",
       "    </tr>\n",
       "    <tr>\n",
       "      <th>587</th>\n",
       "      <td>10482</td>\n",
       "      <td>30864</td>\n",
       "      <td>18952</td>\n",
       "      <td>SS</td>\n",
       "      <td>Sea</td>\n",
       "    </tr>\n",
       "  </tbody>\n",
       "</table>\n",
       "<p>588 rows × 5 columns</p>\n",
       "</div>"
      ],
      "text/plain": [
       "     IntShip_id  listSuppIds  factoryIds from_to_where TransportationType\n",
       "0          7281        90942       52160            SS                Sea\n",
       "1          5897        36243       67361            SR               Land\n",
       "2          3477        87916       30692            SS               Land\n",
       "3          8796        90236       26533            SS               Land\n",
       "4          2360        89467       46954            SR               Land\n",
       "..          ...          ...         ...           ...                ...\n",
       "583       10478        42179       46070            SS                Sea\n",
       "584       10479        48467       46070            SS                Air\n",
       "585       10480        70468       18952            SS               Land\n",
       "586       10481        48580       18952            SS                Sea\n",
       "587       10482        30864       18952            SS                Sea\n",
       "\n",
       "[588 rows x 5 columns]"
      ]
     },
     "execution_count": 43,
     "metadata": {},
     "output_type": "execute_result"
    }
   ],
   "source": [
    "display(All_dfs[\"internalshipments\"])\n",
    "\n",
    "IntShip = All_dfs[\"internalshipments\"].shape[0]\n",
    "#SRIntShip\n",
    "ExtShip = All_dfs[\"externalshipments\"].shape[0]\n",
    "\n",
    "types = ['Air', 'Sea', 'Land']\n",
    "\n",
    "a = np.array([random.choice(types) for x in range(IntShip)])\n",
    "b = np.array([random.choice(types) for x in range(ExtShip)])\n",
    " \n",
    "serIntShip = pd.Series(a)\n",
    "serExtShip = pd.Series(b) \n",
    "\n",
    "All_dfs[\"internalshipments\"]['TransportationType'] = serIntShip\n",
    "#SRIntShip\n",
    "All_dfs[\"externalshipments\"]['TransportationType'] = serExtShip\n",
    "\n",
    "All_dfs[\"internalshipments\"]"
   ]
  },
  {
   "cell_type": "markdown",
   "id": "7cb547a6",
   "metadata": {
    "id": "7cb547a6"
   },
   "source": [
    "### Splitting Shipments tables"
   ]
  },
  {
   "cell_type": "code",
   "execution_count": 44,
   "id": "a61a8f33",
   "metadata": {
    "id": "a61a8f33"
   },
   "outputs": [],
   "source": [
    "SRIntShip = All_dfs[\"internalshipments\"].query('from_to_where == \"SR\"')\n",
    "SRIntShip = SRIntShip.drop(['from_to_where'], axis=1).reset_index(drop = True)\n",
    "#SRIntShip\n",
    "RCExtShip = All_dfs[\"externalshipments\"].query('from_to_where == \"RC\"')\n",
    "RCExtShip = RCExtShip.drop(['from_to_where'], axis=1).reset_index(drop = True)\n",
    "#RCExtShip\n",
    "SSIntShip = All_dfs[\"internalshipments\"].query('from_to_where == \"SS\"')\n",
    "SSIntShip = SSIntShip.drop(['from_to_where'], axis=1).reset_index(drop = True)\n",
    "#SSIntShip\n",
    "SCExtShip = All_dfs[\"externalshipments\"].query('from_to_where == \"SC\"')\n",
    "SCExtShip = SCExtShip.drop(['from_to_where'], axis=1).reset_index(drop = True)\n",
    "#SCExtShip\n",
    "All_dfs[\"RCExtShip\".lower()] = RCExtShip\n",
    "All_dfs[\"SCExtShip\".lower()] = SCExtShip\n",
    "All_dfs[\"SRIntShip\".lower()] = SRIntShip\n",
    "All_dfs[\"SSIntShip\".lower()] = SSIntShip"
   ]
  },
  {
   "cell_type": "markdown",
   "id": "792e06a4",
   "metadata": {
    "id": "792e06a4"
   },
   "source": [
    "### Splitting Orders Tables"
   ]
  },
  {
   "cell_type": "code",
   "execution_count": 45,
   "id": "e05ff098",
   "metadata": {
    "id": "e05ff098"
   },
   "outputs": [],
   "source": [
    "filter_list = All_dfs[\"rcextship\"][\"ExtShip_id\"]\n",
    "All_dfs[\"rcextorders\"] = All_dfs[\"externalorders\"][All_dfs[\"externalorders\"].ExtShip_id.isin(filter_list)].reset_index(drop=True)\n",
    "filter_list = All_dfs[\"scextship\"][\"ExtShip_id\"]\n",
    "All_dfs[\"scextorders\"] = All_dfs[\"externalorders\"][All_dfs[\"externalorders\"].ExtShip_id.isin(filter_list)].reset_index(drop=True)\n",
    "#All_dfs[\"scextorders\"] = All_dfs[\"externalorders\"].query(\"ExtShip_id.isin(@filter_list)\").reset_index(drop=True)\n",
    "filter_list = All_dfs[\"srintship\"][\"IntShip_id\"]\n",
    "All_dfs[\"srintorders\"] = All_dfs[\"internalorders\"][All_dfs[\"internalorders\"].IntShip_id.isin(filter_list)].reset_index(drop=True)\n",
    "#All_dfs[\"srintorders\"] = All_dfs[\"internalorders\"].query(\"IntShip_id.isin(@filter_list)\").reset_index(drop=True)\n",
    "filter_list = All_dfs[\"ssintship\"][\"IntShip_id\"]\n",
    "All_dfs[\"ssintorders\"] = All_dfs[\"internalorders\"][All_dfs[\"internalorders\"].IntShip_id.isin(filter_list)].reset_index(drop=True)\n",
    "#All_dfs[\"ssintorders\"] = All_dfs[\"internalorders\"].query(\"IntShip_id.isin(@filter_list)\").reset_index(drop=True)"
   ]
  },
  {
   "cell_type": "markdown",
   "id": "27b40154",
   "metadata": {
    "id": "27b40154"
   },
   "source": [
    "### Removing Redundant Tables"
   ]
  },
  {
   "cell_type": "code",
   "execution_count": 46,
   "id": "1dce7a31",
   "metadata": {
    "colab": {
     "base_uri": "https://localhost:8080/"
    },
    "id": "1dce7a31",
    "outputId": "f7113947-2d2d-46bd-89f4-68c6341fa514"
   },
   "outputs": [
    {
     "data": {
      "text/plain": [
       "dict_keys(['customer', 'externalservices', 'externaltransactions', 'facilities', 'internalservices', 'internaltransactions', 'manufacturing', 'products', 'retailer', 'supplier', 'warehouses', 'rcextship', 'scextship', 'srintship', 'ssintship', 'rcextorders', 'scextorders', 'srintorders', 'ssintorders'])"
      ]
     },
     "execution_count": 46,
     "metadata": {},
     "output_type": "execute_result"
    }
   ],
   "source": [
    "All_dfs.pop(\"internalshipments\")\n",
    "All_dfs.pop(\"externalshipments\")\n",
    "All_dfs.pop(\"externalorders\")\n",
    "All_dfs.pop(\"internalorders\")\n",
    "All_dfs.keys()"
   ]
  },
  {
   "cell_type": "code",
   "execution_count": 47,
   "id": "ba78f2c4",
   "metadata": {},
   "outputs": [],
   "source": [
    "supplier_to_retailer_shipment_df = All_dfs[\"srintship\"]\n",
    "retailer_df = All_dfs[\"retailer\"]\n",
    "supplier_df = All_dfs[\"supplier\"]\n",
    "suppliers_ids_in_shipments = list(supplier_to_retailer_shipment_df.listSuppIds.unique())\n",
    "suppliers_in_shipments_df = supplier_df[supplier_df[\"supp_id\"].isin(suppliers_ids_in_shipments)]\n",
    "retailers_types_column = []\n",
    "for _, retialer_row in retailer_df.iterrows():\n",
    "        retailer_types = set()\n",
    "        retailer_id = retialer_row.retailer_id\n",
    "        shipments_with_retailer_df = supplier_to_retailer_shipment_df[supplier_to_retailer_shipment_df.factoryIds == retailer_id]\n",
    "        for _,shipment_row in shipments_with_retailer_df.iterrows():\n",
    "            supplier_id = shipment_row.listSuppIds\n",
    "#             print(suppliers_in_shipments_df[suppliers_in_shipments_df.supp_id == supplier_id].iloc[0].type)\n",
    "            supplier_type = suppliers_in_shipments_df[suppliers_in_shipments_df.supp_id == supplier_id].iloc[0].type\n",
    "            retailer_types.add(supplier_type)\n",
    "        retailers_types_column.append(list(retailer_types))\n",
    "\n",
    "retailer_df[\"RetailerTypes\"] = retailers_types_column\n",
    "All_dfs[\"retailer\"]=retailer_df"
   ]
  },
  {
   "cell_type": "code",
   "execution_count": 48,
   "id": "d11a7f70",
   "metadata": {},
   "outputs": [
    {
     "data": {
      "text/html": [
       "<div>\n",
       "<style scoped>\n",
       "    .dataframe tbody tr th:only-of-type {\n",
       "        vertical-align: middle;\n",
       "    }\n",
       "\n",
       "    .dataframe tbody tr th {\n",
       "        vertical-align: top;\n",
       "    }\n",
       "\n",
       "    .dataframe thead th {\n",
       "        text-align: right;\n",
       "    }\n",
       "</style>\n",
       "<table border=\"1\" class=\"dataframe\">\n",
       "  <thead>\n",
       "    <tr style=\"text-align: right;\">\n",
       "      <th></th>\n",
       "      <th>retailer_id</th>\n",
       "      <th>country</th>\n",
       "      <th>city_name</th>\n",
       "      <th>type</th>\n",
       "      <th>reviews_number</th>\n",
       "      <th>rating</th>\n",
       "      <th>opening_hours</th>\n",
       "      <th>capacity (units)</th>\n",
       "      <th>RetailerTypes</th>\n",
       "    </tr>\n",
       "  </thead>\n",
       "  <tbody>\n",
       "    <tr>\n",
       "      <th>0</th>\n",
       "      <td>91089</td>\n",
       "      <td>Tunisia</td>\n",
       "      <td>Kairouan</td>\n",
       "      <td>distributer</td>\n",
       "      <td>650</td>\n",
       "      <td>5</td>\n",
       "      <td>7</td>\n",
       "      <td>169554</td>\n",
       "      <td>[]</td>\n",
       "    </tr>\n",
       "    <tr>\n",
       "      <th>1</th>\n",
       "      <td>95444</td>\n",
       "      <td>Kuwait</td>\n",
       "      <td>Al Farwānīyah</td>\n",
       "      <td>vendor</td>\n",
       "      <td>441</td>\n",
       "      <td>1</td>\n",
       "      <td>8</td>\n",
       "      <td>325442</td>\n",
       "      <td>[]</td>\n",
       "    </tr>\n",
       "    <tr>\n",
       "      <th>2</th>\n",
       "      <td>66051</td>\n",
       "      <td>Qatar</td>\n",
       "      <td>Ash Shīḩānīyah</td>\n",
       "      <td>abroad</td>\n",
       "      <td>821</td>\n",
       "      <td>2</td>\n",
       "      <td>9</td>\n",
       "      <td>426160</td>\n",
       "      <td>[]</td>\n",
       "    </tr>\n",
       "    <tr>\n",
       "      <th>4</th>\n",
       "      <td>34083</td>\n",
       "      <td>Gambia</td>\n",
       "      <td>Banjul</td>\n",
       "      <td>vendor</td>\n",
       "      <td>815</td>\n",
       "      <td>4</td>\n",
       "      <td>7</td>\n",
       "      <td>1843949</td>\n",
       "      <td>[]</td>\n",
       "    </tr>\n",
       "    <tr>\n",
       "      <th>6</th>\n",
       "      <td>12318</td>\n",
       "      <td>Tajikistan</td>\n",
       "      <td>Kŭhistoni Badakhshon</td>\n",
       "      <td>vendor</td>\n",
       "      <td>356</td>\n",
       "      <td>3</td>\n",
       "      <td>8</td>\n",
       "      <td>1133068</td>\n",
       "      <td>[]</td>\n",
       "    </tr>\n",
       "    <tr>\n",
       "      <th>...</th>\n",
       "      <td>...</td>\n",
       "      <td>...</td>\n",
       "      <td>...</td>\n",
       "      <td>...</td>\n",
       "      <td>...</td>\n",
       "      <td>...</td>\n",
       "      <td>...</td>\n",
       "      <td>...</td>\n",
       "      <td>...</td>\n",
       "    </tr>\n",
       "    <tr>\n",
       "      <th>144</th>\n",
       "      <td>76954</td>\n",
       "      <td>Montenegro</td>\n",
       "      <td>Rožaje</td>\n",
       "      <td>distributer</td>\n",
       "      <td>191</td>\n",
       "      <td>5</td>\n",
       "      <td>3</td>\n",
       "      <td>309798</td>\n",
       "      <td>[]</td>\n",
       "    </tr>\n",
       "    <tr>\n",
       "      <th>146</th>\n",
       "      <td>18464</td>\n",
       "      <td>Haiti</td>\n",
       "      <td>Grandans</td>\n",
       "      <td>customer end</td>\n",
       "      <td>295</td>\n",
       "      <td>2</td>\n",
       "      <td>5</td>\n",
       "      <td>1686073</td>\n",
       "      <td>[]</td>\n",
       "    </tr>\n",
       "    <tr>\n",
       "      <th>147</th>\n",
       "      <td>57039</td>\n",
       "      <td>Lao People's Democratic Republic</td>\n",
       "      <td>Viangchan</td>\n",
       "      <td>vendor</td>\n",
       "      <td>450</td>\n",
       "      <td>2</td>\n",
       "      <td>7</td>\n",
       "      <td>1019346</td>\n",
       "      <td>[]</td>\n",
       "    </tr>\n",
       "    <tr>\n",
       "      <th>148</th>\n",
       "      <td>33250</td>\n",
       "      <td>South Sudan</td>\n",
       "      <td>Lakes</td>\n",
       "      <td>customer end</td>\n",
       "      <td>318</td>\n",
       "      <td>4</td>\n",
       "      <td>6</td>\n",
       "      <td>716050</td>\n",
       "      <td>[]</td>\n",
       "    </tr>\n",
       "    <tr>\n",
       "      <th>149</th>\n",
       "      <td>21789</td>\n",
       "      <td>Cyprus</td>\n",
       "      <td>Ammochostos</td>\n",
       "      <td>distributer</td>\n",
       "      <td>907</td>\n",
       "      <td>3</td>\n",
       "      <td>5</td>\n",
       "      <td>284423</td>\n",
       "      <td>[]</td>\n",
       "    </tr>\n",
       "  </tbody>\n",
       "</table>\n",
       "<p>106 rows × 9 columns</p>\n",
       "</div>"
      ],
      "text/plain": [
       "     retailer_id                           country             city_name  \\\n",
       "0          91089                           Tunisia              Kairouan   \n",
       "1          95444                            Kuwait         Al Farwānīyah   \n",
       "2          66051                             Qatar        Ash Shīḩānīyah   \n",
       "4          34083                            Gambia                Banjul   \n",
       "6          12318                        Tajikistan  Kŭhistoni Badakhshon   \n",
       "..           ...                               ...                   ...   \n",
       "144        76954                        Montenegro                Rožaje   \n",
       "146        18464                             Haiti              Grandans   \n",
       "147        57039  Lao People's Democratic Republic             Viangchan   \n",
       "148        33250                       South Sudan                 Lakes   \n",
       "149        21789                            Cyprus           Ammochostos   \n",
       "\n",
       "             type  reviews_number  rating  opening_hours  capacity (units)  \\\n",
       "0     distributer             650       5              7            169554   \n",
       "1          vendor             441       1              8            325442   \n",
       "2          abroad             821       2              9            426160   \n",
       "4          vendor             815       4              7           1843949   \n",
       "6          vendor             356       3              8           1133068   \n",
       "..            ...             ...     ...            ...               ...   \n",
       "144   distributer             191       5              3            309798   \n",
       "146  customer end             295       2              5           1686073   \n",
       "147        vendor             450       2              7           1019346   \n",
       "148  customer end             318       4              6            716050   \n",
       "149   distributer             907       3              5            284423   \n",
       "\n",
       "    RetailerTypes  \n",
       "0              []  \n",
       "1              []  \n",
       "2              []  \n",
       "4              []  \n",
       "6              []  \n",
       "..            ...  \n",
       "144            []  \n",
       "146            []  \n",
       "147            []  \n",
       "148            []  \n",
       "149            []  \n",
       "\n",
       "[106 rows x 9 columns]"
      ]
     },
     "execution_count": 48,
     "metadata": {},
     "output_type": "execute_result"
    }
   ],
   "source": [
    "retailer_df[retailer_df[\"RetailerTypes\"].isin([[]])]"
   ]
  },
  {
   "cell_type": "code",
   "execution_count": null,
   "id": "66c0bba3",
   "metadata": {},
   "outputs": [],
   "source": []
  },
  {
   "cell_type": "code",
   "execution_count": null,
   "id": "452f46d9",
   "metadata": {},
   "outputs": [],
   "source": []
  },
  {
   "cell_type": "code",
   "execution_count": 49,
   "id": "fe82c0a8",
   "metadata": {},
   "outputs": [],
   "source": [
    "# for table in All_dfs:\n",
    "#     print(table)\n",
    "#     print(All_dfs[table].isna().sum())\n",
    "#     print(\"_________________________\")"
   ]
  },
  {
   "cell_type": "markdown",
   "id": "9e191d11",
   "metadata": {},
   "source": [
    "### Removing nan"
   ]
  },
  {
   "cell_type": "code",
   "execution_count": 50,
   "id": "b1b0b012",
   "metadata": {},
   "outputs": [],
   "source": [
    "for table in All_dfs:\n",
    "    All_dfs[table].fillna('Unknown',inplace = True)\n"
   ]
  },
  {
   "cell_type": "markdown",
   "id": "SFbYcLkyvgI1",
   "metadata": {
    "id": "SFbYcLkyvgI1"
   },
   "source": [
    "### Execlude Tables"
   ]
  },
  {
   "cell_type": "code",
   "execution_count": 51,
   "id": "NPz3VcBXvjj-",
   "metadata": {
    "colab": {
     "base_uri": "https://localhost:8080/"
    },
    "id": "NPz3VcBXvjj-",
    "outputId": "bf669753-ae70-4f7f-8723-500d897e74b4"
   },
   "outputs": [],
   "source": [
    "# All_dfs = {key: value for key, value in All_dfs.items() \n",
    "#            if key not in [\"products\",\"warehouses\",\"manufacturing\"]}\n",
    "# All_dfs.keys()\n",
    "\n"
   ]
  },
  {
   "cell_type": "code",
   "execution_count": 52,
   "id": "c190b061",
   "metadata": {},
   "outputs": [
    {
     "data": {
      "text/html": [
       "<div>\n",
       "<style scoped>\n",
       "    .dataframe tbody tr th:only-of-type {\n",
       "        vertical-align: middle;\n",
       "    }\n",
       "\n",
       "    .dataframe tbody tr th {\n",
       "        vertical-align: top;\n",
       "    }\n",
       "\n",
       "    .dataframe thead th {\n",
       "        text-align: right;\n",
       "    }\n",
       "</style>\n",
       "<table border=\"1\" class=\"dataframe\">\n",
       "  <thead>\n",
       "    <tr style=\"text-align: right;\">\n",
       "      <th></th>\n",
       "      <th>IntOrders_id</th>\n",
       "      <th>IntShip_id</th>\n",
       "      <th>quantity</th>\n",
       "      <th>placed_when</th>\n",
       "      <th>actual_date</th>\n",
       "      <th>expected_date</th>\n",
       "      <th>cost</th>\n",
       "      <th>status</th>\n",
       "    </tr>\n",
       "  </thead>\n",
       "  <tbody>\n",
       "    <tr>\n",
       "      <th>0</th>\n",
       "      <td>6266</td>\n",
       "      <td>6224</td>\n",
       "      <td>438</td>\n",
       "      <td>1975-01-08</td>\n",
       "      <td>Unknown</td>\n",
       "      <td>1975-02-01</td>\n",
       "      <td>7.95</td>\n",
       "      <td>Out For Delivery</td>\n",
       "    </tr>\n",
       "    <tr>\n",
       "      <th>1</th>\n",
       "      <td>5318</td>\n",
       "      <td>6798</td>\n",
       "      <td>801</td>\n",
       "      <td>2021-01-18</td>\n",
       "      <td>2021-02-07 00:00:00</td>\n",
       "      <td>2021-01-29</td>\n",
       "      <td>7560.41</td>\n",
       "      <td>Delayed</td>\n",
       "    </tr>\n",
       "    <tr>\n",
       "      <th>2</th>\n",
       "      <td>2439</td>\n",
       "      <td>8796</td>\n",
       "      <td>882</td>\n",
       "      <td>1978-07-09</td>\n",
       "      <td>Unknown</td>\n",
       "      <td>1978-07-28</td>\n",
       "      <td>35.13</td>\n",
       "      <td>Out For Delivery</td>\n",
       "    </tr>\n",
       "    <tr>\n",
       "      <th>3</th>\n",
       "      <td>1851</td>\n",
       "      <td>4895</td>\n",
       "      <td>220</td>\n",
       "      <td>2002-12-28</td>\n",
       "      <td>Unknown</td>\n",
       "      <td>2003-01-22</td>\n",
       "      <td>2.96</td>\n",
       "      <td>Out For Delivery</td>\n",
       "    </tr>\n",
       "    <tr>\n",
       "      <th>4</th>\n",
       "      <td>9800</td>\n",
       "      <td>3996</td>\n",
       "      <td>399</td>\n",
       "      <td>1975-10-06</td>\n",
       "      <td>Unknown</td>\n",
       "      <td>1975-10-29</td>\n",
       "      <td>83.16</td>\n",
       "      <td>Out For Delivery</td>\n",
       "    </tr>\n",
       "    <tr>\n",
       "      <th>...</th>\n",
       "      <td>...</td>\n",
       "      <td>...</td>\n",
       "      <td>...</td>\n",
       "      <td>...</td>\n",
       "      <td>...</td>\n",
       "      <td>...</td>\n",
       "      <td>...</td>\n",
       "      <td>...</td>\n",
       "    </tr>\n",
       "    <tr>\n",
       "      <th>543</th>\n",
       "      <td>10448</td>\n",
       "      <td>10478</td>\n",
       "      <td>766</td>\n",
       "      <td>1993-05-08</td>\n",
       "      <td>1993-05-30 00:00:00</td>\n",
       "      <td>1993-06-01</td>\n",
       "      <td>38.90</td>\n",
       "      <td>Closed</td>\n",
       "    </tr>\n",
       "    <tr>\n",
       "      <th>544</th>\n",
       "      <td>10449</td>\n",
       "      <td>10479</td>\n",
       "      <td>766</td>\n",
       "      <td>1993-05-08</td>\n",
       "      <td>1993-05-30 00:00:00</td>\n",
       "      <td>1993-06-01</td>\n",
       "      <td>38.90</td>\n",
       "      <td>Closed</td>\n",
       "    </tr>\n",
       "    <tr>\n",
       "      <th>545</th>\n",
       "      <td>10450</td>\n",
       "      <td>10480</td>\n",
       "      <td>766</td>\n",
       "      <td>1993-05-08</td>\n",
       "      <td>1993-05-30 00:00:00</td>\n",
       "      <td>1993-06-01</td>\n",
       "      <td>38.90</td>\n",
       "      <td>Closed</td>\n",
       "    </tr>\n",
       "    <tr>\n",
       "      <th>546</th>\n",
       "      <td>10451</td>\n",
       "      <td>10481</td>\n",
       "      <td>766</td>\n",
       "      <td>1993-05-08</td>\n",
       "      <td>1993-05-30 00:00:00</td>\n",
       "      <td>1993-06-01</td>\n",
       "      <td>38.90</td>\n",
       "      <td>Closed</td>\n",
       "    </tr>\n",
       "    <tr>\n",
       "      <th>547</th>\n",
       "      <td>10452</td>\n",
       "      <td>10482</td>\n",
       "      <td>766</td>\n",
       "      <td>1993-05-08</td>\n",
       "      <td>1993-05-30 00:00:00</td>\n",
       "      <td>1993-06-01</td>\n",
       "      <td>38.90</td>\n",
       "      <td>Closed</td>\n",
       "    </tr>\n",
       "  </tbody>\n",
       "</table>\n",
       "<p>548 rows × 8 columns</p>\n",
       "</div>"
      ],
      "text/plain": [
       "     IntOrders_id  IntShip_id  quantity placed_when          actual_date  \\\n",
       "0            6266        6224       438  1975-01-08              Unknown   \n",
       "1            5318        6798       801  2021-01-18  2021-02-07 00:00:00   \n",
       "2            2439        8796       882  1978-07-09              Unknown   \n",
       "3            1851        4895       220  2002-12-28              Unknown   \n",
       "4            9800        3996       399  1975-10-06              Unknown   \n",
       "..            ...         ...       ...         ...                  ...   \n",
       "543         10448       10478       766  1993-05-08  1993-05-30 00:00:00   \n",
       "544         10449       10479       766  1993-05-08  1993-05-30 00:00:00   \n",
       "545         10450       10480       766  1993-05-08  1993-05-30 00:00:00   \n",
       "546         10451       10481       766  1993-05-08  1993-05-30 00:00:00   \n",
       "547         10452       10482       766  1993-05-08  1993-05-30 00:00:00   \n",
       "\n",
       "    expected_date     cost            status  \n",
       "0      1975-02-01     7.95  Out For Delivery  \n",
       "1      2021-01-29  7560.41           Delayed  \n",
       "2      1978-07-28    35.13  Out For Delivery  \n",
       "3      2003-01-22     2.96  Out For Delivery  \n",
       "4      1975-10-29    83.16  Out For Delivery  \n",
       "..            ...      ...               ...  \n",
       "543    1993-06-01    38.90            Closed  \n",
       "544    1993-06-01    38.90            Closed  \n",
       "545    1993-06-01    38.90            Closed  \n",
       "546    1993-06-01    38.90            Closed  \n",
       "547    1993-06-01    38.90            Closed  \n",
       "\n",
       "[548 rows x 8 columns]"
      ]
     },
     "execution_count": 52,
     "metadata": {},
     "output_type": "execute_result"
    }
   ],
   "source": [
    "All_dfs['ssintorders']"
   ]
  },
  {
   "cell_type": "code",
   "execution_count": 53,
   "id": "4fbc9990",
   "metadata": {},
   "outputs": [
    {
     "name": "stdout",
     "output_type": "stream",
     "text": [
      "537\n",
      "100\n",
      "True     327\n",
      "False    210\n",
      "Name: listSuppIds, dtype: int64\n",
      "437\n"
     ]
    }
   ],
   "source": [
    "import random\n",
    "x=All_dfs['ssintship']['listSuppIds']\n",
    "print(len(x))\n",
    "y=All_dfs[\"manufacturing\"]['Factory_id']\n",
    "print(len(y))\n",
    "z=[]\n",
    "print(x.isin(y).value_counts())\n",
    "# z=All_dfs['ssintorders']\n",
    "for i in range (len(x)):\n",
    "    temp=np.where(y==x[i])[0]\n",
    "    if(len(temp)>1):#returns the indices that makes this statement true\n",
    "        z.append(random.choice(temp))\n",
    "    elif(len(temp)==1):\n",
    "        z.append(temp[0])\n",
    "    elif(len(temp)==0):\n",
    "        z.append(random.randint(0,len(y)-1))\n",
    "\n",
    "# now z has size = 537 and the intship has size of 548 so will randomly add 11 more values\n",
    "for i in range(11):\n",
    "    z.append(random.randint(0,len(y)-1))\n",
    "print(len(x)-len(y))\n",
    "len(z)\n",
    "prod_id=[]\n",
    "for i in range(len(z)):\n",
    "    prod_id.append(All_dfs[\"manufacturing\"]['Product_id'][z[i]])\n",
    "prod_id    \n",
    "All_dfs['ssintorders'].insert(8,'prod_id',prod_id,True)"
   ]
  },
  {
   "cell_type": "code",
   "execution_count": 54,
   "id": "5f0abdf9",
   "metadata": {},
   "outputs": [
    {
     "data": {
      "text/html": [
       "<div>\n",
       "<style scoped>\n",
       "    .dataframe tbody tr th:only-of-type {\n",
       "        vertical-align: middle;\n",
       "    }\n",
       "\n",
       "    .dataframe tbody tr th {\n",
       "        vertical-align: top;\n",
       "    }\n",
       "\n",
       "    .dataframe thead th {\n",
       "        text-align: right;\n",
       "    }\n",
       "</style>\n",
       "<table border=\"1\" class=\"dataframe\">\n",
       "  <thead>\n",
       "    <tr style=\"text-align: right;\">\n",
       "      <th></th>\n",
       "      <th>prod_id</th>\n",
       "      <th>product_type</th>\n",
       "      <th>product_name</th>\n",
       "      <th>warehouses</th>\n",
       "      <th>price</th>\n",
       "      <th>profit_margin (%)</th>\n",
       "    </tr>\n",
       "  </thead>\n",
       "  <tbody>\n",
       "    <tr>\n",
       "      <th>0</th>\n",
       "      <td>911</td>\n",
       "      <td>M</td>\n",
       "      <td>WWW</td>\n",
       "      <td>[5498, 6164, 5623, 7418, 8962, 7721, 4208, 871...</td>\n",
       "      <td>3088.68</td>\n",
       "      <td>24</td>\n",
       "    </tr>\n",
       "    <tr>\n",
       "      <th>1</th>\n",
       "      <td>316</td>\n",
       "      <td>F</td>\n",
       "      <td>MMM</td>\n",
       "      <td>[3865, 5351]</td>\n",
       "      <td>107.39</td>\n",
       "      <td>47</td>\n",
       "    </tr>\n",
       "    <tr>\n",
       "      <th>2</th>\n",
       "      <td>549</td>\n",
       "      <td>P</td>\n",
       "      <td>LLL</td>\n",
       "      <td>[1969]</td>\n",
       "      <td>47.14</td>\n",
       "      <td>7</td>\n",
       "    </tr>\n",
       "    <tr>\n",
       "      <th>3</th>\n",
       "      <td>801</td>\n",
       "      <td>V</td>\n",
       "      <td>SSS</td>\n",
       "      <td>[3613, 4412, 2730, 1482, 2430, 7465, 8954, 118...</td>\n",
       "      <td>13.62</td>\n",
       "      <td>6</td>\n",
       "    </tr>\n",
       "    <tr>\n",
       "      <th>4</th>\n",
       "      <td>791</td>\n",
       "      <td>R</td>\n",
       "      <td>AAA</td>\n",
       "      <td>[3514, 9292, 9388, 6379, 1149, 1526, 6928, 1888]</td>\n",
       "      <td>6.35</td>\n",
       "      <td>7</td>\n",
       "    </tr>\n",
       "    <tr>\n",
       "      <th>...</th>\n",
       "      <td>...</td>\n",
       "      <td>...</td>\n",
       "      <td>...</td>\n",
       "      <td>...</td>\n",
       "      <td>...</td>\n",
       "      <td>...</td>\n",
       "    </tr>\n",
       "    <tr>\n",
       "      <th>495</th>\n",
       "      <td>835</td>\n",
       "      <td>D</td>\n",
       "      <td>KKK</td>\n",
       "      <td>[1835, 4047, 2155, 2969, 1249, 9807]</td>\n",
       "      <td>8530.71</td>\n",
       "      <td>24</td>\n",
       "    </tr>\n",
       "    <tr>\n",
       "      <th>496</th>\n",
       "      <td>323</td>\n",
       "      <td>C</td>\n",
       "      <td>III</td>\n",
       "      <td>[5381, 7237, 3468, 5177, 2881]</td>\n",
       "      <td>2310.31</td>\n",
       "      <td>30</td>\n",
       "    </tr>\n",
       "    <tr>\n",
       "      <th>497</th>\n",
       "      <td>742</td>\n",
       "      <td>M</td>\n",
       "      <td>OOO</td>\n",
       "      <td>[6283, 3413]</td>\n",
       "      <td>6080.30</td>\n",
       "      <td>13</td>\n",
       "    </tr>\n",
       "    <tr>\n",
       "      <th>498</th>\n",
       "      <td>412</td>\n",
       "      <td>X</td>\n",
       "      <td>III</td>\n",
       "      <td>[7377, 2002, 8299, 1735, 5966, 6548, 4501, 752...</td>\n",
       "      <td>21.64</td>\n",
       "      <td>44</td>\n",
       "    </tr>\n",
       "    <tr>\n",
       "      <th>499</th>\n",
       "      <td>711</td>\n",
       "      <td>X</td>\n",
       "      <td>MMM</td>\n",
       "      <td>[8154, 5970, 7209, 7614]</td>\n",
       "      <td>90.82</td>\n",
       "      <td>11</td>\n",
       "    </tr>\n",
       "  </tbody>\n",
       "</table>\n",
       "<p>500 rows × 6 columns</p>\n",
       "</div>"
      ],
      "text/plain": [
       "     prod_id product_type product_name  \\\n",
       "0        911            M          WWW   \n",
       "1        316            F          MMM   \n",
       "2        549            P          LLL   \n",
       "3        801            V          SSS   \n",
       "4        791            R          AAA   \n",
       "..       ...          ...          ...   \n",
       "495      835            D          KKK   \n",
       "496      323            C          III   \n",
       "497      742            M          OOO   \n",
       "498      412            X          III   \n",
       "499      711            X          MMM   \n",
       "\n",
       "                                            warehouses    price  \\\n",
       "0    [5498, 6164, 5623, 7418, 8962, 7721, 4208, 871...  3088.68   \n",
       "1                                         [3865, 5351]   107.39   \n",
       "2                                               [1969]    47.14   \n",
       "3    [3613, 4412, 2730, 1482, 2430, 7465, 8954, 118...    13.62   \n",
       "4     [3514, 9292, 9388, 6379, 1149, 1526, 6928, 1888]     6.35   \n",
       "..                                                 ...      ...   \n",
       "495               [1835, 4047, 2155, 2969, 1249, 9807]  8530.71   \n",
       "496                     [5381, 7237, 3468, 5177, 2881]  2310.31   \n",
       "497                                       [6283, 3413]  6080.30   \n",
       "498  [7377, 2002, 8299, 1735, 5966, 6548, 4501, 752...    21.64   \n",
       "499                           [8154, 5970, 7209, 7614]    90.82   \n",
       "\n",
       "     profit_margin (%)  \n",
       "0                   24  \n",
       "1                   47  \n",
       "2                    7  \n",
       "3                    6  \n",
       "4                    7  \n",
       "..                 ...  \n",
       "495                 24  \n",
       "496                 30  \n",
       "497                 13  \n",
       "498                 44  \n",
       "499                 11  \n",
       "\n",
       "[500 rows x 6 columns]"
      ]
     },
     "execution_count": 54,
     "metadata": {},
     "output_type": "execute_result"
    }
   ],
   "source": [
    "All_dfs['products']"
   ]
  },
  {
   "cell_type": "code",
   "execution_count": 55,
   "id": "b0aabebe",
   "metadata": {},
   "outputs": [
    {
     "data": {
      "text/html": [
       "<div>\n",
       "<style scoped>\n",
       "    .dataframe tbody tr th:only-of-type {\n",
       "        vertical-align: middle;\n",
       "    }\n",
       "\n",
       "    .dataframe tbody tr th {\n",
       "        vertical-align: top;\n",
       "    }\n",
       "\n",
       "    .dataframe thead th {\n",
       "        text-align: right;\n",
       "    }\n",
       "</style>\n",
       "<table border=\"1\" class=\"dataframe\">\n",
       "  <thead>\n",
       "    <tr style=\"text-align: right;\">\n",
       "      <th></th>\n",
       "      <th>IntOrders_id</th>\n",
       "      <th>IntShip_id</th>\n",
       "      <th>quantity</th>\n",
       "      <th>placed_when</th>\n",
       "      <th>actual_date</th>\n",
       "      <th>expected_date</th>\n",
       "      <th>cost</th>\n",
       "      <th>status</th>\n",
       "      <th>prod_id</th>\n",
       "    </tr>\n",
       "  </thead>\n",
       "  <tbody>\n",
       "    <tr>\n",
       "      <th>0</th>\n",
       "      <td>6266</td>\n",
       "      <td>6224</td>\n",
       "      <td>438</td>\n",
       "      <td>1975-01-08</td>\n",
       "      <td>Unknown</td>\n",
       "      <td>1975-02-01</td>\n",
       "      <td>7.95</td>\n",
       "      <td>Out For Delivery</td>\n",
       "      <td>291</td>\n",
       "    </tr>\n",
       "    <tr>\n",
       "      <th>1</th>\n",
       "      <td>5318</td>\n",
       "      <td>6798</td>\n",
       "      <td>801</td>\n",
       "      <td>2021-01-18</td>\n",
       "      <td>2021-02-07 00:00:00</td>\n",
       "      <td>2021-01-29</td>\n",
       "      <td>7560.41</td>\n",
       "      <td>Delayed</td>\n",
       "      <td>582</td>\n",
       "    </tr>\n",
       "    <tr>\n",
       "      <th>2</th>\n",
       "      <td>2439</td>\n",
       "      <td>8796</td>\n",
       "      <td>882</td>\n",
       "      <td>1978-07-09</td>\n",
       "      <td>Unknown</td>\n",
       "      <td>1978-07-28</td>\n",
       "      <td>35.13</td>\n",
       "      <td>Out For Delivery</td>\n",
       "      <td>679</td>\n",
       "    </tr>\n",
       "    <tr>\n",
       "      <th>3</th>\n",
       "      <td>1851</td>\n",
       "      <td>4895</td>\n",
       "      <td>220</td>\n",
       "      <td>2002-12-28</td>\n",
       "      <td>Unknown</td>\n",
       "      <td>2003-01-22</td>\n",
       "      <td>2.96</td>\n",
       "      <td>Out For Delivery</td>\n",
       "      <td>938</td>\n",
       "    </tr>\n",
       "    <tr>\n",
       "      <th>4</th>\n",
       "      <td>9800</td>\n",
       "      <td>3996</td>\n",
       "      <td>399</td>\n",
       "      <td>1975-10-06</td>\n",
       "      <td>Unknown</td>\n",
       "      <td>1975-10-29</td>\n",
       "      <td>83.16</td>\n",
       "      <td>Out For Delivery</td>\n",
       "      <td>519</td>\n",
       "    </tr>\n",
       "    <tr>\n",
       "      <th>...</th>\n",
       "      <td>...</td>\n",
       "      <td>...</td>\n",
       "      <td>...</td>\n",
       "      <td>...</td>\n",
       "      <td>...</td>\n",
       "      <td>...</td>\n",
       "      <td>...</td>\n",
       "      <td>...</td>\n",
       "      <td>...</td>\n",
       "    </tr>\n",
       "    <tr>\n",
       "      <th>543</th>\n",
       "      <td>10448</td>\n",
       "      <td>10478</td>\n",
       "      <td>766</td>\n",
       "      <td>1993-05-08</td>\n",
       "      <td>1993-05-30 00:00:00</td>\n",
       "      <td>1993-06-01</td>\n",
       "      <td>38.90</td>\n",
       "      <td>Closed</td>\n",
       "      <td>217</td>\n",
       "    </tr>\n",
       "    <tr>\n",
       "      <th>544</th>\n",
       "      <td>10449</td>\n",
       "      <td>10479</td>\n",
       "      <td>766</td>\n",
       "      <td>1993-05-08</td>\n",
       "      <td>1993-05-30 00:00:00</td>\n",
       "      <td>1993-06-01</td>\n",
       "      <td>38.90</td>\n",
       "      <td>Closed</td>\n",
       "      <td>701</td>\n",
       "    </tr>\n",
       "    <tr>\n",
       "      <th>545</th>\n",
       "      <td>10450</td>\n",
       "      <td>10480</td>\n",
       "      <td>766</td>\n",
       "      <td>1993-05-08</td>\n",
       "      <td>1993-05-30 00:00:00</td>\n",
       "      <td>1993-06-01</td>\n",
       "      <td>38.90</td>\n",
       "      <td>Closed</td>\n",
       "      <td>579</td>\n",
       "    </tr>\n",
       "    <tr>\n",
       "      <th>546</th>\n",
       "      <td>10451</td>\n",
       "      <td>10481</td>\n",
       "      <td>766</td>\n",
       "      <td>1993-05-08</td>\n",
       "      <td>1993-05-30 00:00:00</td>\n",
       "      <td>1993-06-01</td>\n",
       "      <td>38.90</td>\n",
       "      <td>Closed</td>\n",
       "      <td>786</td>\n",
       "    </tr>\n",
       "    <tr>\n",
       "      <th>547</th>\n",
       "      <td>10452</td>\n",
       "      <td>10482</td>\n",
       "      <td>766</td>\n",
       "      <td>1993-05-08</td>\n",
       "      <td>1993-05-30 00:00:00</td>\n",
       "      <td>1993-06-01</td>\n",
       "      <td>38.90</td>\n",
       "      <td>Closed</td>\n",
       "      <td>945</td>\n",
       "    </tr>\n",
       "  </tbody>\n",
       "</table>\n",
       "<p>548 rows × 9 columns</p>\n",
       "</div>"
      ],
      "text/plain": [
       "     IntOrders_id  IntShip_id  quantity placed_when          actual_date  \\\n",
       "0            6266        6224       438  1975-01-08              Unknown   \n",
       "1            5318        6798       801  2021-01-18  2021-02-07 00:00:00   \n",
       "2            2439        8796       882  1978-07-09              Unknown   \n",
       "3            1851        4895       220  2002-12-28              Unknown   \n",
       "4            9800        3996       399  1975-10-06              Unknown   \n",
       "..            ...         ...       ...         ...                  ...   \n",
       "543         10448       10478       766  1993-05-08  1993-05-30 00:00:00   \n",
       "544         10449       10479       766  1993-05-08  1993-05-30 00:00:00   \n",
       "545         10450       10480       766  1993-05-08  1993-05-30 00:00:00   \n",
       "546         10451       10481       766  1993-05-08  1993-05-30 00:00:00   \n",
       "547         10452       10482       766  1993-05-08  1993-05-30 00:00:00   \n",
       "\n",
       "    expected_date     cost            status  prod_id  \n",
       "0      1975-02-01     7.95  Out For Delivery      291  \n",
       "1      2021-01-29  7560.41           Delayed      582  \n",
       "2      1978-07-28    35.13  Out For Delivery      679  \n",
       "3      2003-01-22     2.96  Out For Delivery      938  \n",
       "4      1975-10-29    83.16  Out For Delivery      519  \n",
       "..            ...      ...               ...      ...  \n",
       "543    1993-06-01    38.90            Closed      217  \n",
       "544    1993-06-01    38.90            Closed      701  \n",
       "545    1993-06-01    38.90            Closed      579  \n",
       "546    1993-06-01    38.90            Closed      786  \n",
       "547    1993-06-01    38.90            Closed      945  \n",
       "\n",
       "[548 rows x 9 columns]"
      ]
     },
     "execution_count": 55,
     "metadata": {},
     "output_type": "execute_result"
    }
   ],
   "source": [
    "All_dfs['ssintorders']"
   ]
  },
  {
   "cell_type": "code",
   "execution_count": 56,
   "id": "ce6a69cd",
   "metadata": {},
   "outputs": [
    {
     "data": {
      "text/html": [
       "<div>\n",
       "<style scoped>\n",
       "    .dataframe tbody tr th:only-of-type {\n",
       "        vertical-align: middle;\n",
       "    }\n",
       "\n",
       "    .dataframe tbody tr th {\n",
       "        vertical-align: top;\n",
       "    }\n",
       "\n",
       "    .dataframe thead th {\n",
       "        text-align: right;\n",
       "    }\n",
       "</style>\n",
       "<table border=\"1\" class=\"dataframe\">\n",
       "  <thead>\n",
       "    <tr style=\"text-align: right;\">\n",
       "      <th></th>\n",
       "      <th>warehouse_id</th>\n",
       "      <th>country</th>\n",
       "      <th>city_name</th>\n",
       "      <th>capacity (NA)</th>\n",
       "      <th>product_types</th>\n",
       "      <th>Operations Expenses</th>\n",
       "      <th>Rental price</th>\n",
       "    </tr>\n",
       "  </thead>\n",
       "  <tbody>\n",
       "    <tr>\n",
       "      <th>0</th>\n",
       "      <td>1012</td>\n",
       "      <td>Sierra Leone</td>\n",
       "      <td>Eastern</td>\n",
       "      <td>870268</td>\n",
       "      <td>[B, N, D, R]</td>\n",
       "      <td>0.51</td>\n",
       "      <td>2.87</td>\n",
       "    </tr>\n",
       "    <tr>\n",
       "      <th>1</th>\n",
       "      <td>1017</td>\n",
       "      <td>Réunion</td>\n",
       "      <td>Unknown</td>\n",
       "      <td>453753</td>\n",
       "      <td>[G, W, O, A]</td>\n",
       "      <td>0.67</td>\n",
       "      <td>2.11</td>\n",
       "    </tr>\n",
       "    <tr>\n",
       "      <th>2</th>\n",
       "      <td>1028</td>\n",
       "      <td>Malawi</td>\n",
       "      <td>Chitipa</td>\n",
       "      <td>687914</td>\n",
       "      <td>[Z, M, F, E, O, X, S]</td>\n",
       "      <td>0.59</td>\n",
       "      <td>2.26</td>\n",
       "    </tr>\n",
       "    <tr>\n",
       "      <th>3</th>\n",
       "      <td>1034</td>\n",
       "      <td>Lao People's Democratic Republic</td>\n",
       "      <td>Viangchan</td>\n",
       "      <td>594912</td>\n",
       "      <td>[H, D, R, G, O, A, W]</td>\n",
       "      <td>0.93</td>\n",
       "      <td>2.70</td>\n",
       "    </tr>\n",
       "    <tr>\n",
       "      <th>4</th>\n",
       "      <td>1045</td>\n",
       "      <td>Cocos (Keeling) Islands</td>\n",
       "      <td>Unknown</td>\n",
       "      <td>336363</td>\n",
       "      <td>[S, Q, C, V]</td>\n",
       "      <td>0.67</td>\n",
       "      <td>1.93</td>\n",
       "    </tr>\n",
       "    <tr>\n",
       "      <th>...</th>\n",
       "      <td>...</td>\n",
       "      <td>...</td>\n",
       "      <td>...</td>\n",
       "      <td>...</td>\n",
       "      <td>...</td>\n",
       "      <td>...</td>\n",
       "      <td>...</td>\n",
       "    </tr>\n",
       "    <tr>\n",
       "      <th>995</th>\n",
       "      <td>9964</td>\n",
       "      <td>Norway</td>\n",
       "      <td>Jan Mayen (Arctic Region)</td>\n",
       "      <td>918141</td>\n",
       "      <td>[U, T, H, L]</td>\n",
       "      <td>0.66</td>\n",
       "      <td>1.88</td>\n",
       "    </tr>\n",
       "    <tr>\n",
       "      <th>996</th>\n",
       "      <td>9970</td>\n",
       "      <td>Bouvet Island</td>\n",
       "      <td>Unknown</td>\n",
       "      <td>654580</td>\n",
       "      <td>[B, W]</td>\n",
       "      <td>0.74</td>\n",
       "      <td>1.91</td>\n",
       "    </tr>\n",
       "    <tr>\n",
       "      <th>997</th>\n",
       "      <td>9975</td>\n",
       "      <td>Plurinational State of Bolivia</td>\n",
       "      <td>Tarija</td>\n",
       "      <td>850849</td>\n",
       "      <td>[I, K, W, A, V, Y, Z]</td>\n",
       "      <td>0.54</td>\n",
       "      <td>2.13</td>\n",
       "    </tr>\n",
       "    <tr>\n",
       "      <th>998</th>\n",
       "      <td>9981</td>\n",
       "      <td>Qatar</td>\n",
       "      <td>Ash Shamāl</td>\n",
       "      <td>105036</td>\n",
       "      <td>[Q, A]</td>\n",
       "      <td>0.70</td>\n",
       "      <td>2.91</td>\n",
       "    </tr>\n",
       "    <tr>\n",
       "      <th>999</th>\n",
       "      <td>9996</td>\n",
       "      <td>Tunisia</td>\n",
       "      <td>Ben Arous</td>\n",
       "      <td>741178</td>\n",
       "      <td>[M, N, U, L]</td>\n",
       "      <td>0.70</td>\n",
       "      <td>2.49</td>\n",
       "    </tr>\n",
       "  </tbody>\n",
       "</table>\n",
       "<p>1000 rows × 7 columns</p>\n",
       "</div>"
      ],
      "text/plain": [
       "     warehouse_id                           country  \\\n",
       "0            1012                      Sierra Leone   \n",
       "1            1017                           Réunion   \n",
       "2            1028                            Malawi   \n",
       "3            1034  Lao People's Democratic Republic   \n",
       "4            1045           Cocos (Keeling) Islands   \n",
       "..            ...                               ...   \n",
       "995          9964                            Norway   \n",
       "996          9970                     Bouvet Island   \n",
       "997          9975    Plurinational State of Bolivia   \n",
       "998          9981                             Qatar   \n",
       "999          9996                           Tunisia   \n",
       "\n",
       "                     city_name  capacity (NA)          product_types  \\\n",
       "0                      Eastern         870268           [B, N, D, R]   \n",
       "1                      Unknown         453753           [G, W, O, A]   \n",
       "2                      Chitipa         687914  [Z, M, F, E, O, X, S]   \n",
       "3                    Viangchan         594912  [H, D, R, G, O, A, W]   \n",
       "4                      Unknown         336363           [S, Q, C, V]   \n",
       "..                         ...            ...                    ...   \n",
       "995  Jan Mayen (Arctic Region)         918141           [U, T, H, L]   \n",
       "996                    Unknown         654580                 [B, W]   \n",
       "997                     Tarija         850849  [I, K, W, A, V, Y, Z]   \n",
       "998                 Ash Shamāl         105036                 [Q, A]   \n",
       "999                  Ben Arous         741178           [M, N, U, L]   \n",
       "\n",
       "     Operations Expenses  Rental price  \n",
       "0                   0.51          2.87  \n",
       "1                   0.67          2.11  \n",
       "2                   0.59          2.26  \n",
       "3                   0.93          2.70  \n",
       "4                   0.67          1.93  \n",
       "..                   ...           ...  \n",
       "995                 0.66          1.88  \n",
       "996                 0.74          1.91  \n",
       "997                 0.54          2.13  \n",
       "998                 0.70          2.91  \n",
       "999                 0.70          2.49  \n",
       "\n",
       "[1000 rows x 7 columns]"
      ]
     },
     "execution_count": 56,
     "metadata": {},
     "output_type": "execute_result"
    }
   ],
   "source": [
    "All_dfs[\"warehouses\"]"
   ]
  },
  {
   "cell_type": "markdown",
   "id": "7d738a7f",
   "metadata": {},
   "source": [
    "### Using Naming Convention to create Nodes and Edges"
   ]
  },
  {
   "cell_type": "code",
   "execution_count": 138,
   "id": "3177ec49",
   "metadata": {},
   "outputs": [
    {
     "name": "stdout",
     "output_type": "stream",
     "text": [
      "['customer', 'externalservices', 'externaltransactions', 'facilities', 'internalservices', 'internaltransactions', 'manufacturing', 'products', 'retailer', 'supplier', 'warehouses', 'rcextship', 'scextship', 'srintship', 'ssintship', 'rcextorders', 'scextorders', 'srintorders', 'ssintorders']\n"
     ]
    }
   ],
   "source": [
    "allDfsKeys = list(All_dfs.keys())\n",
    "print(allDfsKeys)\n",
    "\n",
    "convert_using_naming()"
   ]
  },
  {
   "cell_type": "code",
   "execution_count": 43,
   "id": "b61e3beb",
   "metadata": {},
   "outputs": [
    {
     "data": {
      "text/plain": [
       "['customer',\n",
       " 'externalservices',\n",
       " 'externaltransactions',\n",
       " 'facilities',\n",
       " 'internalservices',\n",
       " 'internaltransactions',\n",
       " 'manufacturing',\n",
       " 'products',\n",
       " 'retailer',\n",
       " 'supplier',\n",
       " 'warehouses',\n",
       " 'rcextship',\n",
       " 'scextship',\n",
       " 'srintship',\n",
       " 'ssintship',\n",
       " 'rcextorders',\n",
       " 'scextorders',\n",
       " 'srintorders',\n",
       " 'ssintorders']"
      ]
     },
     "execution_count": 43,
     "metadata": {},
     "output_type": "execute_result"
    }
   ],
   "source": [
    "allDfsKeys"
   ]
  },
  {
   "cell_type": "markdown",
   "id": "44151839",
   "metadata": {
    "id": "44151839"
   },
   "source": [
    "### Initialize fk and ref_in"
   ]
  },
  {
   "cell_type": "code",
   "execution_count": 44,
   "id": "d0650994",
   "metadata": {
    "id": "d0650994"
   },
   "outputs": [],
   "source": [
    "table_name = list(All_dfs.keys())\n",
    "for table_name in All_dfs:\n",
    "    fk[table_name] = {}\n",
    "    ref_in[table_name] = set()"
   ]
  },
  {
   "cell_type": "markdown",
   "id": "abaac2b1",
   "metadata": {
    "id": "abaac2b1"
   },
   "source": [
    "### Get Primary key for each table"
   ]
  },
  {
   "cell_type": "code",
   "execution_count": 45,
   "id": "2009ba51",
   "metadata": {
    "colab": {
     "base_uri": "https://localhost:8080/"
    },
    "id": "2009ba51",
    "outputId": "ca52c92d-cdf1-4e43-f6ae-521a641f6143"
   },
   "outputs": [
    {
     "data": {
      "text/plain": [
       "{'customer': 'cust_id',\n",
       " 'externalservices': 'ExtServ_id',\n",
       " 'externaltransactions': 'ExtTran_id',\n",
       " 'facilities': 'fac_id',\n",
       " 'internalservices': 'IntServ_id',\n",
       " 'internaltransactions': 'IntTran_id',\n",
       " 'manufacturing': 'Manf_id',\n",
       " 'products': 'prod_id',\n",
       " 'retailer': 'retailer_id',\n",
       " 'supplier': 'supp_id',\n",
       " 'warehouses': 'warehouse_id',\n",
       " 'rcextship': 'ExtShip_id',\n",
       " 'scextship': 'ExtShip_id',\n",
       " 'srintship': 'IntShip_id',\n",
       " 'ssintship': 'IntShip_id',\n",
       " 'rcextorders': 'ExtOrders_id',\n",
       " 'scextorders': 'ExtOrders_id',\n",
       " 'srintorders': 'IntOrders_id',\n",
       " 'ssintorders': 'IntOrders_id'}"
      ]
     },
     "execution_count": 45,
     "metadata": {},
     "output_type": "execute_result"
    }
   ],
   "source": [
    "for t in All_dfs:\n",
    "    pk_finder(t,All_dfs[t])\n",
    "pk"
   ]
  },
  {
   "cell_type": "markdown",
   "id": "dcedd35e",
   "metadata": {
    "id": "dcedd35e"
   },
   "source": [
    "### Get Foreing key for each table"
   ]
  },
  {
   "cell_type": "code",
   "execution_count": 46,
   "id": "ea835d03",
   "metadata": {
    "colab": {
     "base_uri": "https://localhost:8080/"
    },
    "id": "ea835d03",
    "outputId": "d1773b0b-f680-4a53-a7b1-45229492cb26"
   },
   "outputs": [
    {
     "data": {
      "text/plain": [
       "{'customer': {},\n",
       " 'externalservices': {'ExtTrans_id': 'externaltransactions'},\n",
       " 'externaltransactions': {'CompFrom': 'supplier', 'Custto': 'customer'},\n",
       " 'facilities': {'supplier_id': 'supplier'},\n",
       " 'internalservices': {'IntTrans_id': 'internaltransactions'},\n",
       " 'internaltransactions': {'CompFrom': 'supplier', 'Compto': 'supplier'},\n",
       " 'manufacturing': {'Different_suppliers': 'supplier',\n",
       "  'Product_id': 'products',\n",
       "  'Factory_id': 'supplier'},\n",
       " 'products': {'warehouses': 'warehouses'},\n",
       " 'retailer': {},\n",
       " 'supplier': {},\n",
       " 'warehouses': {},\n",
       " 'rcextship': {'factoryIds/retailerIds': 'retailer', 'idsTo': 'customer'},\n",
       " 'scextship': {'factoryIds/retailerIds': 'supplier', 'idsTo': 'customer'},\n",
       " 'srintship': {'listSuppIds': 'supplier', 'factoryIds': 'retailer'},\n",
       " 'ssintship': {'listSuppIds': 'supplier', 'factoryIds': 'supplier'},\n",
       " 'rcextorders': {'ExtShip_id': 'rcextship'},\n",
       " 'scextorders': {'ExtShip_id': 'scextship'},\n",
       " 'srintorders': {'IntShip_id': 'srintship'},\n",
       " 'ssintorders': {'IntShip_id': 'ssintship', 'prod_id': 'products'}}"
      ]
     },
     "execution_count": 46,
     "metadata": {},
     "output_type": "execute_result"
    }
   ],
   "source": [
    "for t in All_dfs:\n",
    "    fk_finder(t,All_dfs[t])\n",
    "fk"
   ]
  },
  {
   "cell_type": "code",
   "execution_count": 47,
   "id": "db523572",
   "metadata": {
    "colab": {
     "base_uri": "https://localhost:8080/"
    },
    "id": "db523572",
    "outputId": "56de3687-8004-45ee-d1cd-2a194d42c74b"
   },
   "outputs": [
    {
     "data": {
      "text/plain": [
       "{'customer': {'externaltransactions', 'rcextship', 'scextship'},\n",
       " 'externalservices': set(),\n",
       " 'externaltransactions': {'externalservices'},\n",
       " 'facilities': set(),\n",
       " 'internalservices': set(),\n",
       " 'internaltransactions': {'internalservices'},\n",
       " 'manufacturing': set(),\n",
       " 'products': {'manufacturing', 'ssintorders'},\n",
       " 'retailer': {'rcextship', 'srintship'},\n",
       " 'supplier': {'externaltransactions',\n",
       "  'facilities',\n",
       "  'internaltransactions',\n",
       "  'manufacturing',\n",
       "  'scextship',\n",
       "  'srintship',\n",
       "  'ssintship'},\n",
       " 'warehouses': {'products'},\n",
       " 'rcextship': {'rcextorders'},\n",
       " 'scextship': {'scextorders'},\n",
       " 'srintship': {'srintorders'},\n",
       " 'ssintship': {'ssintorders'},\n",
       " 'rcextorders': set(),\n",
       " 'scextorders': set(),\n",
       " 'srintorders': set(),\n",
       " 'ssintorders': set()}"
      ]
     },
     "execution_count": 47,
     "metadata": {},
     "output_type": "execute_result"
    }
   ],
   "source": [
    "ref_in"
   ]
  },
  {
   "cell_type": "markdown",
   "id": "e47d40f8",
   "metadata": {
    "id": "e47d40f8"
   },
   "source": [
    "### Determine nodes and edges"
   ]
  },
  {
   "cell_type": "code",
   "execution_count": 48,
   "id": "e5ca1421",
   "metadata": {
    "id": "e5ca1421"
   },
   "outputs": [],
   "source": [
    "nodes_edges(fk)"
   ]
  },
  {
   "cell_type": "code",
   "execution_count": 49,
   "id": "557ca7af",
   "metadata": {
    "colab": {
     "base_uri": "https://localhost:8080/"
    },
    "id": "557ca7af",
    "outputId": "087881bb-4c71-4280-fe8f-2acb191670bf"
   },
   "outputs": [
    {
     "data": {
      "text/plain": [
       "{'customer', 'retailer', 'supplier', 'warehouses'}"
      ]
     },
     "execution_count": 49,
     "metadata": {},
     "output_type": "execute_result"
    }
   ],
   "source": [
    "nodes"
   ]
  },
  {
   "cell_type": "code",
   "execution_count": 50,
   "id": "4e3ebbb5",
   "metadata": {
    "colab": {
     "base_uri": "https://localhost:8080/"
    },
    "id": "4e3ebbb5",
    "outputId": "51aa740e-5aa0-4d32-a52a-aa2eb58182e1"
   },
   "outputs": [
    {
     "data": {
      "text/plain": [
       "{'externaltransactions',\n",
       " 'internaltransactions',\n",
       " 'rcextship',\n",
       " 'scextship',\n",
       " 'srintship',\n",
       " 'ssintship'}"
      ]
     },
     "execution_count": 50,
     "metadata": {},
     "output_type": "execute_result"
    }
   ],
   "source": [
    "\n",
    "edges"
   ]
  },
  {
   "cell_type": "code",
   "execution_count": 51,
   "id": "5ba55d53",
   "metadata": {
    "colab": {
     "base_uri": "https://localhost:8080/"
    },
    "id": "5ba55d53",
    "outputId": "20e0398e-6349-48ab-d1cb-63958dda0890"
   },
   "outputs": [
    {
     "data": {
      "text/plain": [
       "{'externalservices',\n",
       " 'facilities',\n",
       " 'internalservices',\n",
       " 'products',\n",
       " 'rcextorders',\n",
       " 'scextorders',\n",
       " 'srintorders'}"
      ]
     },
     "execution_count": 51,
     "metadata": {},
     "output_type": "execute_result"
    }
   ],
   "source": [
    "properties"
   ]
  },
  {
   "cell_type": "markdown",
   "id": "16e305b5",
   "metadata": {
    "id": "16e305b5"
   },
   "source": [
    "### Create NodesTable"
   ]
  },
  {
   "cell_type": "code",
   "execution_count": 52,
   "id": "bcd83ca2",
   "metadata": {
    "colab": {
     "base_uri": "https://localhost:8080/",
     "height": 424
    },
    "id": "bcd83ca2",
    "outputId": "53ab6f8b-8dbe-4019-95c9-e697929c2d52"
   },
   "outputs": [
    {
     "name": "stdout",
     "output_type": "stream",
     "text": [
      "warehouses\n",
      "customer\n",
      "retailer\n",
      "supplier\n"
     ]
    },
    {
     "data": {
      "text/html": [
       "<div>\n",
       "<style scoped>\n",
       "    .dataframe tbody tr th:only-of-type {\n",
       "        vertical-align: middle;\n",
       "    }\n",
       "\n",
       "    .dataframe tbody tr th {\n",
       "        vertical-align: top;\n",
       "    }\n",
       "\n",
       "    .dataframe thead th {\n",
       "        text-align: right;\n",
       "    }\n",
       "</style>\n",
       "<table border=\"1\" class=\"dataframe\">\n",
       "  <thead>\n",
       "    <tr style=\"text-align: right;\">\n",
       "      <th></th>\n",
       "      <th>Label</th>\n",
       "      <th>ID</th>\n",
       "      <th>Attributes</th>\n",
       "    </tr>\n",
       "  </thead>\n",
       "  <tbody>\n",
       "    <tr>\n",
       "      <th>0</th>\n",
       "      <td>warehouses</td>\n",
       "      <td>1012</td>\n",
       "      <td>[Sierra Leone, Eastern, 870268, ['B',  'N',  '...</td>\n",
       "    </tr>\n",
       "    <tr>\n",
       "      <th>1</th>\n",
       "      <td>warehouses</td>\n",
       "      <td>1017</td>\n",
       "      <td>[Réunion, Unknown, 453753, ['G',  'W',  'O',  ...</td>\n",
       "    </tr>\n",
       "    <tr>\n",
       "      <th>2</th>\n",
       "      <td>warehouses</td>\n",
       "      <td>1028</td>\n",
       "      <td>[Malawi, Chitipa, 687914, ['Z',  'M',  'F',  '...</td>\n",
       "    </tr>\n",
       "    <tr>\n",
       "      <th>3</th>\n",
       "      <td>warehouses</td>\n",
       "      <td>1034</td>\n",
       "      <td>[Lao People's Democratic Republic, Viangchan, ...</td>\n",
       "    </tr>\n",
       "    <tr>\n",
       "      <th>4</th>\n",
       "      <td>warehouses</td>\n",
       "      <td>1045</td>\n",
       "      <td>[Cocos (Keeling) Islands, Unknown, 336363, ['S...</td>\n",
       "    </tr>\n",
       "    <tr>\n",
       "      <th>...</th>\n",
       "      <td>...</td>\n",
       "      <td>...</td>\n",
       "      <td>...</td>\n",
       "    </tr>\n",
       "    <tr>\n",
       "      <th>1595</th>\n",
       "      <td>supplier</td>\n",
       "      <td>90256</td>\n",
       "      <td>[Förster, Ethiopia, Addis Ababa, Dollars, Pape...</td>\n",
       "    </tr>\n",
       "    <tr>\n",
       "      <th>1596</th>\n",
       "      <td>supplier</td>\n",
       "      <td>35266</td>\n",
       "      <td>[Gotthard Zahn GmbH, Finland, Pohjanmaa, Dolla...</td>\n",
       "    </tr>\n",
       "    <tr>\n",
       "      <th>1597</th>\n",
       "      <td>supplier</td>\n",
       "      <td>52647</td>\n",
       "      <td>[Cook-Webb, Morocco, Berkane, Dollars, Paper, ...</td>\n",
       "    </tr>\n",
       "    <tr>\n",
       "      <th>1598</th>\n",
       "      <td>supplier</td>\n",
       "      <td>13355</td>\n",
       "      <td>[Shah-Lowe, Central African Republic, Bamingui...</td>\n",
       "    </tr>\n",
       "    <tr>\n",
       "      <th>1599</th>\n",
       "      <td>supplier</td>\n",
       "      <td>48467</td>\n",
       "      <td>[Brandt Ltd, Anguilla, Unknown, Dollars, Oil &amp;...</td>\n",
       "    </tr>\n",
       "  </tbody>\n",
       "</table>\n",
       "<p>1600 rows × 3 columns</p>\n",
       "</div>"
      ],
      "text/plain": [
       "           Label     ID                                         Attributes\n",
       "0     warehouses   1012  [Sierra Leone, Eastern, 870268, ['B',  'N',  '...\n",
       "1     warehouses   1017  [Réunion, Unknown, 453753, ['G',  'W',  'O',  ...\n",
       "2     warehouses   1028  [Malawi, Chitipa, 687914, ['Z',  'M',  'F',  '...\n",
       "3     warehouses   1034  [Lao People's Democratic Republic, Viangchan, ...\n",
       "4     warehouses   1045  [Cocos (Keeling) Islands, Unknown, 336363, ['S...\n",
       "...          ...    ...                                                ...\n",
       "1595    supplier  90256  [Förster, Ethiopia, Addis Ababa, Dollars, Pape...\n",
       "1596    supplier  35266  [Gotthard Zahn GmbH, Finland, Pohjanmaa, Dolla...\n",
       "1597    supplier  52647  [Cook-Webb, Morocco, Berkane, Dollars, Paper, ...\n",
       "1598    supplier  13355  [Shah-Lowe, Central African Republic, Bamingui...\n",
       "1599    supplier  48467  [Brandt Ltd, Anguilla, Unknown, Dollars, Oil &...\n",
       "\n",
       "[1600 rows x 3 columns]"
      ]
     },
     "execution_count": 52,
     "metadata": {},
     "output_type": "execute_result"
    }
   ],
   "source": [
    "# nodesTable = add_nodes(nodes,nodesTable)\n",
    "\n",
    "nodesTable = add_nodesV2(nodes, nodesTable)\n",
    "\n",
    "nodesTable"
   ]
  },
  {
   "cell_type": "code",
   "execution_count": 53,
   "id": "1f846299",
   "metadata": {},
   "outputs": [
    {
     "data": {
      "text/plain": [
       "warehouses    1000\n",
       "supplier       300\n",
       "customer       150\n",
       "retailer       150\n",
       "Name: Label, dtype: int64"
      ]
     },
     "execution_count": 53,
     "metadata": {},
     "output_type": "execute_result"
    }
   ],
   "source": [
    "nodesTable[\"Label\"].value_counts()"
   ]
  },
  {
   "cell_type": "markdown",
   "id": "92bfeb8a",
   "metadata": {
    "id": "92bfeb8a"
   },
   "source": [
    "### Create Edges Table"
   ]
  },
  {
   "cell_type": "code",
   "execution_count": 54,
   "id": "243aacff",
   "metadata": {
    "colab": {
     "base_uri": "https://localhost:8080/",
     "height": 424
    },
    "id": "243aacff",
    "outputId": "4aa0f919-0ceb-466f-b768-fe040f2f78c0"
   },
   "outputs": [
    {
     "data": {
      "text/html": [
       "<div>\n",
       "<style scoped>\n",
       "    .dataframe tbody tr th:only-of-type {\n",
       "        vertical-align: middle;\n",
       "    }\n",
       "\n",
       "    .dataframe tbody tr th {\n",
       "        vertical-align: top;\n",
       "    }\n",
       "\n",
       "    .dataframe thead th {\n",
       "        text-align: right;\n",
       "    }\n",
       "</style>\n",
       "<table border=\"1\" class=\"dataframe\">\n",
       "  <thead>\n",
       "    <tr style=\"text-align: right;\">\n",
       "      <th></th>\n",
       "      <th>From_Node_ID</th>\n",
       "      <th>To_Node_ID</th>\n",
       "      <th>order/service</th>\n",
       "    </tr>\n",
       "  </thead>\n",
       "  <tbody>\n",
       "    <tr>\n",
       "      <th>0</th>\n",
       "      <td>1471</td>\n",
       "      <td>1263</td>\n",
       "      <td>[{'IntOrders_id': 9931, 'quantity': 766, 'plac...</td>\n",
       "    </tr>\n",
       "    <tr>\n",
       "      <th>1</th>\n",
       "      <td>1315</td>\n",
       "      <td>1217</td>\n",
       "      <td>[{'IntOrders_id': 8605, 'quantity': 766, 'plac...</td>\n",
       "    </tr>\n",
       "    <tr>\n",
       "      <th>2</th>\n",
       "      <td>1531</td>\n",
       "      <td>1193</td>\n",
       "      <td>[{'IntOrders_id': 9932, 'quantity': 766, 'plac...</td>\n",
       "    </tr>\n",
       "    <tr>\n",
       "      <th>3</th>\n",
       "      <td>1540</td>\n",
       "      <td>1267</td>\n",
       "      <td>[{'IntOrders_id': 2591, 'quantity': 373, 'plac...</td>\n",
       "    </tr>\n",
       "    <tr>\n",
       "      <th>4</th>\n",
       "      <td>1569</td>\n",
       "      <td>1272</td>\n",
       "      <td>[{'IntOrders_id': 6219, 'quantity': 598, 'plac...</td>\n",
       "    </tr>\n",
       "    <tr>\n",
       "      <th>...</th>\n",
       "      <td>...</td>\n",
       "      <td>...</td>\n",
       "      <td>...</td>\n",
       "    </tr>\n",
       "    <tr>\n",
       "      <th>883</th>\n",
       "      <td>1341</td>\n",
       "      <td>1306</td>\n",
       "      <td>[{'IntServ_id': 5693, 'placed_when': '2016-04-...</td>\n",
       "    </tr>\n",
       "    <tr>\n",
       "      <th>884</th>\n",
       "      <td>1531</td>\n",
       "      <td>1404</td>\n",
       "      <td>[{'IntServ_id': 6508, 'placed_when': '1980-05-...</td>\n",
       "    </tr>\n",
       "    <tr>\n",
       "      <th>885</th>\n",
       "      <td>1564</td>\n",
       "      <td>1424</td>\n",
       "      <td>[]</td>\n",
       "    </tr>\n",
       "    <tr>\n",
       "      <th>886</th>\n",
       "      <td>1465</td>\n",
       "      <td>1379</td>\n",
       "      <td>[{'IntServ_id': 3409, 'placed_when': '1986-05-...</td>\n",
       "    </tr>\n",
       "    <tr>\n",
       "      <th>887</th>\n",
       "      <td>1575</td>\n",
       "      <td>1546</td>\n",
       "      <td>[]</td>\n",
       "    </tr>\n",
       "  </tbody>\n",
       "</table>\n",
       "<p>888 rows × 3 columns</p>\n",
       "</div>"
      ],
      "text/plain": [
       "    From_Node_ID To_Node_ID                                      order/service\n",
       "0           1471       1263  [{'IntOrders_id': 9931, 'quantity': 766, 'plac...\n",
       "1           1315       1217  [{'IntOrders_id': 8605, 'quantity': 766, 'plac...\n",
       "2           1531       1193  [{'IntOrders_id': 9932, 'quantity': 766, 'plac...\n",
       "3           1540       1267  [{'IntOrders_id': 2591, 'quantity': 373, 'plac...\n",
       "4           1569       1272  [{'IntOrders_id': 6219, 'quantity': 598, 'plac...\n",
       "..           ...        ...                                                ...\n",
       "883         1341       1306  [{'IntServ_id': 5693, 'placed_when': '2016-04-...\n",
       "884         1531       1404  [{'IntServ_id': 6508, 'placed_when': '1980-05-...\n",
       "885         1564       1424                                                 []\n",
       "886         1465       1379  [{'IntServ_id': 3409, 'placed_when': '1986-05-...\n",
       "887         1575       1546                                                 []\n",
       "\n",
       "[888 rows x 3 columns]"
      ]
     },
     "execution_count": 54,
     "metadata": {},
     "output_type": "execute_result"
    }
   ],
   "source": [
    "edgesTable = add_edges(edges, edgesTable,pk,fk,ref_in)\n",
    "edgesTable"
   ]
  },
  {
   "cell_type": "code",
   "execution_count": 55,
   "id": "ziqKFfbOwK60",
   "metadata": {
    "id": "ziqKFfbOwK60"
   },
   "outputs": [],
   "source": [
    "# nodes_df = pd.DataFrame(columns=['Label', 'ID', 'Attributes'])\n",
    "# edges_df = pd.DataFrame(columns=['From','To'])\n",
    "for node in nodes:\n",
    "    column_names = list(All_dfs[node].columns) #get column names\n",
    "    for index, row in All_dfs[node].iterrows():\n",
    "        att = {}\n",
    "        for i in range(1, len(column_names)):\n",
    "            att[column_names[i]] = All_dfs[node].iloc[index, i]\n",
    "        newRow = [{'Label': node , 'ID': All_dfs[node].iloc[index,0] , 'Attributes': att}]\n",
    "        tmp = pd.DataFrame(newRow)\n",
    "        nodes_df = pd.concat([nodes_df, tmp], ignore_index=True)"
   ]
  },
  {
   "cell_type": "code",
   "execution_count": 56,
   "id": "9c727854",
   "metadata": {},
   "outputs": [
    {
     "data": {
      "text/html": [
       "<div>\n",
       "<style scoped>\n",
       "    .dataframe tbody tr th:only-of-type {\n",
       "        vertical-align: middle;\n",
       "    }\n",
       "\n",
       "    .dataframe tbody tr th {\n",
       "        vertical-align: top;\n",
       "    }\n",
       "\n",
       "    .dataframe thead th {\n",
       "        text-align: right;\n",
       "    }\n",
       "</style>\n",
       "<table border=\"1\" class=\"dataframe\">\n",
       "  <thead>\n",
       "    <tr style=\"text-align: right;\">\n",
       "      <th></th>\n",
       "      <th>Label</th>\n",
       "      <th>ID</th>\n",
       "      <th>Attributes</th>\n",
       "    </tr>\n",
       "  </thead>\n",
       "  <tbody>\n",
       "    <tr>\n",
       "      <th>0</th>\n",
       "      <td>warehouses</td>\n",
       "      <td>1012</td>\n",
       "      <td>{'country': 'Sierra Leone', 'city_name': 'East...</td>\n",
       "    </tr>\n",
       "    <tr>\n",
       "      <th>1</th>\n",
       "      <td>warehouses</td>\n",
       "      <td>1017</td>\n",
       "      <td>{'country': 'Réunion', 'city_name': 'Unknown',...</td>\n",
       "    </tr>\n",
       "    <tr>\n",
       "      <th>2</th>\n",
       "      <td>warehouses</td>\n",
       "      <td>1028</td>\n",
       "      <td>{'country': 'Malawi', 'city_name': 'Chitipa', ...</td>\n",
       "    </tr>\n",
       "    <tr>\n",
       "      <th>3</th>\n",
       "      <td>warehouses</td>\n",
       "      <td>1034</td>\n",
       "      <td>{'country': 'Lao People's Democratic Republic'...</td>\n",
       "    </tr>\n",
       "    <tr>\n",
       "      <th>4</th>\n",
       "      <td>warehouses</td>\n",
       "      <td>1045</td>\n",
       "      <td>{'country': 'Cocos (Keeling) Islands', 'city_n...</td>\n",
       "    </tr>\n",
       "    <tr>\n",
       "      <th>...</th>\n",
       "      <td>...</td>\n",
       "      <td>...</td>\n",
       "      <td>...</td>\n",
       "    </tr>\n",
       "    <tr>\n",
       "      <th>1595</th>\n",
       "      <td>supplier</td>\n",
       "      <td>90256</td>\n",
       "      <td>{'supplier_name': 'Förster', 'country': 'Ethio...</td>\n",
       "    </tr>\n",
       "    <tr>\n",
       "      <th>1596</th>\n",
       "      <td>supplier</td>\n",
       "      <td>35266</td>\n",
       "      <td>{'supplier_name': 'Gotthard Zahn GmbH', 'count...</td>\n",
       "    </tr>\n",
       "    <tr>\n",
       "      <th>1597</th>\n",
       "      <td>supplier</td>\n",
       "      <td>52647</td>\n",
       "      <td>{'supplier_name': 'Cook-Webb', 'country': 'Mor...</td>\n",
       "    </tr>\n",
       "    <tr>\n",
       "      <th>1598</th>\n",
       "      <td>supplier</td>\n",
       "      <td>13355</td>\n",
       "      <td>{'supplier_name': 'Shah-Lowe', 'country': 'Cen...</td>\n",
       "    </tr>\n",
       "    <tr>\n",
       "      <th>1599</th>\n",
       "      <td>supplier</td>\n",
       "      <td>48467</td>\n",
       "      <td>{'supplier_name': 'Brandt Ltd', 'country': 'An...</td>\n",
       "    </tr>\n",
       "  </tbody>\n",
       "</table>\n",
       "<p>1600 rows × 3 columns</p>\n",
       "</div>"
      ],
      "text/plain": [
       "           Label     ID                                         Attributes\n",
       "0     warehouses   1012  {'country': 'Sierra Leone', 'city_name': 'East...\n",
       "1     warehouses   1017  {'country': 'Réunion', 'city_name': 'Unknown',...\n",
       "2     warehouses   1028  {'country': 'Malawi', 'city_name': 'Chitipa', ...\n",
       "3     warehouses   1034  {'country': 'Lao People's Democratic Republic'...\n",
       "4     warehouses   1045  {'country': 'Cocos (Keeling) Islands', 'city_n...\n",
       "...          ...    ...                                                ...\n",
       "1595    supplier  90256  {'supplier_name': 'Förster', 'country': 'Ethio...\n",
       "1596    supplier  35266  {'supplier_name': 'Gotthard Zahn GmbH', 'count...\n",
       "1597    supplier  52647  {'supplier_name': 'Cook-Webb', 'country': 'Mor...\n",
       "1598    supplier  13355  {'supplier_name': 'Shah-Lowe', 'country': 'Cen...\n",
       "1599    supplier  48467  {'supplier_name': 'Brandt Ltd', 'country': 'An...\n",
       "\n",
       "[1600 rows x 3 columns]"
      ]
     },
     "execution_count": 56,
     "metadata": {},
     "output_type": "execute_result"
    }
   ],
   "source": [
    "nodes_df"
   ]
  },
  {
   "cell_type": "code",
   "execution_count": 57,
   "id": "9c2ee0f5",
   "metadata": {},
   "outputs": [
    {
     "data": {
      "text/plain": [
       "warehouses    1000\n",
       "supplier       300\n",
       "customer       150\n",
       "retailer       150\n",
       "Name: Label, dtype: int64"
      ]
     },
     "execution_count": 57,
     "metadata": {},
     "output_type": "execute_result"
    }
   ],
   "source": [
    "nodes_df['Label'].value_counts()"
   ]
  },
  {
   "cell_type": "code",
   "execution_count": 58,
   "id": "cBd3GL_EwK9t",
   "metadata": {
    "id": "cBd3GL_EwK9t"
   },
   "outputs": [],
   "source": [
    "\n",
    "for edge_name in edges:\n",
    "    \n",
    "\n",
    "    foreign_keys = list(fk[edge_name].keys())\n",
    "\n",
    "    from_col = foreign_keys[0]\n",
    "    from_table_name = fk[edge_name][from_col]\n",
    "    from_df = All_dfs[from_table_name]\n",
    "    from_df_pk = pk[from_table_name]\n",
    "\n",
    "    to_col = foreign_keys[-1]\n",
    "    to_table_name = fk[edge_name][to_col]\n",
    "    to_df = All_dfs[to_table_name]\n",
    "    to_df_pk = pk[to_table_name]\n",
    "\n",
    "    column_names = list(All_dfs[edge_name].columns) #get column names\n",
    "    for index, _ in All_dfs[edge_name].iterrows():\n",
    "        att = {}\n",
    "        from_ref_id,to_ref_id = None, None\n",
    "\n",
    "\n",
    "        for i in range(1, len(column_names)):\n",
    "            column_name = column_names[i]\n",
    "\n",
    "\n",
    "            if column_name not in foreign_keys:\n",
    "                att[column_name] = All_dfs[edge_name].iloc[index, i]\n",
    "\n",
    "            else:\n",
    "                reference_id = All_dfs[edge_name].iloc[index, i]\n",
    "                if column_name == from_col:\n",
    "                # from_ref_id = from_df[from_df[from_df_pk] == reference_id].index[0]\n",
    "                    from_ref_id = reference_id\n",
    "                else:\n",
    "                # to_ref_id = to_df[to_df[to_df_pk] == reference_id].index[0]\n",
    "                    to_ref_id = reference_id\n",
    "\n",
    "        # Adding new entry to node tabel\n",
    "        newRow = [{'Label': edge_name , 'ID': All_dfs[edge_name].iloc[index,0] , 'Attributes': att}]\n",
    "        tmp = pd.DataFrame(newRow)\n",
    "        nodes_df = pd.concat([nodes_df, tmp], ignore_index=True)\n",
    "        edge_node_index = len(nodes_df)-1\n",
    "        # print(nodes_df.iloc[len(nodes_df)-1],All_dfs[Edge_name].iloc[index,0] )\n",
    "        # creating two edges, one from the from_node to the edge node and one from edge node to to_node\n",
    "        from_node_id = nodes_df[(nodes_df['Label']==from_table_name) &  (nodes_df['ID']==from_ref_id)].index[0]\n",
    "        to_node_id =  nodes_df[(nodes_df['Label']==to_table_name) &  (nodes_df['ID']==to_ref_id)].index[0] \n",
    "\n",
    "        # from ---> edge \n",
    "        new_from_edge_row = [{'From': from_node_id , 'To':edge_node_index,'From_Table': from_table_name.capitalize(),'To_Table': edge_name.capitalize()\n",
    "                              ,'Weight': 42,'Edge_Name': edge_name}]\n",
    "        tmp = pd.DataFrame(new_from_edge_row)\n",
    "        edges_df = pd.concat([edges_df, tmp], ignore_index=True)\n",
    "        # edge --->to\n",
    "        new_to_edge_row = [{'From': edge_node_index , 'To':  to_node_id, 'From_Table':edge_name.capitalize(), 'To_Table': to_table_name.capitalize()\n",
    "                           ,'Weight': 42,'Edge_Name': edge_name}]\n",
    "        tmp = pd.DataFrame(new_to_edge_row)\n",
    "        edges_df = pd.concat([edges_df, tmp], ignore_index=True)\n",
    "\n"
   ]
  },
  {
   "cell_type": "code",
   "execution_count": 59,
   "id": "3c898317",
   "metadata": {},
   "outputs": [
    {
     "data": {
      "text/html": [
       "<div>\n",
       "<style scoped>\n",
       "    .dataframe tbody tr th:only-of-type {\n",
       "        vertical-align: middle;\n",
       "    }\n",
       "\n",
       "    .dataframe tbody tr th {\n",
       "        vertical-align: top;\n",
       "    }\n",
       "\n",
       "    .dataframe thead th {\n",
       "        text-align: right;\n",
       "    }\n",
       "</style>\n",
       "<table border=\"1\" class=\"dataframe\">\n",
       "  <thead>\n",
       "    <tr style=\"text-align: right;\">\n",
       "      <th></th>\n",
       "      <th>From</th>\n",
       "      <th>To</th>\n",
       "      <th>From_Table</th>\n",
       "      <th>To_Table</th>\n",
       "      <th>Weight</th>\n",
       "      <th>Edge_Name</th>\n",
       "    </tr>\n",
       "  </thead>\n",
       "  <tbody>\n",
       "    <tr>\n",
       "      <th>0</th>\n",
       "      <td>1471</td>\n",
       "      <td>1600</td>\n",
       "      <td>Supplier</td>\n",
       "      <td>Srintship</td>\n",
       "      <td>42</td>\n",
       "      <td>srintship</td>\n",
       "    </tr>\n",
       "    <tr>\n",
       "      <th>1</th>\n",
       "      <td>1600</td>\n",
       "      <td>1263</td>\n",
       "      <td>Srintship</td>\n",
       "      <td>Retailer</td>\n",
       "      <td>42</td>\n",
       "      <td>srintship</td>\n",
       "    </tr>\n",
       "    <tr>\n",
       "      <th>2</th>\n",
       "      <td>1315</td>\n",
       "      <td>1601</td>\n",
       "      <td>Supplier</td>\n",
       "      <td>Srintship</td>\n",
       "      <td>42</td>\n",
       "      <td>srintship</td>\n",
       "    </tr>\n",
       "    <tr>\n",
       "      <th>3</th>\n",
       "      <td>1601</td>\n",
       "      <td>1217</td>\n",
       "      <td>Srintship</td>\n",
       "      <td>Retailer</td>\n",
       "      <td>42</td>\n",
       "      <td>srintship</td>\n",
       "    </tr>\n",
       "    <tr>\n",
       "      <th>4</th>\n",
       "      <td>1531</td>\n",
       "      <td>1602</td>\n",
       "      <td>Supplier</td>\n",
       "      <td>Srintship</td>\n",
       "      <td>42</td>\n",
       "      <td>srintship</td>\n",
       "    </tr>\n",
       "    <tr>\n",
       "      <th>...</th>\n",
       "      <td>...</td>\n",
       "      <td>...</td>\n",
       "      <td>...</td>\n",
       "      <td>...</td>\n",
       "      <td>...</td>\n",
       "      <td>...</td>\n",
       "    </tr>\n",
       "    <tr>\n",
       "      <th>1771</th>\n",
       "      <td>2485</td>\n",
       "      <td>1424</td>\n",
       "      <td>Internaltransactions</td>\n",
       "      <td>Supplier</td>\n",
       "      <td>42</td>\n",
       "      <td>internaltransactions</td>\n",
       "    </tr>\n",
       "    <tr>\n",
       "      <th>1772</th>\n",
       "      <td>1465</td>\n",
       "      <td>2486</td>\n",
       "      <td>Supplier</td>\n",
       "      <td>Internaltransactions</td>\n",
       "      <td>42</td>\n",
       "      <td>internaltransactions</td>\n",
       "    </tr>\n",
       "    <tr>\n",
       "      <th>1773</th>\n",
       "      <td>2486</td>\n",
       "      <td>1379</td>\n",
       "      <td>Internaltransactions</td>\n",
       "      <td>Supplier</td>\n",
       "      <td>42</td>\n",
       "      <td>internaltransactions</td>\n",
       "    </tr>\n",
       "    <tr>\n",
       "      <th>1774</th>\n",
       "      <td>1575</td>\n",
       "      <td>2487</td>\n",
       "      <td>Supplier</td>\n",
       "      <td>Internaltransactions</td>\n",
       "      <td>42</td>\n",
       "      <td>internaltransactions</td>\n",
       "    </tr>\n",
       "    <tr>\n",
       "      <th>1775</th>\n",
       "      <td>2487</td>\n",
       "      <td>1546</td>\n",
       "      <td>Internaltransactions</td>\n",
       "      <td>Supplier</td>\n",
       "      <td>42</td>\n",
       "      <td>internaltransactions</td>\n",
       "    </tr>\n",
       "  </tbody>\n",
       "</table>\n",
       "<p>1776 rows × 6 columns</p>\n",
       "</div>"
      ],
      "text/plain": [
       "      From    To            From_Table              To_Table Weight  \\\n",
       "0     1471  1600              Supplier             Srintship     42   \n",
       "1     1600  1263             Srintship              Retailer     42   \n",
       "2     1315  1601              Supplier             Srintship     42   \n",
       "3     1601  1217             Srintship              Retailer     42   \n",
       "4     1531  1602              Supplier             Srintship     42   \n",
       "...    ...   ...                   ...                   ...    ...   \n",
       "1771  2485  1424  Internaltransactions              Supplier     42   \n",
       "1772  1465  2486              Supplier  Internaltransactions     42   \n",
       "1773  2486  1379  Internaltransactions              Supplier     42   \n",
       "1774  1575  2487              Supplier  Internaltransactions     42   \n",
       "1775  2487  1546  Internaltransactions              Supplier     42   \n",
       "\n",
       "                 Edge_Name  \n",
       "0                srintship  \n",
       "1                srintship  \n",
       "2                srintship  \n",
       "3                srintship  \n",
       "4                srintship  \n",
       "...                    ...  \n",
       "1771  internaltransactions  \n",
       "1772  internaltransactions  \n",
       "1773  internaltransactions  \n",
       "1774  internaltransactions  \n",
       "1775  internaltransactions  \n",
       "\n",
       "[1776 rows x 6 columns]"
      ]
     },
     "execution_count": 59,
     "metadata": {},
     "output_type": "execute_result"
    }
   ],
   "source": [
    "edges_df"
   ]
  },
  {
   "cell_type": "code",
   "execution_count": 60,
   "id": "JjImjta5GIKZ",
   "metadata": {
    "id": "JjImjta5GIKZ"
   },
   "outputs": [
    {
     "name": "stdout",
     "output_type": "stream",
     "text": [
      "scextorders\n",
      "rcextorders\n",
      "srintorders\n",
      "externalservices\n",
      "internalservices\n",
      "facilities\n",
      "products\n"
     ]
    }
   ],
   "source": [
    "\n",
    "for property_name in properties:\n",
    "  print(property_name)\n",
    "\n",
    "  property_df = All_dfs[property_name]\n",
    "      \n",
    "  foreign_keys = list(fk[property_name].keys())\n",
    "\n",
    "  fk_col = foreign_keys[0]\n",
    "  referenced_table_name = fk[property_name][fk_col]\n",
    "  referenced_table_df = All_dfs[referenced_table_name]\n",
    "  referenced_table_pk = pk[referenced_table_name]\n",
    "  \n",
    "  column_names = list(property_df.columns) #get column names\n",
    "  \n",
    "  for index, _ in property_df.iterrows():    \n",
    "      att = {}\n",
    "      reference_id = None;      \n",
    "      \n",
    "      for i in range(1, len(column_names)):\n",
    "        column_name = column_names[i]\n",
    "        \n",
    "        \n",
    "        if column_name not in foreign_keys:\n",
    "          att[column_name] = property_df.iloc[index, i]\n",
    "      \n",
    "        else:\n",
    "          # capturing foreign key value\n",
    "          reference_id = property_df.iloc[index, i]\n",
    "\n",
    "      # Adding new entry to node tabel\n",
    "      newRow = [{'Label': property_name , 'ID': property_df.iloc[index,0] , 'Attributes': att}]\n",
    "      tmp = pd.DataFrame(newRow)\n",
    "      nodes_df = pd.concat([nodes_df, tmp], ignore_index=True)\n",
    "      property_node_index = len(nodes_df)-1\n",
    "      # print(nodes_df.iloc[len(nodes_df)-1],property_df.iloc[index,0] )\n",
    "\n",
    "      # creating two edges, one from the from_node to the edge node and one from edge node to to_node\n",
    "      if  isinstance(reference_id,list):\n",
    "        for list_element_id in reference_id:\n",
    "          referenced_node_id = nodes_df[(nodes_df['Label']==referenced_table_name) &  (nodes_df['ID']==list_element_id)].index[0] \n",
    "        \n",
    "          new_property_edge_row = [{'From': referenced_node_id , 'To':  property_node_index,'From_Table':referenced_table_name.capitalize(), 'To_Table': property_name.capitalize()\n",
    "                                    ,'Weight': 42,'Edge_Name': \"Related_To\"}]\n",
    "          tmp = pd.DataFrame(new_property_edge_row)\n",
    "          edges_df = pd.concat([edges_df, tmp], ignore_index=True)\n",
    "\n",
    "      else:\n",
    "        referenced_node_id = nodes_df[(nodes_df['Label']==referenced_table_name) &  (nodes_df['ID']==reference_id)].index[0] \n",
    "        \n",
    "        new_property_edge_row = [{'From': referenced_node_id , 'To':  property_node_index,'From_Table':referenced_table_name.capitalize(), 'To_Table': property_name.capitalize()\n",
    "                                 ,'Weight': 42,'Edge_Name': \"Related_To\"}]\n",
    "        tmp = pd.DataFrame(new_property_edge_row)\n",
    "        edges_df = pd.concat([edges_df, tmp], ignore_index=True)\n",
    "\n"
   ]
  },
  {
   "cell_type": "code",
   "execution_count": 61,
   "id": "b71417e3",
   "metadata": {},
   "outputs": [],
   "source": [
    "products_df = All_dfs[\"products\"]\n",
    "manufacturing_df = All_dfs[\"manufacturing\"]\n",
    "supplier_df = All_dfs[\"supplier\"]\n",
    "\n",
    "for i, manufacturing_row in manufacturing_df.iterrows():\n",
    "    factory_id = manufacturing_row[\"Factory_id\"]\n",
    "    supplier_node_index = nodes_df.query(f\"(Label == 'supplier' ) and (ID == {factory_id}) \").index[0]\n",
    "    \n",
    "    product_id = manufacturing_row[\"Product_id\"]\n",
    "    product_node_index = nodes_df.query(f\"(Label == 'products' ) and (ID == {product_id}) \").index[0]\n",
    "\n",
    "    new_edge_row = [{'From': supplier_node_index , 'To':  product_node_index,'From_Table':\"supplier\".capitalize(), 'To_Table': \"products\".capitalize()\n",
    "                    ,'Weight': 42,'Edge_Name': \"Manufactures\"}]\n",
    "    tmp = pd.DataFrame(new_edge_row)\n",
    "    edges_df = pd.concat([edges_df, tmp], ignore_index=True)\n"
   ]
  },
  {
   "cell_type": "code",
   "execution_count": 62,
   "id": "e830ee84",
   "metadata": {},
   "outputs": [
    {
     "data": {
      "text/plain": [
       "dict_keys(['customer', 'externalservices', 'externaltransactions', 'facilities', 'internalservices', 'internaltransactions', 'manufacturing', 'products', 'retailer', 'supplier', 'warehouses', 'rcextship', 'scextship', 'srintship', 'ssintship', 'rcextorders', 'scextorders', 'srintorders', 'ssintorders'])"
      ]
     },
     "execution_count": 62,
     "metadata": {},
     "output_type": "execute_result"
    }
   ],
   "source": [
    "All_dfs.keys()"
   ]
  },
  {
   "cell_type": "code",
   "execution_count": 63,
   "id": "cb8c0040",
   "metadata": {},
   "outputs": [],
   "source": [
    "ss_internal_orders_df = All_dfs[\"ssintorders\"]\n",
    "for index, ss_internal_order_row in ss_internal_orders_df.iterrows():\n",
    "    \n",
    "    att = {}\n",
    "    for column_name in ss_internal_orders_df:\n",
    "        if(column_name not in fk[\"ssintorders\"].keys() and column_name != pk[\"ssintorders\"] ):\n",
    "            att[column_name] = ss_internal_order_row[column_name]\n",
    "    \n",
    "    newRow = [{'Label': \"ssintorders\" , 'ID': ss_internal_orders_df.iloc[index,0] , 'Attributes': att}]\n",
    "\n",
    "    tmp = pd.DataFrame(newRow)\n",
    "    nodes_df = pd.concat([nodes_df, tmp], ignore_index=True)\n",
    "    \n",
    "    internal_order_index = len(nodes_df)-1\n",
    "    \n",
    "    internal_shipment_id = ss_internal_order_row[\"IntShip_id\"]\n",
    "    internal_shipment_node_index = nodes_df.query(f\"(Label == 'ssintship' ) and (ID == {internal_shipment_id}) \").index[0]\n",
    "\n",
    "    \n",
    "    product_id = ss_internal_order_row[\"prod_id\"]\n",
    "    product_node_index = nodes_df.query(f\"(Label == 'products' ) and (ID == {product_id}) \").index[0]\n",
    "    \n",
    "    \n",
    "    # from ---> edge \n",
    "    new_from_edge_row = [{'From': internal_shipment_node_index , 'To':internal_order_index,'From_Table': \"ssintship\".capitalize(),'To_Table': \"ssintorders\".capitalize()\n",
    "                              ,'Weight': 42,'Edge_Name': \"Order\"}]\n",
    "    tmp = pd.DataFrame(new_from_edge_row)\n",
    "    edges_df = pd.concat([edges_df, tmp], ignore_index=True)\n",
    "    # edge --->to\n",
    "    new_to_edge_row = [{'From':  internal_order_index, 'To': product_node_index , 'From_Table':\"ssintorders\".capitalize(), 'To_Table': \"products\".capitalize()\n",
    "                       ,'Weight': 42,'Edge_Name': \"Orders_Prodcut\"}]\n",
    "    tmp = pd.DataFrame(new_to_edge_row)\n",
    "    edges_df = pd.concat([edges_df, tmp], ignore_index=True)\n",
    "\n",
    "    \n",
    "\n"
   ]
  },
  {
   "cell_type": "code",
   "execution_count": 64,
   "id": "78aa6a18",
   "metadata": {},
   "outputs": [],
   "source": [
    "# # Not Generic At All:\n",
    "# # looping over each row in internal shipments and checking if it belongs to manufacturing\n",
    "# internal_shipments_df = All_dfs[\"ssintship\"]\n",
    "# products_df = All_dfs[\"products\"]\n",
    "# manufacturing_df = All_dfs[\"manufacturing\"]\n",
    "\n",
    "# for i, internal_shipments_row in internal_shipments_df.iterrows():\n",
    "#     internal_shipments_ID = internal_shipments_row[0]\n",
    "#     from_id = internal_shipments_row[1]\n",
    "#     to_id = internal_shipments_row[2]\n",
    "#     factory_records = manufacturing_df.query(f\"Factory_id == {to_id}\")\n",
    "#     for j,manufacturing_row in factory_records.iterrows(): \n",
    "#         if from_id in manufacturing_row[1]:\n",
    "#             product_id = manufacturing_row[2]\n",
    "#             product_node_index = nodes_df.query(f\"(Label == 'products' ) and (ID == {product_id}) \").index[0]\n",
    "#             internal_shipment_node_index = nodes_df.query(f\"(Label == 'ssintship' ) and (ID == {internal_shipments_ID}) \").index[0]\n",
    "#             new_edge_row = [{'From': product_node_index , 'To':  internal_shipment_node_index,'From_Table':\"products\".capitalize(), 'To_Table': \"ssintship\".capitalize()}]\n",
    "#             tmp = pd.DataFrame(new_edge_row)\n",
    "#             edges_df = pd.concat([edges_df, tmp], ignore_index=True)\n",
    "\n"
   ]
  },
  {
   "cell_type": "code",
   "execution_count": 65,
   "id": "12d88df2",
   "metadata": {},
   "outputs": [
    {
     "data": {
      "text/html": [
       "<div>\n",
       "<style scoped>\n",
       "    .dataframe tbody tr th:only-of-type {\n",
       "        vertical-align: middle;\n",
       "    }\n",
       "\n",
       "    .dataframe tbody tr th {\n",
       "        vertical-align: top;\n",
       "    }\n",
       "\n",
       "    .dataframe thead th {\n",
       "        text-align: right;\n",
       "    }\n",
       "</style>\n",
       "<table border=\"1\" class=\"dataframe\">\n",
       "  <thead>\n",
       "    <tr style=\"text-align: right;\">\n",
       "      <th></th>\n",
       "      <th>Label</th>\n",
       "      <th>ID</th>\n",
       "      <th>Attributes</th>\n",
       "    </tr>\n",
       "  </thead>\n",
       "  <tbody>\n",
       "    <tr>\n",
       "      <th>0</th>\n",
       "      <td>warehouses</td>\n",
       "      <td>1012</td>\n",
       "      <td>{'country': 'Sierra Leone', 'city_name': 'East...</td>\n",
       "    </tr>\n",
       "    <tr>\n",
       "      <th>1</th>\n",
       "      <td>warehouses</td>\n",
       "      <td>1017</td>\n",
       "      <td>{'country': 'Réunion', 'city_name': 'Unknown',...</td>\n",
       "    </tr>\n",
       "    <tr>\n",
       "      <th>2</th>\n",
       "      <td>warehouses</td>\n",
       "      <td>1028</td>\n",
       "      <td>{'country': 'Malawi', 'city_name': 'Chitipa', ...</td>\n",
       "    </tr>\n",
       "    <tr>\n",
       "      <th>3</th>\n",
       "      <td>warehouses</td>\n",
       "      <td>1034</td>\n",
       "      <td>{'country': 'Lao People's Democratic Republic'...</td>\n",
       "    </tr>\n",
       "    <tr>\n",
       "      <th>4</th>\n",
       "      <td>warehouses</td>\n",
       "      <td>1045</td>\n",
       "      <td>{'country': 'Cocos (Keeling) Islands', 'city_n...</td>\n",
       "    </tr>\n",
       "    <tr>\n",
       "      <th>...</th>\n",
       "      <td>...</td>\n",
       "      <td>...</td>\n",
       "      <td>...</td>\n",
       "    </tr>\n",
       "    <tr>\n",
       "      <th>5905</th>\n",
       "      <td>ssintorders</td>\n",
       "      <td>10448</td>\n",
       "      <td>{'quantity': 766, 'placed_when': '1993-05-08',...</td>\n",
       "    </tr>\n",
       "    <tr>\n",
       "      <th>5906</th>\n",
       "      <td>ssintorders</td>\n",
       "      <td>10449</td>\n",
       "      <td>{'quantity': 766, 'placed_when': '1993-05-08',...</td>\n",
       "    </tr>\n",
       "    <tr>\n",
       "      <th>5907</th>\n",
       "      <td>ssintorders</td>\n",
       "      <td>10450</td>\n",
       "      <td>{'quantity': 766, 'placed_when': '1993-05-08',...</td>\n",
       "    </tr>\n",
       "    <tr>\n",
       "      <th>5908</th>\n",
       "      <td>ssintorders</td>\n",
       "      <td>10451</td>\n",
       "      <td>{'quantity': 766, 'placed_when': '1993-05-08',...</td>\n",
       "    </tr>\n",
       "    <tr>\n",
       "      <th>5909</th>\n",
       "      <td>ssintorders</td>\n",
       "      <td>10452</td>\n",
       "      <td>{'quantity': 766, 'placed_when': '1993-05-08',...</td>\n",
       "    </tr>\n",
       "  </tbody>\n",
       "</table>\n",
       "<p>5910 rows × 3 columns</p>\n",
       "</div>"
      ],
      "text/plain": [
       "            Label     ID                                         Attributes\n",
       "0      warehouses   1012  {'country': 'Sierra Leone', 'city_name': 'East...\n",
       "1      warehouses   1017  {'country': 'Réunion', 'city_name': 'Unknown',...\n",
       "2      warehouses   1028  {'country': 'Malawi', 'city_name': 'Chitipa', ...\n",
       "3      warehouses   1034  {'country': 'Lao People's Democratic Republic'...\n",
       "4      warehouses   1045  {'country': 'Cocos (Keeling) Islands', 'city_n...\n",
       "...           ...    ...                                                ...\n",
       "5905  ssintorders  10448  {'quantity': 766, 'placed_when': '1993-05-08',...\n",
       "5906  ssintorders  10449  {'quantity': 766, 'placed_when': '1993-05-08',...\n",
       "5907  ssintorders  10450  {'quantity': 766, 'placed_when': '1993-05-08',...\n",
       "5908  ssintorders  10451  {'quantity': 766, 'placed_when': '1993-05-08',...\n",
       "5909  ssintorders  10452  {'quantity': 766, 'placed_when': '1993-05-08',...\n",
       "\n",
       "[5910 rows x 3 columns]"
      ]
     },
     "execution_count": 65,
     "metadata": {},
     "output_type": "execute_result"
    }
   ],
   "source": [
    "nodes_df"
   ]
  },
  {
   "cell_type": "code",
   "execution_count": 66,
   "id": "c72d4ddc",
   "metadata": {},
   "outputs": [
    {
     "data": {
      "text/plain": [
       "(8120, 6)"
      ]
     },
     "execution_count": 66,
     "metadata": {},
     "output_type": "execute_result"
    }
   ],
   "source": [
    "edges_df.shape"
   ]
  },
  {
   "cell_type": "markdown",
   "id": "c0073eb5",
   "metadata": {},
   "source": [
    "[Neo 4j Function](#Neo4jFunction)\n"
   ]
  },
  {
   "cell_type": "code",
   "execution_count": 76,
   "id": "173378a9",
   "metadata": {},
   "outputs": [
    {
     "name": "stderr",
     "output_type": "stream",
     "text": [
      "C:\\Users\\ahmad\\AppData\\Local\\Temp\\ipykernel_9904\\3142889456.py:6: DeprecationWarning: read_transaction has been renamed to execute_read\n",
      "  session.read_transaction(lambda tx,i: tx.run(i),i)\n"
     ]
    },
    {
     "ename": "ClientError",
     "evalue": "{code: Neo.ClientError.Statement.AccessMode} {message: Writing in read access mode not allowed. Attempted write to internal graph 0 (neo4j)}",
     "output_type": "error",
     "traceback": [
      "\u001b[1;31m---------------------------------------------------------------------------\u001b[0m",
      "\u001b[1;31mClientError\u001b[0m                               Traceback (most recent call last)",
      "Cell \u001b[1;32mIn [76], line 1\u001b[0m\n\u001b[1;32m----> 1\u001b[0m \u001b[43mdraw_graph_Neo4j\u001b[49m\u001b[43m(\u001b[49m\u001b[43mnodes_df\u001b[49m\u001b[43m,\u001b[49m\u001b[43medges_df\u001b[49m\u001b[43m)\u001b[49m\n",
      "Cell \u001b[1;32mIn [12], line 20\u001b[0m, in \u001b[0;36mdraw_graph_Neo4j\u001b[1;34m(nodes_table, edges_table)\u001b[0m\n\u001b[0;32m     16\u001b[0m     neo4j_create_statement \u001b[38;5;241m=\u001b[39m create_relation_statement(edge)\n\u001b[0;32m     17\u001b[0m     transaction_execution_commands\u001b[38;5;241m.\u001b[39mappend(neo4j_create_statement)\n\u001b[1;32m---> 20\u001b[0m \u001b[43mexecute_transactions\u001b[49m\u001b[43m(\u001b[49m\u001b[43mtransaction_execution_commands\u001b[49m\u001b[43m)\u001b[49m\n",
      "Cell \u001b[1;32mIn [75], line 6\u001b[0m, in \u001b[0;36mexecute_transactions\u001b[1;34m(transaction_execution_commands)\u001b[0m\n\u001b[0;32m      4\u001b[0m \u001b[38;5;28;01mwith\u001b[39;00m data_base_connection\u001b[38;5;241m.\u001b[39msession() \u001b[38;5;28;01mas\u001b[39;00m session:\n\u001b[0;32m      5\u001b[0m     \u001b[38;5;28;01mfor\u001b[39;00m i \u001b[38;5;129;01min\u001b[39;00m transaction_execution_commands:\n\u001b[1;32m----> 6\u001b[0m         \u001b[43msession\u001b[49m\u001b[38;5;241;43m.\u001b[39;49m\u001b[43mread_transaction\u001b[49m\u001b[43m(\u001b[49m\u001b[38;5;28;43;01mlambda\u001b[39;49;00m\u001b[43m \u001b[49m\u001b[43mtx\u001b[49m\u001b[43m,\u001b[49m\u001b[43mi\u001b[49m\u001b[43m:\u001b[49m\u001b[43m \u001b[49m\u001b[43mtx\u001b[49m\u001b[38;5;241;43m.\u001b[39;49m\u001b[43mrun\u001b[49m\u001b[43m(\u001b[49m\u001b[43mi\u001b[49m\u001b[43m)\u001b[49m\u001b[43m,\u001b[49m\u001b[43mi\u001b[49m\u001b[43m)\u001b[49m\n",
      "File \u001b[1;32m~\\.conda\\envs\\SupplyChainGraph\\lib\\site-packages\\neo4j\\_meta.py:81\u001b[0m, in \u001b[0;36mdeprecated.<locals>.decorator.<locals>.inner\u001b[1;34m(*args, **kwargs)\u001b[0m\n\u001b[0;32m     78\u001b[0m \u001b[38;5;129m@wraps\u001b[39m(f)\n\u001b[0;32m     79\u001b[0m \u001b[38;5;28;01mdef\u001b[39;00m \u001b[38;5;21minner\u001b[39m(\u001b[38;5;241m*\u001b[39margs, \u001b[38;5;241m*\u001b[39m\u001b[38;5;241m*\u001b[39mkwargs):\n\u001b[0;32m     80\u001b[0m     deprecation_warn(message, stack_level\u001b[38;5;241m=\u001b[39m\u001b[38;5;241m2\u001b[39m)\n\u001b[1;32m---> 81\u001b[0m     \u001b[38;5;28;01mreturn\u001b[39;00m f(\u001b[38;5;241m*\u001b[39margs, \u001b[38;5;241m*\u001b[39m\u001b[38;5;241m*\u001b[39mkwargs)\n",
      "File \u001b[1;32m~\\.conda\\envs\\SupplyChainGraph\\lib\\site-packages\\neo4j\\_sync\\work\\session.py:654\u001b[0m, in \u001b[0;36mSession.read_transaction\u001b[1;34m(self, transaction_function, *args, **kwargs)\u001b[0m\n\u001b[0;32m    589\u001b[0m \u001b[38;5;129m@deprecated\u001b[39m(\u001b[38;5;124m\"\u001b[39m\u001b[38;5;124mread_transaction has been renamed to execute_read\u001b[39m\u001b[38;5;124m\"\u001b[39m)\n\u001b[0;32m    590\u001b[0m \u001b[38;5;28;01mdef\u001b[39;00m \u001b[38;5;21mread_transaction\u001b[39m(\n\u001b[0;32m    591\u001b[0m     \u001b[38;5;28mself\u001b[39m,\n\u001b[1;32m   (...)\u001b[0m\n\u001b[0;32m    595\u001b[0m     \u001b[38;5;241m*\u001b[39margs: _P\u001b[38;5;241m.\u001b[39margs, \u001b[38;5;241m*\u001b[39m\u001b[38;5;241m*\u001b[39mkwargs: _P\u001b[38;5;241m.\u001b[39mkwargs\n\u001b[0;32m    596\u001b[0m ) \u001b[38;5;241m-\u001b[39m\u001b[38;5;241m>\u001b[39m _R:\n\u001b[0;32m    597\u001b[0m     \u001b[38;5;124;03m\"\"\"Execute a unit of work in a managed read transaction.\u001b[39;00m\n\u001b[0;32m    598\u001b[0m \n\u001b[0;32m    599\u001b[0m \u001b[38;5;124;03m    .. note::\u001b[39;00m\n\u001b[1;32m   (...)\u001b[0m\n\u001b[0;32m    652\u001b[0m \u001b[38;5;124;03m        Method was renamed to :meth:`.execute_read`.\u001b[39;00m\n\u001b[0;32m    653\u001b[0m \u001b[38;5;124;03m    \"\"\"\u001b[39;00m\n\u001b[1;32m--> 654\u001b[0m     \u001b[38;5;28;01mreturn\u001b[39;00m \u001b[38;5;28mself\u001b[39m\u001b[38;5;241m.\u001b[39m_run_transaction(\n\u001b[0;32m    655\u001b[0m         READ_ACCESS, transaction_function, \u001b[38;5;241m*\u001b[39margs, \u001b[38;5;241m*\u001b[39m\u001b[38;5;241m*\u001b[39mkwargs\n\u001b[0;32m    656\u001b[0m     )\n",
      "File \u001b[1;32m~\\.conda\\envs\\SupplyChainGraph\\lib\\site-packages\\neo4j\\_sync\\work\\session.py:481\u001b[0m, in \u001b[0;36mSession._run_transaction\u001b[1;34m(self, access_mode, transaction_function, *args, **kwargs)\u001b[0m\n\u001b[0;32m    479\u001b[0m tx \u001b[38;5;241m=\u001b[39m \u001b[38;5;28mself\u001b[39m\u001b[38;5;241m.\u001b[39m_transaction\n\u001b[0;32m    480\u001b[0m \u001b[38;5;28;01mtry\u001b[39;00m:\n\u001b[1;32m--> 481\u001b[0m     result \u001b[38;5;241m=\u001b[39m transaction_function(tx, \u001b[38;5;241m*\u001b[39margs, \u001b[38;5;241m*\u001b[39m\u001b[38;5;241m*\u001b[39mkwargs)\n\u001b[0;32m    482\u001b[0m \u001b[38;5;28;01mexcept\u001b[39;00m asyncio\u001b[38;5;241m.\u001b[39mCancelledError:\n\u001b[0;32m    483\u001b[0m     \u001b[38;5;66;03m# if cancellation callback has not been called yet:\u001b[39;00m\n\u001b[0;32m    484\u001b[0m     \u001b[38;5;28;01mif\u001b[39;00m \u001b[38;5;28mself\u001b[39m\u001b[38;5;241m.\u001b[39m_transaction \u001b[38;5;129;01mis\u001b[39;00m \u001b[38;5;129;01mnot\u001b[39;00m \u001b[38;5;28;01mNone\u001b[39;00m:\n",
      "Cell \u001b[1;32mIn [75], line 6\u001b[0m, in \u001b[0;36mexecute_transactions.<locals>.<lambda>\u001b[1;34m(tx, i)\u001b[0m\n\u001b[0;32m      4\u001b[0m \u001b[38;5;28;01mwith\u001b[39;00m data_base_connection\u001b[38;5;241m.\u001b[39msession() \u001b[38;5;28;01mas\u001b[39;00m session:\n\u001b[0;32m      5\u001b[0m     \u001b[38;5;28;01mfor\u001b[39;00m i \u001b[38;5;129;01min\u001b[39;00m transaction_execution_commands:\n\u001b[1;32m----> 6\u001b[0m         session\u001b[38;5;241m.\u001b[39mread_transaction(\u001b[38;5;28;01mlambda\u001b[39;00m tx,i: \u001b[43mtx\u001b[49m\u001b[38;5;241;43m.\u001b[39;49m\u001b[43mrun\u001b[49m\u001b[43m(\u001b[49m\u001b[43mi\u001b[49m\u001b[43m)\u001b[49m,i)\n",
      "File \u001b[1;32m~\\.conda\\envs\\SupplyChainGraph\\lib\\site-packages\\neo4j\\_sync\\work\\transaction.py:150\u001b[0m, in \u001b[0;36mTransactionBase.run\u001b[1;34m(self, query, parameters, **kwparameters)\u001b[0m\n\u001b[0;32m    144\u001b[0m result \u001b[38;5;241m=\u001b[39m Result(\n\u001b[0;32m    145\u001b[0m     \u001b[38;5;28mself\u001b[39m\u001b[38;5;241m.\u001b[39m_connection, \u001b[38;5;28mself\u001b[39m\u001b[38;5;241m.\u001b[39m_fetch_size, \u001b[38;5;28mself\u001b[39m\u001b[38;5;241m.\u001b[39m_result_on_closed_handler,\n\u001b[0;32m    146\u001b[0m     \u001b[38;5;28mself\u001b[39m\u001b[38;5;241m.\u001b[39m_error_handler\n\u001b[0;32m    147\u001b[0m )\n\u001b[0;32m    148\u001b[0m \u001b[38;5;28mself\u001b[39m\u001b[38;5;241m.\u001b[39m_results\u001b[38;5;241m.\u001b[39mappend(result)\n\u001b[1;32m--> 150\u001b[0m result\u001b[38;5;241m.\u001b[39m_tx_ready_run(query, parameters, \u001b[38;5;241m*\u001b[39m\u001b[38;5;241m*\u001b[39mkwparameters)\n\u001b[0;32m    152\u001b[0m \u001b[38;5;28;01mreturn\u001b[39;00m result\n",
      "File \u001b[1;32m~\\.conda\\envs\\SupplyChainGraph\\lib\\site-packages\\neo4j\\_sync\\work\\result.py:113\u001b[0m, in \u001b[0;36mResult._tx_ready_run\u001b[1;34m(self, query, parameters, **kwargs)\u001b[0m\n\u001b[0;32m    109\u001b[0m \u001b[38;5;28;01mdef\u001b[39;00m \u001b[38;5;21m_tx_ready_run\u001b[39m(\u001b[38;5;28mself\u001b[39m, query, parameters, \u001b[38;5;241m*\u001b[39m\u001b[38;5;241m*\u001b[39mkwargs):\n\u001b[0;32m    110\u001b[0m     \u001b[38;5;66;03m# BEGIN+RUN does not carry any extra on the RUN message.\u001b[39;00m\n\u001b[0;32m    111\u001b[0m     \u001b[38;5;66;03m# BEGIN {extra}\u001b[39;00m\n\u001b[0;32m    112\u001b[0m     \u001b[38;5;66;03m# RUN \"query\" {parameters} {extra}\u001b[39;00m\n\u001b[1;32m--> 113\u001b[0m     \u001b[38;5;28mself\u001b[39m\u001b[38;5;241m.\u001b[39m_run(\n\u001b[0;32m    114\u001b[0m         query, parameters, \u001b[38;5;28;01mNone\u001b[39;00m, \u001b[38;5;28;01mNone\u001b[39;00m, \u001b[38;5;28;01mNone\u001b[39;00m, \u001b[38;5;28;01mNone\u001b[39;00m, \u001b[38;5;241m*\u001b[39m\u001b[38;5;241m*\u001b[39mkwargs\n\u001b[0;32m    115\u001b[0m     )\n",
      "File \u001b[1;32m~\\.conda\\envs\\SupplyChainGraph\\lib\\site-packages\\neo4j\\_sync\\work\\result.py:164\u001b[0m, in \u001b[0;36mResult._run\u001b[1;34m(self, query, parameters, db, imp_user, access_mode, bookmarks, **kwargs)\u001b[0m\n\u001b[0;32m    162\u001b[0m \u001b[38;5;28mself\u001b[39m\u001b[38;5;241m.\u001b[39m_pull()\n\u001b[0;32m    163\u001b[0m \u001b[38;5;28mself\u001b[39m\u001b[38;5;241m.\u001b[39m_connection\u001b[38;5;241m.\u001b[39msend_all()\n\u001b[1;32m--> 164\u001b[0m \u001b[38;5;28;43mself\u001b[39;49m\u001b[38;5;241;43m.\u001b[39;49m\u001b[43m_attach\u001b[49m\u001b[43m(\u001b[49m\u001b[43m)\u001b[49m\n",
      "File \u001b[1;32m~\\.conda\\envs\\SupplyChainGraph\\lib\\site-packages\\neo4j\\_sync\\work\\result.py:272\u001b[0m, in \u001b[0;36mResult._attach\u001b[1;34m(self)\u001b[0m\n\u001b[0;32m    270\u001b[0m \u001b[38;5;28;01mif\u001b[39;00m \u001b[38;5;28mself\u001b[39m\u001b[38;5;241m.\u001b[39m_exhausted \u001b[38;5;129;01mis\u001b[39;00m \u001b[38;5;28;01mFalse\u001b[39;00m:\n\u001b[0;32m    271\u001b[0m     \u001b[38;5;28;01mwhile\u001b[39;00m \u001b[38;5;28mself\u001b[39m\u001b[38;5;241m.\u001b[39m_attached \u001b[38;5;129;01mis\u001b[39;00m \u001b[38;5;28;01mFalse\u001b[39;00m:\n\u001b[1;32m--> 272\u001b[0m         \u001b[38;5;28;43mself\u001b[39;49m\u001b[38;5;241;43m.\u001b[39;49m\u001b[43m_connection\u001b[49m\u001b[38;5;241;43m.\u001b[39;49m\u001b[43mfetch_message\u001b[49m\u001b[43m(\u001b[49m\u001b[43m)\u001b[49m\n",
      "File \u001b[1;32m~\\.conda\\envs\\SupplyChainGraph\\lib\\site-packages\\neo4j\\_sync\\io\\_common.py:178\u001b[0m, in \u001b[0;36mConnectionErrorHandler.__getattr__.<locals>.outer.<locals>.inner\u001b[1;34m(*args, **kwargs)\u001b[0m\n\u001b[0;32m    176\u001b[0m \u001b[38;5;28;01mdef\u001b[39;00m \u001b[38;5;21minner\u001b[39m(\u001b[38;5;241m*\u001b[39margs, \u001b[38;5;241m*\u001b[39m\u001b[38;5;241m*\u001b[39mkwargs):\n\u001b[0;32m    177\u001b[0m     \u001b[38;5;28;01mtry\u001b[39;00m:\n\u001b[1;32m--> 178\u001b[0m         func(\u001b[38;5;241m*\u001b[39margs, \u001b[38;5;241m*\u001b[39m\u001b[38;5;241m*\u001b[39mkwargs)\n\u001b[0;32m    179\u001b[0m     \u001b[38;5;28;01mexcept\u001b[39;00m (Neo4jError, ServiceUnavailable, SessionExpired) \u001b[38;5;28;01mas\u001b[39;00m exc:\n\u001b[0;32m    180\u001b[0m         \u001b[38;5;28;01massert\u001b[39;00m \u001b[38;5;129;01mnot\u001b[39;00m asyncio\u001b[38;5;241m.\u001b[39miscoroutinefunction(\u001b[38;5;28mself\u001b[39m\u001b[38;5;241m.\u001b[39m__on_error)\n",
      "File \u001b[1;32m~\\.conda\\envs\\SupplyChainGraph\\lib\\site-packages\\neo4j\\_sync\\io\\_bolt.py:651\u001b[0m, in \u001b[0;36mBolt.fetch_message\u001b[1;34m(self)\u001b[0m\n\u001b[0;32m    647\u001b[0m \u001b[38;5;66;03m# Receive exactly one message\u001b[39;00m\n\u001b[0;32m    648\u001b[0m tag, fields \u001b[38;5;241m=\u001b[39m \u001b[38;5;28mself\u001b[39m\u001b[38;5;241m.\u001b[39minbox\u001b[38;5;241m.\u001b[39mpop(\n\u001b[0;32m    649\u001b[0m     hydration_hooks\u001b[38;5;241m=\u001b[39m\u001b[38;5;28mself\u001b[39m\u001b[38;5;241m.\u001b[39mresponses[\u001b[38;5;241m0\u001b[39m]\u001b[38;5;241m.\u001b[39mhydration_hooks\n\u001b[0;32m    650\u001b[0m )\n\u001b[1;32m--> 651\u001b[0m res \u001b[38;5;241m=\u001b[39m \u001b[38;5;28;43mself\u001b[39;49m\u001b[38;5;241;43m.\u001b[39;49m\u001b[43m_process_message\u001b[49m\u001b[43m(\u001b[49m\u001b[43mtag\u001b[49m\u001b[43m,\u001b[49m\u001b[43m \u001b[49m\u001b[43mfields\u001b[49m\u001b[43m)\u001b[49m\n\u001b[0;32m    652\u001b[0m \u001b[38;5;28mself\u001b[39m\u001b[38;5;241m.\u001b[39midle_since \u001b[38;5;241m=\u001b[39m perf_counter()\n\u001b[0;32m    653\u001b[0m \u001b[38;5;28;01mreturn\u001b[39;00m res\n",
      "File \u001b[1;32m~\\.conda\\envs\\SupplyChainGraph\\lib\\site-packages\\neo4j\\_sync\\io\\_bolt4.py:326\u001b[0m, in \u001b[0;36mBolt4x0._process_message\u001b[1;34m(self, tag, fields)\u001b[0m\n\u001b[0;32m    324\u001b[0m \u001b[38;5;28mself\u001b[39m\u001b[38;5;241m.\u001b[39m_server_state_manager\u001b[38;5;241m.\u001b[39mstate \u001b[38;5;241m=\u001b[39m ServerStates\u001b[38;5;241m.\u001b[39mFAILED\n\u001b[0;32m    325\u001b[0m \u001b[38;5;28;01mtry\u001b[39;00m:\n\u001b[1;32m--> 326\u001b[0m     \u001b[43mresponse\u001b[49m\u001b[38;5;241;43m.\u001b[39;49m\u001b[43mon_failure\u001b[49m\u001b[43m(\u001b[49m\u001b[43msummary_metadata\u001b[49m\u001b[43m \u001b[49m\u001b[38;5;129;43;01mor\u001b[39;49;00m\u001b[43m \u001b[49m\u001b[43m{\u001b[49m\u001b[43m}\u001b[49m\u001b[43m)\u001b[49m\n\u001b[0;32m    327\u001b[0m \u001b[38;5;28;01mexcept\u001b[39;00m (ServiceUnavailable, DatabaseUnavailable):\n\u001b[0;32m    328\u001b[0m     \u001b[38;5;28;01mif\u001b[39;00m \u001b[38;5;28mself\u001b[39m\u001b[38;5;241m.\u001b[39mpool:\n",
      "File \u001b[1;32m~\\.conda\\envs\\SupplyChainGraph\\lib\\site-packages\\neo4j\\_sync\\io\\_common.py:245\u001b[0m, in \u001b[0;36mResponse.on_failure\u001b[1;34m(self, metadata)\u001b[0m\n\u001b[0;32m    243\u001b[0m handler \u001b[38;5;241m=\u001b[39m \u001b[38;5;28mself\u001b[39m\u001b[38;5;241m.\u001b[39mhandlers\u001b[38;5;241m.\u001b[39mget(\u001b[38;5;124m\"\u001b[39m\u001b[38;5;124mon_summary\u001b[39m\u001b[38;5;124m\"\u001b[39m)\n\u001b[0;32m    244\u001b[0m Util\u001b[38;5;241m.\u001b[39mcallback(handler)\n\u001b[1;32m--> 245\u001b[0m \u001b[38;5;28;01mraise\u001b[39;00m Neo4jError\u001b[38;5;241m.\u001b[39mhydrate(\u001b[38;5;241m*\u001b[39m\u001b[38;5;241m*\u001b[39mmetadata)\n",
      "\u001b[1;31mClientError\u001b[0m: {code: Neo.ClientError.Statement.AccessMode} {message: Writing in read access mode not allowed. Attempted write to internal graph 0 (neo4j)}"
     ]
    }
   ],
   "source": [
    "draw_graph_Neo4j(nodes_df,edges_df)"
   ]
  },
  {
   "cell_type": "code",
   "execution_count": null,
   "id": "f9c49178",
   "metadata": {},
   "outputs": [],
   "source": [
    "nodes_df['Label'].value_counts()"
   ]
  },
  {
   "cell_type": "code",
   "execution_count": null,
   "id": "f9b49c90",
   "metadata": {},
   "outputs": [],
   "source": [
    "All_dfs.keys()"
   ]
  },
  {
   "cell_type": "code",
   "execution_count": null,
   "id": "e1e83d0c",
   "metadata": {},
   "outputs": [],
   "source": [
    "trial = nodes_df.query(\"Label == 'ssintship' | Label == 'scintship' | Label == 'srintship' | Label == 'rcintship'\")\n",
    "display(trial['ID'])\n",
    "\n",
    "minMax = trial['ID'].agg(['min', 'max']).to_numpy()\n",
    "print(minMax)\n",
    "\n",
    "def calculateNewValue(x):\n",
    "    if(x != 0):\n",
    "        OldRange = (minMax[1] - minMax[0])  \n",
    "        NewRange = (5 - 1)  \n",
    "        NewValue = (((x - minMax[0]) * NewRange) / OldRange) + 1\n",
    "        return round(NewValue)\n",
    "    \n",
    "    return 0\n",
    "\n",
    "trial['ID'].apply(lambda x: calculateNewValue(x))"
   ]
  },
  {
   "cell_type": "code",
   "execution_count": null,
   "id": "a63928b5",
   "metadata": {},
   "outputs": [],
   "source": [
    "All_dfs.keys()"
   ]
  },
  {
   "cell_type": "code",
   "execution_count": null,
   "id": "90bf0f27",
   "metadata": {},
   "outputs": [],
   "source": [
    "durationAndDistanceData = pd.read_csv('trial.csv')\n",
    "durationAndDistanceData"
   ]
  },
  {
   "cell_type": "code",
   "execution_count": null,
   "id": "d74dd80b",
   "metadata": {},
   "outputs": [],
   "source": [
    "All_dfs['rcextship'].shape[0]"
   ]
  },
  {
   "cell_type": "code",
   "execution_count": null,
   "id": "a52749ce",
   "metadata": {},
   "outputs": [],
   "source": [
    "All_dfs['scextship'].shape[0]"
   ]
  },
  {
   "cell_type": "code",
   "execution_count": null,
   "id": "39e4079d",
   "metadata": {},
   "outputs": [],
   "source": [
    "All_dfs['srintship'].shape[0]"
   ]
  },
  {
   "cell_type": "code",
   "execution_count": null,
   "id": "ed5b5ed7",
   "metadata": {},
   "outputs": [],
   "source": [
    "edges_df.query(\"(Edge_Name == 'rcextship') | (Edge_Name == 'scextship') | (Edge_Name == 'srintship') | (Edge_Name == 'ssintship')\")['Edge_Name'].value_counts()"
   ]
  },
  {
   "cell_type": "code",
   "execution_count": null,
   "id": "82277393",
   "metadata": {},
   "outputs": [],
   "source": [
    "edges_df[(edges_df['Edge_Name'] == 'rcextship') | (edges_df['Edge_Name'] == 'scextship') | (edges_df['Edge_Name'] == 'srintship') | (edges_df['Edge_Name'] == 'ssintship')]"
   ]
  },
  {
   "cell_type": "code",
   "execution_count": null,
   "id": "f6b4997f",
   "metadata": {},
   "outputs": [],
   "source": [
    "edges_df['Edge_Name'].value_counts()"
   ]
  },
  {
   "cell_type": "markdown",
   "id": "1be928cf",
   "metadata": {},
   "source": [
    "[PyVis Function](#PyVisFunction)"
   ]
  },
  {
   "cell_type": "code",
   "execution_count": null,
   "id": "2011c1c0",
   "metadata": {},
   "outputs": [],
   "source": [
    "# draw_graph_pyvis(nodes_df,edges_df)"
   ]
  },
  {
   "cell_type": "code",
   "execution_count": 9,
   "id": "a72fa4f7",
   "metadata": {},
   "outputs": [
    {
     "data": {
      "image/png": "[encoded data removed]",
      "text/plain": [
       "<Figure size 1000x900 with 2 Axes>"
      ]
     },
     "metadata": {},
     "output_type": "display_data"
    }
   ],
   "source": [
    "age_list = [8, 10, 12, 14, 72, 74, 76, 78, 20, 25, 30, 35, 60, 85]\n",
    "df = pd.DataFrame({\"gender\": list(\"MMMMMMMMFFFFFF\"), \"age\": age_list})\n",
    "ax = df.plot.hist(column=[\"age\"], by=\"gender\", figsize=(10, 9))"
   ]
  }
 ],
 "metadata": {
  "colab": {
   "collapsed_sections": [],
   "name": "Copy of Data Transformation.ipynb",
   "provenance": []
  },
  "kernelspec": {
   "display_name": "Python 3.10.4 ('DAI')",
   "language": "python",
   "name": "python3"
  },
  "language_info": {
   "codemirror_mode": {
    "name": "ipython",
    "version": 3
   },
   "file_extension": ".py",
   "mimetype": "text/x-python",
   "name": "python",
   "nbconvert_exporter": "python",
   "pygments_lexer": "ipython3",
   "version": "3.10.4"
  },
  "vscode": {
   "interpreter": {
    "hash": "e5d545dc2dc0cac2c9268d32aa205aac7d1b094cd1ac1af967d7689ec01d5142"
   }
  }
 },
 "nbformat": 4,
 "nbformat_minor": 5
}
