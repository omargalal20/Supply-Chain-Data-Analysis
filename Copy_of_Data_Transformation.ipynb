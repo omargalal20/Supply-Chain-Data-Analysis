{
  "cells": [
    {
      "cell_type": "markdown",
      "id": "e0e2ddb5",
      "metadata": {},
      "source": [
        "[Section 1](#section_1)"
      ]
    },
    {
      "cell_type": "markdown",
      "id": "1c98e8ef",
      "metadata": {
        "id": "1c98e8ef"
      },
      "source": [
        "## Imports"
      ]
    },
    {
      "cell_type": "code",
      "execution_count": 1,
      "id": "db4381b1",
      "metadata": {
        "id": "db4381b1"
      },
      "outputs": [],
      "source": [
        "import pandas as pd\n",
        "import os\n",
        "import numpy as np\n",
        "from pyvis.network import Network\n",
        "from neo4j import GraphDatabase\n",
        "import re\n",
        "from functools import reduce\n"
      ]
    },
    {
      "cell_type": "markdown",
      "id": "bcd66061",
      "metadata": {
        "id": "bcd66061"
      },
      "source": [
        "## Functions "
      ]
    },
    {
      "cell_type": "markdown",
      "id": "2e5fc642",
      "metadata": {
        "id": "2e5fc642"
      },
      "source": [
        "### Find Each Table's primary key"
      ]
    },
    {
      "cell_type": "code",
      "execution_count": 2,
      "id": "a33b18f5",
      "metadata": {
        "id": "a33b18f5"
      },
      "outputs": [],
      "source": [
        "def pk_finder(name, df):\n",
        "    for i in range(len(df.columns)):\n",
        "        col = df.iloc[:,i]\n",
        "        #if(col.size == col.drop_duplicates().size):\n",
        "        if(col.nunique() == col.size):\n",
        "            pk[name] = df.columns[i] \n",
        "            break\n",
        "        "
      ]
    },
    {
      "cell_type": "markdown",
      "id": "5649ff29",
      "metadata": {
        "id": "5649ff29"
      },
      "source": [
        "### Find Each Table's foreign key\n"
      ]
    },
    {
      "cell_type": "code",
      "execution_count": 3,
      "id": "c36338f1",
      "metadata": {
        "id": "c36338f1"
      },
      "outputs": [],
      "source": [
        "def fk_finder(name, df):\n",
        "    for i in range(len(df.columns)):\n",
        "        col_name = df.columns[i]\n",
        "        col = df[col_name]\n",
        "        for j in pk: #loops on the key j = table names\n",
        "            if j != name:\n",
        "                primary_key_column = All_dfs[j][(pk[j])]\n",
        "                \n",
        "                if primary_key_column.dtype == col.dtype:\n",
        "                    status = col.isin(primary_key_column)\n",
        "                    if status[status== False].size == 0:\n",
        "                        fk[name][col_name] = j \n",
        "                        ref_in[j].add(name)\n",
        "                        break\n",
        "\n",
        "                elif (isinstance(col[0],list) and type(primary_key_column[0]) == type(col[0][0])):\n",
        "                    status = col.explode().reset_index(drop=True).isin(primary_key_column)\n",
        "                    if status[status== False].size == 0:\n",
        "                        fk[name][col_name] = j \n",
        "                        ref_in[j].add(name)\n",
        "                        break"
      ]
    },
    {
      "cell_type": "code",
      "execution_count": 4,
      "id": "c8ba2d83",
      "metadata": {},
      "outputs": [],
      "source": [
        "# type(All_dfs[\"warehouses\"].warehouse_id[0])"
      ]
    },
    {
      "cell_type": "markdown",
      "id": "094b5a4a",
      "metadata": {
        "id": "094b5a4a"
      },
      "source": [
        "### Assign Tables to nodes or edges"
      ]
    },
    {
      "cell_type": "code",
      "execution_count": 5,
      "id": "36bc7af4",
      "metadata": {
        "id": "36bc7af4"
      },
      "outputs": [],
      "source": [
        "def nodes_edges(fk):\n",
        "    for f in fk:\n",
        "        if len(fk[f]) == 2:\n",
        "            inner_dict = list(fk[f])\n",
        "            edges[f] = fk[f]\n",
        "        elif len(fk[f]) == 1:\n",
        "            properties[f] = fk[f]\n",
        "        elif len(fk[f]) == 0:\n",
        "            nodes[f] = All_dfs[f]\n"
      ]
    },
    {
      "cell_type": "markdown",
      "id": "83acb674",
      "metadata": {
        "id": "83acb674"
      },
      "source": [
        "### Create Nodes Table"
      ]
    },
    {
      "cell_type": "code",
      "execution_count": 6,
      "id": "62f17479",
      "metadata": {
        "id": "62f17479"
      },
      "outputs": [],
      "source": [
        "def add_nodes(nodes, nodesTable):\n",
        "    for n in range(len(nodes)):\n",
        "        for index, row in nodes[list(nodes.keys())[n]].iterrows():\n",
        "            column_names = list(nodes[list(nodes.keys())[n]].columns) #get column names\n",
        "            att = {}\n",
        "            for i in range(1, len(column_names)):\n",
        "                att[column_names[i]] = nodes[list(nodes.keys())[n]].iloc[index, i]\n",
        "            newRow = [{'Label': list(nodes.keys())[n] , 'ID': nodes[list(nodes.keys())[n]].iloc[index,0] , 'Attributes': att}]\n",
        "            tmp = pd.DataFrame(newRow)\n",
        "            nodesTable = pd.concat([nodesTable, tmp], ignore_index=True)\n",
        "    return nodesTable\n"
      ]
    },
    {
      "cell_type": "markdown",
      "id": "fab162b7",
      "metadata": {
        "id": "fab162b7"
      },
      "source": [
        "### Create Edges Table"
      ]
    },
    {
      "cell_type": "code",
      "execution_count": 7,
      "id": "7193efa5",
      "metadata": {
        "id": "7193efa5"
      },
      "outputs": [],
      "source": [
        "def add_edges(edges,edgesTable,pk,fk,ref_in):\n",
        "    for e in edges:\n",
        "        df = All_dfs[e] #df of the cur edge\n",
        "        for r in range(len(df)):\n",
        "            label = list(edges[e].keys())\n",
        "            from_id = nodesTable[(nodesTable[\"Label\"] == edges[e][label[0]]) & (df.loc[r,label[0]] == nodesTable[\"ID\"])]\n",
        "            from_id = from_id.index[0]\n",
        "            to_id = nodesTable[(nodesTable[\"Label\"] == edges[e][label[1]]) & (df.loc[r,label[1]] == nodesTable[\"ID\"])]\n",
        "            to_id = to_id.index[0]\n",
        "            pk_col = pk[e]\n",
        "#             primary_key = df[pk_col].iloc[r]\n",
        "            primary_key = df.loc[r,pk_col]\n",
        "            att = convert_prop(ref_in,e,primary_key,fk)\n",
        "            newRow = [{'From_Node_ID': from_id, 'To_Node_ID': to_id, 'order/service' : att}]\n",
        "            tmp = pd.DataFrame(newRow)\n",
        "            edgesTable = pd.concat([edgesTable, tmp], ignore_index=True)\n",
        "    return edgesTable"
      ]
    },
    {
      "cell_type": "markdown",
      "id": "b212538d",
      "metadata": {
        "id": "b212538d"
      },
      "source": [
        "### Properties of the Edge"
      ]
    },
    {
      "cell_type": "code",
      "execution_count": 8,
      "id": "4829dbe7",
      "metadata": {
        "id": "4829dbe7"
      },
      "outputs": [],
      "source": [
        "def convert_prop(ref_in,edge_key, pk_value,fk):\n",
        "    for referenced_table_name in ref_in[edge_key]:\n",
        "        referenced_table = All_dfs[referenced_table_name]\n",
        "        fk_of_ref_table = fk[referenced_table_name]\n",
        "        for foreign_key in fk_of_ref_table:\n",
        "            if fk_of_ref_table[foreign_key] == edge_key:\n",
        "#                 referenced_table[referenced_table[foreign_key]== id]\n",
        "                all_occurances_df = referenced_table[referenced_table[foreign_key]== pk_value].drop([foreign_key],axis=1)\n",
        "                return all_occurances_df.to_dict('records')\n",
        "                "
      ]
    },
    {
      "cell_type": "markdown",
      "id": "67c2907a",
      "metadata": {},
      "source": [
        "### generate list of n colors"
      ]
    },
    {
      "cell_type": "code",
      "execution_count": 9,
      "id": "47cb3129",
      "metadata": {},
      "outputs": [],
      "source": [
        "import random\n",
        "get_colors = lambda n: list(map(lambda i: \"#\" + \"%06x\" % random.randint(0, 0xFFFFFF),range(n)))\n",
        "# get_colors(5) # sample return:  ['#8af5da', '#fbc08c', '#b741d0', '#e599f1', '#bbcb59', '#a2a6c0']"
      ]
    },
    {
      "cell_type": "markdown",
      "id": "56580eb8",
      "metadata": {},
      "source": [
        "### Draw Pyvis graph"
      ]
    },
    {
      "cell_type": "code",
      "execution_count": 10,
      "id": "8d8a13c6",
      "metadata": {},
      "outputs": [],
      "source": [
        "def draw_graph_pyvis(nodes_table,edges_table):\n",
        "\n",
        "    nodes_name = [(x[1]+'_'+str(x[0])).capitalize() for x in zip(nodes_table.ID,nodes_table.Label)]\n",
        "    indices = list(map(lambda x: int(x),list(nodes_table.index)))\n",
        "    nodes_attributes = list(map(lambda x: str(x).replace(',',\"\\n\"),list(nodes_table.Attributes)))\n",
        "    nodes_tables = list(nodes_df.Label.unique())\n",
        "    colors = get_colors(len(nodes_name))\n",
        "    nodes_color = list(map(lambda x: colors[nodes_tables.index(x)],list(nodes_table.Label)))\n",
        "    \n",
        "    g = Network(width='100%')\n",
        "#     g.barnes_hut()\n",
        "    g.add_nodes(indices,\n",
        "                title= nodes_attributes,\n",
        "                label=nodes_name,\n",
        "                color=nodes_color,\n",
        "                )\n",
        "    for e in range(len(edges_table)):\n",
        "        src = int(edges_table.iloc[e][\"From\"])\n",
        "        dst = int(edges_table.iloc[e][\"To\"])\n",
        "        g.add_edge(src,dst,weight=5)\n",
        "\n",
        "    print(\"Number of Nodes: \",len(g.get_nodes()))\n",
        "    print(\"Number of Edges: \",len(g.get_edges()))\n",
        "    \n",
        "\n",
        "    g.show('test.html')\n",
        "\n",
        "\n"
      ]
    },
    {
      "cell_type": "markdown",
      "id": "2ea01894",
      "metadata": {},
      "source": [
        "### Draw Graph Neo4j\n",
        "\n",
        "<a id='Neo4jFunction'></a>"
      ]
    },
    {
      "cell_type": "markdown",
      "id": "0c578abb",
      "metadata": {},
      "source": [
        "[Noe4jCallFunction](#Neo4jCall)"
      ]
    },
    {
      "cell_type": "markdown",
      "id": "439e2fff",
      "metadata": {},
      "source": [
        "#### prepare satements"
      ]
    },
    {
      "cell_type": "code",
      "execution_count": 55,
      "id": "3bb78c33",
      "metadata": {},
      "outputs": [],
      "source": [
        "def draw_graph_Neo4j(nodes_table,edges_table):\n",
        "\n",
        "    transaction_execution_commands = []\n",
        "    transaction_execution_commands.append(\"match (n) detach delete n\")\n",
        "    # creating a statement for each node (row in node_table)\n",
        "    for i, node in nodes_table.iterrows():\n",
        "        label = node[\"Label\"].capitalize()\n",
        "        index = i\n",
        "        IDs = node[\"ID\"]\n",
        "        attributes = node[\"Attributes\"]\n",
        "        neo4j_create_statement = Create_Statement(label,i,IDs,attributes)\n",
        "        transaction_execution_commands.append(neo4j_create_statement)\n",
        "\n",
        "    for i, edge in edges_table.iterrows():\n",
        "        from_node_id = edge['From']\n",
        "        to_node_id = edge['To']\n",
        "        from_node_name = edge['From_Table']\n",
        "        to_node_name = edge['To_Table']\n",
        "        neo4j_create_statement = create_relation_statement(from_node_id,to_node_id,from_node_name,to_node_name)\n",
        "        transaction_execution_commands.append(neo4j_create_statement)\n",
        "\n",
        "     \n",
        "    execute_transactions(transaction_execution_commands)\n",
        " "
      ]
    },
    {
      "cell_type": "markdown",
      "id": "c079d3da",
      "metadata": {},
      "source": [
        "#### Connect and execute statements"
      ]
    },
    {
      "cell_type": "code",
      "execution_count": 12,
      "id": "a9097aa2",
      "metadata": {},
      "outputs": [],
      "source": [
        "def execute_transactions(transaction_execution_commands):\n",
        "    data_base_connection = GraphDatabase.driver(uri = \"bolt://localhost:7687\", auth=(\"neo4j\", \"password\"))\n",
        "    session = data_base_connection.session()    \n",
        "    for i in transaction_execution_commands:\n",
        "        session.run(i)\n",
        "\n",
        " "
      ]
    },
    {
      "cell_type": "markdown",
      "id": "1c4e8f87",
      "metadata": {},
      "source": [
        "#### Create a \"Create statement for nodes\""
      ]
    },
    {
      "cell_type": "code",
      "execution_count": 13,
      "id": "7b5dbf69",
      "metadata": {},
      "outputs": [],
      "source": [
        "def Create_Statement(label,index,IDs,attributes):\n",
        "#     att = destructure_dict(attributes)\n",
        "#     return f\"CREATE (x:{label} {'{'}name: {get_name(label,IDs)},index:{index},ID:{IDs} ,{destructure_dict(attributes)} {'}'})\"\n",
        "    att = (\", \" + destructure_dict(attributes)) if len(attributes) > 0 else \"\"\n",
        "    return f\"CREATE (x:{label} {'{'}name: {get_name(label,IDs)},index:{index},ID:{IDs} {att} {'}'})\"\n"
      ]
    },
    {
      "cell_type": "code",
      "execution_count": 14,
      "id": "7e7de542",
      "metadata": {},
      "outputs": [],
      "source": [
        "def get_name(label,ID):\n",
        "    return '\\\"' + label.capitalize()+' '+str(ID)+'\\\"'"
      ]
    },
    {
      "cell_type": "markdown",
      "id": "c17d7fa2",
      "metadata": {},
      "source": [
        "#### prepare attributes for create statement"
      ]
    },
    {
      "cell_type": "code",
      "execution_count": 15,
      "id": "c128f9c7",
      "metadata": {},
      "outputs": [],
      "source": [
        "def destructure_dict(dic):\n",
        "    s = \"\"\n",
        "    for key in dic:\n",
        "        value = dic[key]\n",
        "        if isinstance (value,str):\n",
        "            value = \"\\\"\" + value +\"\\\"\"\n",
        "        s=s + re.sub(\"[^\\w_]\", '',str(key).replace(\" \",\"_\")) + \":\" + str(value)+\",\"\n",
        "    return s[:-1]"
      ]
    },
    {
      "cell_type": "code",
      "execution_count": 16,
      "id": "78bdb262",
      "metadata": {},
      "outputs": [],
      "source": [
        "def create_relation_statement(from_id, to_id,from_name,to_name):\n",
        "        return f\"Match (a:{from_name}),(b:{to_name}) WHERE a.index ={from_id} AND b.index = {to_id} CREATE (a) - [r:RELTYPE]->(b)\"\n"
      ]
    },
    {
      "cell_type": "code",
      "execution_count": 17,
      "id": "5d1a5750",
      "metadata": {},
      "outputs": [],
      "source": [
        "def and_agg(series):\n",
        "       return reduce(lambda x, y: x and y, series)"
      ]
    },
    {
      "cell_type": "markdown",
      "id": "0e2c1e35",
      "metadata": {
        "id": "0e2c1e35"
      },
      "source": [
        "## Global Variables"
      ]
    },
    {
      "cell_type": "code",
      "execution_count": 18,
      "id": "9fe74450",
      "metadata": {
        "id": "9fe74450"
      },
      "outputs": [],
      "source": [
        "# {Table name: df}\n",
        "All_dfs = {}\n",
        "# {Table name: Table's Primary key}\n",
        "pk = {}\n",
        "# {Table name: {Column Name: Referenced Table}}\n",
        "fk = {}\n",
        "# {Table name: set(Tables that references the table)}\n",
        "ref_in = {}\n",
        "# {Table name: df}\n",
        "nodes = {}\n",
        "# {Table name: {Column Name: Referenced Table}}\n",
        "edges = {}\n",
        "# _\n",
        "properties = {}\n",
        "# Nodes_df\n",
        "nodesTable = pd.DataFrame(columns=['Label', 'ID', 'Attributes'])\n",
        "# Edges_df\n",
        "edgesTable = pd.DataFrame(columns = ['From_Node_ID', 'To_Node_ID', 'order/service'])\n",
        "# Properties_df\n",
        "propertiesTable = pd.DataFrame(columns = [['index','From', 'Label', 'Attributes']])\n",
        "#Label = ['facilities'/ 'order' / 'service']\n",
        "\n",
        "\n",
        "# Nodes\n",
        "# Edges ['From_Node_ID', 'To_Node_ID']\n",
        "# Properties ['Label', 'ID', 'Attributes']\n",
        "# (^Nodes in graph)\n",
        "# Relationship [\"Relation_name\",\"from\",\"to\"]\n",
        "\n",
        "\n",
        "nodes_df = pd.DataFrame(columns=['Label', 'ID', 'Attributes'])\n",
        "edges_df = pd.DataFrame(columns=['From','To','From_Table','To_Table'])\n"
      ]
    },
    {
      "cell_type": "markdown",
      "id": "3bb863a2",
      "metadata": {
        "id": "3bb863a2"
      },
      "source": [
        "<a id='section_1'></a>\n",
        "## Reading Data Set\n"
      ]
    },
    {
      "cell_type": "markdown",
      "id": "9aa7852e",
      "metadata": {
        "id": "9aa7852e"
      },
      "source": [
        " creating a dictionary where\n",
        " key: first word of the table name \n",
        " value: df "
      ]
    },
    {
      "cell_type": "code",
      "execution_count": 19,
      "id": "793fb3eb",
      "metadata": {
        "colab": {
          "base_uri": "https://localhost:8080/"
        },
        "id": "793fb3eb",
        "outputId": "7e77c5d9-1d3f-4eac-97b6-4c0480dca9f2"
      },
      "outputs": [
        {
          "name": "stdout",
          "output_type": "stream",
          "text": [
            "customer_data.csv\n",
            "ExternalOrders_data.csv\n",
            "ExternalServices_data.csv\n",
            "ExternalShipments_data.csv\n",
            "ExternalTransactions.csv\n",
            "facilities_data.csv\n",
            "InternalOrders_data.csv\n",
            "InternalServices_data.csv\n",
            "InternalShipments_data.csv\n",
            "InternalTransactions.csv\n",
            "Manufacturing_data.csv\n",
            "Products_data.csv\n",
            "Retailer_data.csv\n",
            "Supplier_data.csv\n",
            "warehouses_data.csv\n"
          ]
        }
      ],
      "source": [
        "import os\n",
        "path_of_the_directory = './DataSet/'\n",
        "ext = ('.csv')\n",
        "for file in os.listdir(path_of_the_directory):\n",
        "    if file.endswith(ext):\n",
        "        print(file) \n",
        "        temp = (file.replace(\"_\",\" \").replace(\".\",\" \").split(\" \")[0].lower())\n",
        "        All_dfs[temp] = pd.read_csv(path_of_the_directory+file)\n",
        "    else:\n",
        "        continue"
      ]
    },
    {
      "cell_type": "code",
      "execution_count": 20,
      "id": "fbff72ff",
      "metadata": {},
      "outputs": [],
      "source": [
        "for table_nm in All_dfs:\n",
        "    table = All_dfs[table_nm]\n",
        "    for column_name in table.columns:\n",
        "        column =  table[column_name]\n",
        "        if column.dtype=='O' and isinstance(column[0],str):\n",
        "            if  (isinstance(column[0],str) and column.apply(lambda x: (str(x).startswith('[') and str(x).endswith(']'))\n",
        "                         or \n",
        "                         (str(x).startswith('(') and str(x).endswith(')'))).agg(and_agg)):\n",
        "                \n",
        "                s = column.apply(lambda x: x.strip(\"[](,)\").split(','))\n",
        "                if (s[0][0].isdigit()):\n",
        "                    s = s.apply(lambda x: list(map(np.int64,x)))\n",
        "                All_dfs[table_nm][column_name] = s\n",
        "                \n"
      ]
    },
    {
      "cell_type": "code",
      "execution_count": 21,
      "id": "ab6ec34b",
      "metadata": {},
      "outputs": [
        {
          "data": {
            "text/plain": [
              "True"
            ]
          },
          "execution_count": 21,
          "metadata": {},
          "output_type": "execute_result"
        }
      ],
      "source": [
        "All_dfs[\"products\"].warehouses.explode().isin(All_dfs[\"warehouses\"].warehouse_id ).agg(and_agg)"
      ]
    },
    {
      "cell_type": "code",
      "execution_count": 22,
      "id": "120a6b4a",
      "metadata": {},
      "outputs": [],
      "source": [
        "# ware_house_id = All_dfs[\"warehouses\"].warehouse_id \n",
        "\n",
        "# warehouse_product_isin_warehouse = All_dfs[\"products\"].warehouses.explode().isin(ware_house_id)\n",
        "# warehouse_product_not_in_warehouse_values = list(All_dfs[\"products\"].warehouses.explode()[[not elem for elem in warehouse_product_isin_warehouse]].unique())\n",
        "# print(len(warehouse_product_not_in_warehouse_values))\n",
        "# warehouse_isin_warehouse_product =  ware_house_id.isin(All_dfs[\"products\"].warehouses.explode())\n",
        "# print(len( list(ware_house_id[[not elem for elem in warehouse_isin_warehouse_product]].unique())))\n",
        "# warehouses_to_be_replaced = list(ware_house_id[[not elem for elem in warehouse_isin_warehouse_product]].unique())[:len(warehouse_product_not_in_warehouse_values)]\n",
        "\n",
        "# All_dfs[\"warehouses\"].warehouse_id  =  ware_house_id.replace(warehouses_to_be_replaced,warehouse_product_not_in_warehouse_values)"
      ]
    },
    {
      "cell_type": "markdown",
      "id": "4dd67254",
      "metadata": {},
      "source": [
        "### Adding Missing Edges\n"
      ]
    },
    {
      "cell_type": "code",
      "execution_count": 23,
      "id": "46c3bb8d",
      "metadata": {
        "scrolled": true
      },
      "outputs": [
        {
          "data": {
            "text/html": [
              "<div>\n",
              "<style scoped>\n",
              "    .dataframe tbody tr th:only-of-type {\n",
              "        vertical-align: middle;\n",
              "    }\n",
              "\n",
              "    .dataframe tbody tr th {\n",
              "        vertical-align: top;\n",
              "    }\n",
              "\n",
              "    .dataframe thead th {\n",
              "        text-align: right;\n",
              "    }\n",
              "</style>\n",
              "<table border=\"1\" class=\"dataframe\">\n",
              "  <thead>\n",
              "    <tr style=\"text-align: right;\">\n",
              "      <th></th>\n",
              "      <th>IntShip_id</th>\n",
              "      <th>listSuppIds</th>\n",
              "      <th>factoryIds</th>\n",
              "      <th>from_to_where</th>\n",
              "    </tr>\n",
              "  </thead>\n",
              "  <tbody>\n",
              "    <tr>\n",
              "      <th>0</th>\n",
              "      <td>7281</td>\n",
              "      <td>90942</td>\n",
              "      <td>52160</td>\n",
              "      <td>SS</td>\n",
              "    </tr>\n",
              "    <tr>\n",
              "      <th>1</th>\n",
              "      <td>5897</td>\n",
              "      <td>36243</td>\n",
              "      <td>67361</td>\n",
              "      <td>SR</td>\n",
              "    </tr>\n",
              "    <tr>\n",
              "      <th>2</th>\n",
              "      <td>3477</td>\n",
              "      <td>87916</td>\n",
              "      <td>30692</td>\n",
              "      <td>SS</td>\n",
              "    </tr>\n",
              "    <tr>\n",
              "      <th>3</th>\n",
              "      <td>8796</td>\n",
              "      <td>90236</td>\n",
              "      <td>26533</td>\n",
              "      <td>SS</td>\n",
              "    </tr>\n",
              "    <tr>\n",
              "      <th>4</th>\n",
              "      <td>2360</td>\n",
              "      <td>89467</td>\n",
              "      <td>46954</td>\n",
              "      <td>SR</td>\n",
              "    </tr>\n",
              "    <tr>\n",
              "      <th>...</th>\n",
              "      <td>...</td>\n",
              "      <td>...</td>\n",
              "      <td>...</td>\n",
              "      <td>...</td>\n",
              "    </tr>\n",
              "    <tr>\n",
              "      <th>95</th>\n",
              "      <td>5797</td>\n",
              "      <td>11283</td>\n",
              "      <td>24646</td>\n",
              "      <td>SS</td>\n",
              "    </tr>\n",
              "    <tr>\n",
              "      <th>96</th>\n",
              "      <td>6673</td>\n",
              "      <td>19072</td>\n",
              "      <td>31857</td>\n",
              "      <td>SR</td>\n",
              "    </tr>\n",
              "    <tr>\n",
              "      <th>97</th>\n",
              "      <td>3632</td>\n",
              "      <td>29277</td>\n",
              "      <td>97142</td>\n",
              "      <td>SS</td>\n",
              "    </tr>\n",
              "    <tr>\n",
              "      <th>98</th>\n",
              "      <td>3089</td>\n",
              "      <td>72315</td>\n",
              "      <td>90349</td>\n",
              "      <td>SR</td>\n",
              "    </tr>\n",
              "    <tr>\n",
              "      <th>99</th>\n",
              "      <td>3916</td>\n",
              "      <td>46204</td>\n",
              "      <td>35266</td>\n",
              "      <td>SS</td>\n",
              "    </tr>\n",
              "  </tbody>\n",
              "</table>\n",
              "<p>100 rows × 4 columns</p>\n",
              "</div>"
            ],
            "text/plain": [
              "    IntShip_id  listSuppIds  factoryIds from_to_where\n",
              "0         7281        90942       52160            SS\n",
              "1         5897        36243       67361            SR\n",
              "2         3477        87916       30692            SS\n",
              "3         8796        90236       26533            SS\n",
              "4         2360        89467       46954            SR\n",
              "..         ...          ...         ...           ...\n",
              "95        5797        11283       24646            SS\n",
              "96        6673        19072       31857            SR\n",
              "97        3632        29277       97142            SS\n",
              "98        3089        72315       90349            SR\n",
              "99        3916        46204       35266            SS\n",
              "\n",
              "[100 rows x 4 columns]"
            ]
          },
          "execution_count": 23,
          "metadata": {},
          "output_type": "execute_result"
        }
      ],
      "source": [
        "initial_internalshipments_df = All_dfs[\"internalshipments\"]\n",
        "initial_internalshipments_df"
      ]
    },
    {
      "cell_type": "code",
      "execution_count": 24,
      "id": "d58dcd3f",
      "metadata": {},
      "outputs": [],
      "source": [
        "c = 9995\n",
        "from_shipment = All_dfs[\"internalshipments\"].listSuppIds\n",
        "to_shipment = All_dfs[\"internalshipments\"].factoryIds\n",
        "\n",
        "for r in range(len(All_dfs[\"manufacturing\"])):\n",
        "    diff_supp = All_dfs[\"manufacturing\"].loc[r,\"Different_suppliers\"]\n",
        "    factory = All_dfs[\"manufacturing\"].loc[r,\"Factory_id\"]\n",
        "    for s in range(len(diff_supp)):\n",
        "        \n",
        "        supp = diff_supp[s]\n",
        "        if supp == factory:\n",
        "            print(factory)\n",
        "        if len(All_dfs[\"internalshipments\"].query(f\"listSuppIds == {supp} and factoryIds == {factory}\")) ==0:\n",
        "            new_row = [{\"IntShip_id\":c, \"listSuppIds\":supp, \"factoryIds\": factory, \"from_to_where\": \"SS\"}] \n",
        "            df = pd.DataFrame(new_row)\n",
        "            c = c+1\n",
        "            All_dfs[\"internalshipments\"] = pd.concat([All_dfs[\"internalshipments\"], df], ignore_index=True)\n",
        "\n",
        "#         if (supp not in from_shipmentfrom_shipment)  :\n",
        "#                 if factory in All_dfs[\"supplier\"].supp_id:\n",
        "#                     i = \"SS\"\n",
        "\n",
        "#         new_row = [{\"IntShip_id\":c, \"listSuppIds\":diff_supp[s], \"factoryIds\": factory, \"from_to_where\": i}] \n",
        "#         df = pd.DataFrame(new_row)\n",
        "#         c = c+1\n",
        "#         All_dfs[\"internalshipments\"] = pd.concat([All_dfs[\"internalshipments\"], df], ignore_index=True)\n",
        "      "
      ]
    },
    {
      "cell_type": "markdown",
      "id": "f6ff1585",
      "metadata": {},
      "source": [
        "### Adding Missing Orders\n"
      ]
    },
    {
      "cell_type": "code",
      "execution_count": 25,
      "id": "4fe5f572",
      "metadata": {},
      "outputs": [
        {
          "data": {
            "text/plain": [
              "522"
            ]
          },
          "execution_count": 25,
          "metadata": {},
          "output_type": "execute_result"
        }
      ],
      "source": [
        "orders_int_ship_id = All_dfs[\"internalorders\"].IntShip_id\t\n",
        "internal_ship_id = All_dfs[\"internalshipments\"].IntShip_id\n",
        "ship_id_in_orders_ship_id = internal_ship_id.isin(orders_int_ship_id)\n",
        "ship_id_not_in_orders_ship_id = list(All_dfs[\"internalshipments\"].IntShip_id[[not elem for elem in ship_id_in_orders_ship_id]].unique())\n",
        "len(ship_id_not_in_orders_ship_id)"
      ]
    },
    {
      "cell_type": "code",
      "execution_count": 26,
      "id": "ff976549",
      "metadata": {},
      "outputs": [],
      "source": [
        "c = 9931\n",
        "for id in ship_id_not_in_orders_ship_id:\n",
        "    new_row = [{\"IntOrders_id\":c, \"IntShip_id\":id, \"quantity\": 766, \"placed_when\": \"1993-05-08\",\n",
        "    \"actual_date\":\"1993-05-30 00:00:00\", \"expected_date\":\"1993-06-01\", \"cost\":\"38.90\", \"status\":\"Closed\"}] \n",
        "    df = pd.DataFrame(new_row)\n",
        "    c = c+1\n",
        "    All_dfs[\"internalorders\"] = pd.concat([All_dfs[\"internalorders\"], df], ignore_index=True)\n"
      ]
    },
    {
      "cell_type": "markdown",
      "id": "7cb547a6",
      "metadata": {
        "id": "7cb547a6"
      },
      "source": [
        "### Splitting Shipments tables"
      ]
    },
    {
      "cell_type": "code",
      "execution_count": 27,
      "id": "a61a8f33",
      "metadata": {
        "id": "a61a8f33"
      },
      "outputs": [],
      "source": [
        "SRIntShip = All_dfs[\"internalshipments\"].query('from_to_where == \"SR\"')\n",
        "SRIntShip = SRIntShip.drop(['from_to_where'], axis=1).reset_index(drop = True)\n",
        "#SRIntShip\n",
        "RCExtShip = All_dfs[\"externalshipments\"].query('from_to_where == \"RC\"')\n",
        "RCExtShip = RCExtShip.drop(['from_to_where'], axis=1).reset_index(drop = True)\n",
        "#RCExtShip\n",
        "SSIntShip = All_dfs[\"internalshipments\"].query('from_to_where == \"SS\"')\n",
        "SSIntShip = SSIntShip.drop(['from_to_where'], axis=1).reset_index(drop = True)\n",
        "#SSIntShip\n",
        "SCExtShip = All_dfs[\"externalshipments\"].query('from_to_where == \"SC\"')\n",
        "SCExtShip = SCExtShip.drop(['from_to_where'], axis=1).reset_index(drop = True)\n",
        "#SCExtShip\n",
        "All_dfs[\"RCExtShip\".lower()] = RCExtShip\n",
        "All_dfs[\"SCExtShip\".lower()] = SCExtShip\n",
        "All_dfs[\"SRIntShip\".lower()] = SRIntShip\n",
        "All_dfs[\"SSIntShip\".lower()] = SSIntShip"
      ]
    },
    {
      "cell_type": "markdown",
      "id": "792e06a4",
      "metadata": {
        "id": "792e06a4"
      },
      "source": [
        "### Splitting Orders Tables"
      ]
    },
    {
      "cell_type": "code",
      "execution_count": 28,
      "id": "e05ff098",
      "metadata": {
        "id": "e05ff098"
      },
      "outputs": [],
      "source": [
        "filter_list = All_dfs[\"rcextship\"][\"ExtShip_id\"]\n",
        "All_dfs[\"rcextorders\"] = All_dfs[\"externalorders\"][All_dfs[\"externalorders\"].ExtShip_id.isin(filter_list)].reset_index(drop=True)\n",
        "filter_list = All_dfs[\"scextship\"][\"ExtShip_id\"]\n",
        "All_dfs[\"scextorders\"] = All_dfs[\"externalorders\"][All_dfs[\"externalorders\"].ExtShip_id.isin(filter_list)].reset_index(drop=True)\n",
        "#All_dfs[\"scextorders\"] = All_dfs[\"externalorders\"].query(\"ExtShip_id.isin(@filter_list)\").reset_index(drop=True)\n",
        "filter_list = All_dfs[\"srintship\"][\"IntShip_id\"]\n",
        "All_dfs[\"srintorders\"] = All_dfs[\"internalorders\"][All_dfs[\"internalorders\"].IntShip_id.isin(filter_list)].reset_index(drop=True)\n",
        "#All_dfs[\"srintorders\"] = All_dfs[\"internalorders\"].query(\"IntShip_id.isin(@filter_list)\").reset_index(drop=True)\n",
        "filter_list = All_dfs[\"ssintship\"][\"IntShip_id\"]\n",
        "All_dfs[\"ssintorders\"] = All_dfs[\"internalorders\"][All_dfs[\"internalorders\"].IntShip_id.isin(filter_list)].reset_index(drop=True)\n",
        "#All_dfs[\"ssintorders\"] = All_dfs[\"internalorders\"].query(\"IntShip_id.isin(@filter_list)\").reset_index(drop=True)"
      ]
    },
    {
      "cell_type": "markdown",
      "id": "27b40154",
      "metadata": {
        "id": "27b40154"
      },
      "source": [
        "### Removing Redundant Tables"
      ]
    },
    {
      "cell_type": "code",
      "execution_count": 29,
      "id": "1dce7a31",
      "metadata": {
        "colab": {
          "base_uri": "https://localhost:8080/"
        },
        "id": "1dce7a31",
        "outputId": "f7113947-2d2d-46bd-89f4-68c6341fa514"
      },
      "outputs": [
        {
          "data": {
            "text/plain": [
              "dict_keys(['customer', 'externalservices', 'externaltransactions', 'facilities', 'internalservices', 'internaltransactions', 'manufacturing', 'products', 'retailer', 'supplier', 'warehouses', 'rcextship', 'scextship', 'srintship', 'ssintship', 'rcextorders', 'scextorders', 'srintorders', 'ssintorders'])"
            ]
          },
          "execution_count": 29,
          "metadata": {},
          "output_type": "execute_result"
        }
      ],
      "source": [
        "All_dfs.pop(\"internalshipments\")\n",
        "All_dfs.pop(\"externalshipments\")\n",
        "All_dfs.pop(\"externalorders\")\n",
        "All_dfs.pop(\"internalorders\")\n",
        "All_dfs.keys()"
      ]
    },
    {
      "cell_type": "code",
      "execution_count": 30,
      "id": "fe82c0a8",
      "metadata": {},
      "outputs": [],
      "source": [
        "# for table in All_dfs:\n",
        "#     print(table)\n",
        "#     print(All_dfs[table].isna().sum())\n",
        "#     print(\"_________________________\")"
      ]
    },
    {
      "cell_type": "markdown",
      "id": "9e191d11",
      "metadata": {},
      "source": [
        "### Removing nan"
      ]
    },
    {
      "cell_type": "code",
      "execution_count": 31,
      "id": "b1b0b012",
      "metadata": {},
      "outputs": [],
      "source": [
        "for table in All_dfs:\n",
        "    All_dfs[table].fillna('Unknown',inplace = True)\n"
      ]
    },
    {
      "cell_type": "markdown",
      "id": "SFbYcLkyvgI1",
      "metadata": {
        "id": "SFbYcLkyvgI1"
      },
      "source": [
        "### Execlude Tables"
      ]
    },
    {
      "cell_type": "code",
      "execution_count": 32,
      "id": "NPz3VcBXvjj-",
      "metadata": {
        "colab": {
          "base_uri": "https://localhost:8080/"
        },
        "id": "NPz3VcBXvjj-",
        "outputId": "bf669753-ae70-4f7f-8723-500d897e74b4"
      },
      "outputs": [],
      "source": [
        "# All_dfs = {key: value for key, value in All_dfs.items() \n",
        "#            if key not in [\"products\",\"warehouses\",\"manufacturing\"]}\n",
        "# All_dfs.keys()\n",
        "\n"
      ]
    },
    {
      "cell_type": "markdown",
      "id": "44151839",
      "metadata": {
        "id": "44151839"
      },
      "source": [
        "### Initialize fk and ref_in"
      ]
    },
    {
      "cell_type": "code",
      "execution_count": 33,
      "id": "d0650994",
      "metadata": {
        "id": "d0650994"
      },
      "outputs": [],
      "source": [
        "table_name = list(All_dfs.keys())\n",
        "for table_name in All_dfs:\n",
        "    fk[table_name] = {}\n",
        "    ref_in[table_name] = set()"
      ]
    },
    {
      "cell_type": "markdown",
      "id": "abaac2b1",
      "metadata": {
        "id": "abaac2b1"
      },
      "source": [
        "### Get Primary key for each table"
      ]
    },
    {
      "cell_type": "code",
      "execution_count": 34,
      "id": "2009ba51",
      "metadata": {
        "colab": {
          "base_uri": "https://localhost:8080/"
        },
        "id": "2009ba51",
        "outputId": "ca52c92d-cdf1-4e43-f6ae-521a641f6143"
      },
      "outputs": [
        {
          "data": {
            "text/plain": [
              "{'customer': 'cust_id',\n",
              " 'externalservices': 'ExtServ_id',\n",
              " 'externaltransactions': 'ExtTran_id',\n",
              " 'facilities': 'fac_id',\n",
              " 'internalservices': 'IntServ_id',\n",
              " 'internaltransactions': 'IntTran_id',\n",
              " 'manufacturing': 'Manf_id',\n",
              " 'products': 'prod_id',\n",
              " 'retailer': 'retailer_id',\n",
              " 'supplier': 'supp_id',\n",
              " 'warehouses': 'warehouse_id',\n",
              " 'rcextship': 'ExtShip_id',\n",
              " 'scextship': 'ExtShip_id',\n",
              " 'srintship': 'IntShip_id',\n",
              " 'ssintship': 'IntShip_id',\n",
              " 'rcextorders': 'ExtOrders_id',\n",
              " 'scextorders': 'ExtOrders_id',\n",
              " 'srintorders': 'IntOrders_id',\n",
              " 'ssintorders': 'IntOrders_id'}"
            ]
          },
          "execution_count": 34,
          "metadata": {},
          "output_type": "execute_result"
        }
      ],
      "source": [
        "for t in All_dfs:\n",
        "    pk_finder(t,All_dfs[t])\n",
        "pk"
      ]
    },
    {
      "cell_type": "markdown",
      "id": "dcedd35e",
      "metadata": {
        "id": "dcedd35e"
      },
      "source": [
        "### Get Foreing key for each table"
      ]
    },
    {
      "cell_type": "code",
      "execution_count": 35,
      "id": "ea835d03",
      "metadata": {
        "colab": {
          "base_uri": "https://localhost:8080/"
        },
        "id": "ea835d03",
        "outputId": "d1773b0b-f680-4a53-a7b1-45229492cb26"
      },
      "outputs": [
        {
          "data": {
            "text/plain": [
              "{'customer': {},\n",
              " 'externalservices': {'ExtTrans_id': 'externaltransactions'},\n",
              " 'externaltransactions': {'CompFrom': 'supplier', 'Custto': 'customer'},\n",
              " 'facilities': {'supplier_id': 'supplier'},\n",
              " 'internalservices': {'IntTrans_id': 'internaltransactions'},\n",
              " 'internaltransactions': {'CompFrom': 'supplier', 'Compto': 'supplier'},\n",
              " 'manufacturing': {'Different_suppliers': 'supplier',\n",
              "  'Product_id': 'products',\n",
              "  'Factory_id': 'supplier'},\n",
              " 'products': {'warehouses': 'warehouses'},\n",
              " 'retailer': {},\n",
              " 'supplier': {},\n",
              " 'warehouses': {},\n",
              " 'rcextship': {'factoryIds/retailerIds': 'retailer', 'idsTo': 'customer'},\n",
              " 'scextship': {'factoryIds/retailerIds': 'supplier', 'idsTo': 'customer'},\n",
              " 'srintship': {'listSuppIds': 'supplier', 'factoryIds': 'retailer'},\n",
              " 'ssintship': {'listSuppIds': 'supplier', 'factoryIds': 'supplier'},\n",
              " 'rcextorders': {'ExtShip_id': 'rcextship'},\n",
              " 'scextorders': {'ExtShip_id': 'scextship'},\n",
              " 'srintorders': {'IntShip_id': 'srintship'},\n",
              " 'ssintorders': {'IntShip_id': 'ssintship'}}"
            ]
          },
          "execution_count": 35,
          "metadata": {},
          "output_type": "execute_result"
        }
      ],
      "source": [
        "for t in All_dfs:\n",
        "    fk_finder(t,All_dfs[t])\n",
        "fk"
      ]
    },
    {
      "cell_type": "code",
      "execution_count": 36,
      "id": "cc95831f",
      "metadata": {},
      "outputs": [],
      "source": [
        "# asdadf"
      ]
    },
    {
      "cell_type": "code",
      "execution_count": 37,
      "id": "db523572",
      "metadata": {
        "colab": {
          "base_uri": "https://localhost:8080/"
        },
        "id": "db523572",
        "outputId": "56de3687-8004-45ee-d1cd-2a194d42c74b"
      },
      "outputs": [
        {
          "data": {
            "text/plain": [
              "{'customer': {'externaltransactions', 'rcextship', 'scextship'},\n",
              " 'externalservices': set(),\n",
              " 'externaltransactions': {'externalservices'},\n",
              " 'facilities': set(),\n",
              " 'internalservices': set(),\n",
              " 'internaltransactions': {'internalservices'},\n",
              " 'manufacturing': set(),\n",
              " 'products': {'manufacturing'},\n",
              " 'retailer': {'rcextship', 'srintship'},\n",
              " 'supplier': {'externaltransactions',\n",
              "  'facilities',\n",
              "  'internaltransactions',\n",
              "  'manufacturing',\n",
              "  'scextship',\n",
              "  'srintship',\n",
              "  'ssintship'},\n",
              " 'warehouses': {'products'},\n",
              " 'rcextship': {'rcextorders'},\n",
              " 'scextship': {'scextorders'},\n",
              " 'srintship': {'srintorders'},\n",
              " 'ssintship': {'ssintorders'},\n",
              " 'rcextorders': set(),\n",
              " 'scextorders': set(),\n",
              " 'srintorders': set(),\n",
              " 'ssintorders': set()}"
            ]
          },
          "execution_count": 37,
          "metadata": {},
          "output_type": "execute_result"
        }
      ],
      "source": [
        "ref_in"
      ]
    },
    {
      "cell_type": "markdown",
      "id": "e47d40f8",
      "metadata": {
        "id": "e47d40f8"
      },
      "source": [
        "### Determine nodes and edges"
      ]
    },
    {
      "cell_type": "code",
      "execution_count": 38,
      "id": "e5ca1421",
      "metadata": {
        "id": "e5ca1421"
      },
      "outputs": [],
      "source": [
        "nodes_edges(fk)"
      ]
    },
    {
      "cell_type": "code",
      "execution_count": 39,
      "id": "557ca7af",
      "metadata": {
        "colab": {
          "base_uri": "https://localhost:8080/"
        },
        "id": "557ca7af",
        "outputId": "087881bb-4c71-4280-fe8f-2acb191670bf"
      },
      "outputs": [
        {
          "data": {
            "text/plain": [
              "dict_keys(['customer', 'retailer', 'supplier', 'warehouses'])"
            ]
          },
          "execution_count": 39,
          "metadata": {},
          "output_type": "execute_result"
        }
      ],
      "source": [
        "nodes.keys()"
      ]
    },
    {
      "cell_type": "code",
      "execution_count": 40,
      "id": "4e3ebbb5",
      "metadata": {
        "colab": {
          "base_uri": "https://localhost:8080/"
        },
        "id": "4e3ebbb5",
        "outputId": "51aa740e-5aa0-4d32-a52a-aa2eb58182e1"
      },
      "outputs": [
        {
          "data": {
            "text/plain": [
              "{'externaltransactions': {'CompFrom': 'supplier', 'Custto': 'customer'},\n",
              " 'internaltransactions': {'CompFrom': 'supplier', 'Compto': 'supplier'},\n",
              " 'rcextship': {'factoryIds/retailerIds': 'retailer', 'idsTo': 'customer'},\n",
              " 'scextship': {'factoryIds/retailerIds': 'supplier', 'idsTo': 'customer'},\n",
              " 'srintship': {'listSuppIds': 'supplier', 'factoryIds': 'retailer'},\n",
              " 'ssintship': {'listSuppIds': 'supplier', 'factoryIds': 'supplier'}}"
            ]
          },
          "execution_count": 40,
          "metadata": {},
          "output_type": "execute_result"
        }
      ],
      "source": [
        "edges"
      ]
    },
    {
      "cell_type": "code",
      "execution_count": 41,
      "id": "5ba55d53",
      "metadata": {
        "colab": {
          "base_uri": "https://localhost:8080/"
        },
        "id": "5ba55d53",
        "outputId": "20e0398e-6349-48ab-d1cb-63958dda0890"
      },
      "outputs": [
        {
          "data": {
            "text/plain": [
              "{'externalservices': {'ExtTrans_id': 'externaltransactions'},\n",
              " 'facilities': {'supplier_id': 'supplier'},\n",
              " 'internalservices': {'IntTrans_id': 'internaltransactions'},\n",
              " 'products': {'warehouses': 'warehouses'},\n",
              " 'rcextorders': {'ExtShip_id': 'rcextship'},\n",
              " 'scextorders': {'ExtShip_id': 'scextship'},\n",
              " 'srintorders': {'IntShip_id': 'srintship'},\n",
              " 'ssintorders': {'IntShip_id': 'ssintship'}}"
            ]
          },
          "execution_count": 41,
          "metadata": {},
          "output_type": "execute_result"
        }
      ],
      "source": [
        "properties"
      ]
    },
    {
      "cell_type": "markdown",
      "id": "16e305b5",
      "metadata": {
        "id": "16e305b5"
      },
      "source": [
        "### Create NodesTable"
      ]
    },
    {
      "cell_type": "code",
      "execution_count": 42,
      "id": "bcd83ca2",
      "metadata": {
        "colab": {
          "base_uri": "https://localhost:8080/",
          "height": 424
        },
        "id": "bcd83ca2",
        "outputId": "53ab6f8b-8dbe-4019-95c9-e697929c2d52"
      },
      "outputs": [
        {
          "data": {
            "text/html": [
              "<div>\n",
              "<style scoped>\n",
              "    .dataframe tbody tr th:only-of-type {\n",
              "        vertical-align: middle;\n",
              "    }\n",
              "\n",
              "    .dataframe tbody tr th {\n",
              "        vertical-align: top;\n",
              "    }\n",
              "\n",
              "    .dataframe thead th {\n",
              "        text-align: right;\n",
              "    }\n",
              "</style>\n",
              "<table border=\"1\" class=\"dataframe\">\n",
              "  <thead>\n",
              "    <tr style=\"text-align: right;\">\n",
              "      <th></th>\n",
              "      <th>Label</th>\n",
              "      <th>ID</th>\n",
              "      <th>Attributes</th>\n",
              "    </tr>\n",
              "  </thead>\n",
              "  <tbody>\n",
              "    <tr>\n",
              "      <th>0</th>\n",
              "      <td>customer</td>\n",
              "      <td>33736</td>\n",
              "      <td>{'gender': 'F', 'first_name': 'Nadia', 'last_n...</td>\n",
              "    </tr>\n",
              "    <tr>\n",
              "      <th>1</th>\n",
              "      <td>customer</td>\n",
              "      <td>42959</td>\n",
              "      <td>{'gender': 'M', 'first_name': 'Eric', 'last_na...</td>\n",
              "    </tr>\n",
              "    <tr>\n",
              "      <th>2</th>\n",
              "      <td>customer</td>\n",
              "      <td>50653</td>\n",
              "      <td>{'gender': 'F', 'first_name': 'Alessia', 'last...</td>\n",
              "    </tr>\n",
              "    <tr>\n",
              "      <th>3</th>\n",
              "      <td>customer</td>\n",
              "      <td>82485</td>\n",
              "      <td>{'gender': 'M', 'first_name': 'Alexei', 'last_...</td>\n",
              "    </tr>\n",
              "    <tr>\n",
              "      <th>4</th>\n",
              "      <td>customer</td>\n",
              "      <td>56609</td>\n",
              "      <td>{'gender': 'F', 'first_name': 'Brenda', 'last_...</td>\n",
              "    </tr>\n",
              "    <tr>\n",
              "      <th>...</th>\n",
              "      <td>...</td>\n",
              "      <td>...</td>\n",
              "      <td>...</td>\n",
              "    </tr>\n",
              "    <tr>\n",
              "      <th>1595</th>\n",
              "      <td>warehouses</td>\n",
              "      <td>9964</td>\n",
              "      <td>{'country': 'Norway', 'city_name': 'Jan Mayen ...</td>\n",
              "    </tr>\n",
              "    <tr>\n",
              "      <th>1596</th>\n",
              "      <td>warehouses</td>\n",
              "      <td>9970</td>\n",
              "      <td>{'country': 'Bouvet Island', 'city_name': 'Unk...</td>\n",
              "    </tr>\n",
              "    <tr>\n",
              "      <th>1597</th>\n",
              "      <td>warehouses</td>\n",
              "      <td>9975</td>\n",
              "      <td>{'country': 'Bolivia, Plurinational State of',...</td>\n",
              "    </tr>\n",
              "    <tr>\n",
              "      <th>1598</th>\n",
              "      <td>warehouses</td>\n",
              "      <td>9981</td>\n",
              "      <td>{'country': 'Qatar', 'city_name': 'Ash Shamāl'...</td>\n",
              "    </tr>\n",
              "    <tr>\n",
              "      <th>1599</th>\n",
              "      <td>warehouses</td>\n",
              "      <td>9996</td>\n",
              "      <td>{'country': 'Tunisia', 'city_name': 'Ben Arous...</td>\n",
              "    </tr>\n",
              "  </tbody>\n",
              "</table>\n",
              "<p>1600 rows × 3 columns</p>\n",
              "</div>"
            ],
            "text/plain": [
              "           Label     ID                                         Attributes\n",
              "0       customer  33736  {'gender': 'F', 'first_name': 'Nadia', 'last_n...\n",
              "1       customer  42959  {'gender': 'M', 'first_name': 'Eric', 'last_na...\n",
              "2       customer  50653  {'gender': 'F', 'first_name': 'Alessia', 'last...\n",
              "3       customer  82485  {'gender': 'M', 'first_name': 'Alexei', 'last_...\n",
              "4       customer  56609  {'gender': 'F', 'first_name': 'Brenda', 'last_...\n",
              "...          ...    ...                                                ...\n",
              "1595  warehouses   9964  {'country': 'Norway', 'city_name': 'Jan Mayen ...\n",
              "1596  warehouses   9970  {'country': 'Bouvet Island', 'city_name': 'Unk...\n",
              "1597  warehouses   9975  {'country': 'Bolivia, Plurinational State of',...\n",
              "1598  warehouses   9981  {'country': 'Qatar', 'city_name': 'Ash Shamāl'...\n",
              "1599  warehouses   9996  {'country': 'Tunisia', 'city_name': 'Ben Arous...\n",
              "\n",
              "[1600 rows x 3 columns]"
            ]
          },
          "execution_count": 42,
          "metadata": {},
          "output_type": "execute_result"
        }
      ],
      "source": [
        "nodesTable = add_nodes(nodes,nodesTable)\n",
        "nodesTable"
      ]
    },
    {
      "cell_type": "markdown",
      "id": "92bfeb8a",
      "metadata": {
        "id": "92bfeb8a"
      },
      "source": [
        "### Create Edges Table"
      ]
    },
    {
      "cell_type": "code",
      "execution_count": 43,
      "id": "243aacff",
      "metadata": {
        "colab": {
          "base_uri": "https://localhost:8080/",
          "height": 424
        },
        "id": "243aacff",
        "outputId": "4aa0f919-0ceb-466f-b768-fe040f2f78c0"
      },
      "outputs": [
        {
          "data": {
            "text/html": [
              "<div>\n",
              "<style scoped>\n",
              "    .dataframe tbody tr th:only-of-type {\n",
              "        vertical-align: middle;\n",
              "    }\n",
              "\n",
              "    .dataframe tbody tr th {\n",
              "        vertical-align: top;\n",
              "    }\n",
              "\n",
              "    .dataframe thead th {\n",
              "        text-align: right;\n",
              "    }\n",
              "</style>\n",
              "<table border=\"1\" class=\"dataframe\">\n",
              "  <thead>\n",
              "    <tr style=\"text-align: right;\">\n",
              "      <th></th>\n",
              "      <th>From_Node_ID</th>\n",
              "      <th>To_Node_ID</th>\n",
              "      <th>order/service</th>\n",
              "    </tr>\n",
              "  </thead>\n",
              "  <tbody>\n",
              "    <tr>\n",
              "      <th>0</th>\n",
              "      <td>484</td>\n",
              "      <td>140</td>\n",
              "      <td>[]</td>\n",
              "    </tr>\n",
              "    <tr>\n",
              "      <th>1</th>\n",
              "      <td>426</td>\n",
              "      <td>72</td>\n",
              "      <td>[{'ExtServ_id': 8658, 'placed_when': '1998-06-...</td>\n",
              "    </tr>\n",
              "    <tr>\n",
              "      <th>2</th>\n",
              "      <td>465</td>\n",
              "      <td>2</td>\n",
              "      <td>[]</td>\n",
              "    </tr>\n",
              "    <tr>\n",
              "      <th>3</th>\n",
              "      <td>374</td>\n",
              "      <td>137</td>\n",
              "      <td>[]</td>\n",
              "    </tr>\n",
              "    <tr>\n",
              "      <th>4</th>\n",
              "      <td>475</td>\n",
              "      <td>92</td>\n",
              "      <td>[{'ExtServ_id': 7764, 'placed_when': '1973-08-...</td>\n",
              "    </tr>\n",
              "    <tr>\n",
              "      <th>...</th>\n",
              "      <td>...</td>\n",
              "      <td>...</td>\n",
              "      <td>...</td>\n",
              "    </tr>\n",
              "    <tr>\n",
              "      <th>883</th>\n",
              "      <td>435</td>\n",
              "      <td>490</td>\n",
              "      <td>[{'IntOrders_id': 10448, 'quantity': 766, 'pla...</td>\n",
              "    </tr>\n",
              "    <tr>\n",
              "      <th>884</th>\n",
              "      <td>599</td>\n",
              "      <td>490</td>\n",
              "      <td>[{'IntOrders_id': 10449, 'quantity': 766, 'pla...</td>\n",
              "    </tr>\n",
              "    <tr>\n",
              "      <th>885</th>\n",
              "      <td>493</td>\n",
              "      <td>348</td>\n",
              "      <td>[{'IntOrders_id': 10450, 'quantity': 766, 'pla...</td>\n",
              "    </tr>\n",
              "    <tr>\n",
              "      <th>886</th>\n",
              "      <td>430</td>\n",
              "      <td>348</td>\n",
              "      <td>[{'IntOrders_id': 10451, 'quantity': 766, 'pla...</td>\n",
              "    </tr>\n",
              "    <tr>\n",
              "      <th>887</th>\n",
              "      <td>593</td>\n",
              "      <td>348</td>\n",
              "      <td>[{'IntOrders_id': 10452, 'quantity': 766, 'pla...</td>\n",
              "    </tr>\n",
              "  </tbody>\n",
              "</table>\n",
              "<p>888 rows × 3 columns</p>\n",
              "</div>"
            ],
            "text/plain": [
              "    From_Node_ID To_Node_ID                                      order/service\n",
              "0            484        140                                                 []\n",
              "1            426         72  [{'ExtServ_id': 8658, 'placed_when': '1998-06-...\n",
              "2            465          2                                                 []\n",
              "3            374        137                                                 []\n",
              "4            475         92  [{'ExtServ_id': 7764, 'placed_when': '1973-08-...\n",
              "..           ...        ...                                                ...\n",
              "883          435        490  [{'IntOrders_id': 10448, 'quantity': 766, 'pla...\n",
              "884          599        490  [{'IntOrders_id': 10449, 'quantity': 766, 'pla...\n",
              "885          493        348  [{'IntOrders_id': 10450, 'quantity': 766, 'pla...\n",
              "886          430        348  [{'IntOrders_id': 10451, 'quantity': 766, 'pla...\n",
              "887          593        348  [{'IntOrders_id': 10452, 'quantity': 766, 'pla...\n",
              "\n",
              "[888 rows x 3 columns]"
            ]
          },
          "execution_count": 43,
          "metadata": {},
          "output_type": "execute_result"
        }
      ],
      "source": [
        "edgesTable = add_edges(edges, edgesTable,pk,fk,ref_in)\n",
        "edgesTable"
      ]
    },
    {
      "cell_type": "code",
      "execution_count": 44,
      "id": "ziqKFfbOwK60",
      "metadata": {
        "id": "ziqKFfbOwK60"
      },
      "outputs": [],
      "source": [
        "# nodes_df = pd.DataFrame(columns=['Label', 'ID', 'Attributes'])\n",
        "# edges_df = pd.DataFrame(columns=['From','To'])\n",
        "all_nodes = list(nodes.keys())\n",
        "for n in range(len(nodes)):\n",
        "      for index, row in nodes[all_nodes[n]].iterrows():\n",
        "          column_names = list(nodes[all_nodes[n]].columns) #get column names\n",
        "          att = {}\n",
        "          for i in range(1, len(column_names)):\n",
        "              att[column_names[i]] = nodes[all_nodes[n]].iloc[index, i]\n",
        "          newRow = [{'Label': all_nodes[n] , 'ID': nodes[all_nodes[n]].iloc[index,0] , 'Attributes': att}]\n",
        "          tmp = pd.DataFrame(newRow)\n",
        "          nodes_df = pd.concat([nodes_df, tmp], ignore_index=True)"
      ]
    },
    {
      "cell_type": "code",
      "execution_count": 45,
      "id": "cBd3GL_EwK9t",
      "metadata": {
        "id": "cBd3GL_EwK9t"
      },
      "outputs": [],
      "source": [
        "all_edges = list(edges.keys())\n",
        "for n in range(len(edges)):\n",
        "      Edge_name = all_edges[n]\n",
        "\n",
        "      foreign_keys = list(fk[Edge_name].keys())\n",
        "\n",
        "      from_col = foreign_keys[0]\n",
        "      from_table_name = fk[Edge_name][from_col]\n",
        "      from_df = All_dfs[from_table_name]\n",
        "      from_df_pk = pk[from_table_name]\n",
        "\n",
        "      to_col = foreign_keys[-1]\n",
        "      to_table_name = fk[Edge_name][to_col]\n",
        "      to_df = All_dfs[to_table_name]\n",
        "      to_df_pk = pk[to_table_name]\n",
        "\n",
        "      column_names = list(All_dfs[Edge_name].columns) #get column names\n",
        "      for index, _ in All_dfs[Edge_name].iterrows():\n",
        "          att = {}\n",
        "          from_ref_id,to_ref_id = None, None\n",
        "\n",
        "\n",
        "          for i in range(1, len(column_names)):\n",
        "            column_name = column_names[i]\n",
        "\n",
        "\n",
        "            if column_name not in foreign_keys:\n",
        "              att[column_name] = All_dfs[Edge_name].iloc[index, i]\n",
        "\n",
        "            else:\n",
        "              reference_id = All_dfs[Edge_name].iloc[index, i]\n",
        "              if column_name == from_col:\n",
        "                # from_ref_id = from_df[from_df[from_df_pk] == reference_id].index[0]\n",
        "                from_ref_id = reference_id\n",
        "              else:\n",
        "                # to_ref_id = to_df[to_df[to_df_pk] == reference_id].index[0]\n",
        "                to_ref_id = reference_id\n",
        "\n",
        "          # Adding new entry to node tabel\n",
        "          newRow = [{'Label': Edge_name , 'ID': All_dfs[Edge_name].iloc[index,0] , 'Attributes': att}]\n",
        "          tmp = pd.DataFrame(newRow)\n",
        "          nodes_df = pd.concat([nodes_df, tmp], ignore_index=True)\n",
        "          edge_node_index = len(nodes_df)-1\n",
        "          # print(nodes_df.iloc[len(nodes_df)-1],All_dfs[Edge_name].iloc[index,0] )\n",
        "\n",
        "          # creating two edges, one from the from_node to the edge node and one from edge node to to_node\n",
        "          from_node_id = nodes_df[(nodes_df['Label']==from_table_name) &  (nodes_df['ID']==from_ref_id)].index[0]\n",
        "          to_node_id =  nodes_df[(nodes_df['Label']==to_table_name) &  (nodes_df['ID']==to_ref_id)].index[0] \n",
        "\n",
        "          # from ---> edge \n",
        "          new_from_edge_row = [{'From': from_node_id , 'To':edge_node_index,'From_Table': from_table_name.capitalize(),'To_Table': Edge_name.capitalize() }]\n",
        "          tmp = pd.DataFrame(new_from_edge_row)\n",
        "          edges_df = pd.concat([edges_df, tmp], ignore_index=True)\n",
        "          # edge --->to\n",
        "          new_to_edge_row = [{'From': edge_node_index , 'To':  to_node_id, 'From_Table':Edge_name.capitalize(), 'To_Table': to_table_name.capitalize()}]\n",
        "          tmp = pd.DataFrame(new_to_edge_row)\n",
        "          edges_df = pd.concat([edges_df, tmp], ignore_index=True)\n",
        "\n"
      ]
    },
    {
      "cell_type": "code",
      "execution_count": 46,
      "id": "JjImjta5GIKZ",
      "metadata": {
        "id": "JjImjta5GIKZ"
      },
      "outputs": [
        {
          "name": "stdout",
          "output_type": "stream",
          "text": [
            "externalservices\n",
            "facilities\n",
            "internalservices\n",
            "products\n",
            "rcextorders\n",
            "scextorders\n",
            "srintorders\n",
            "ssintorders\n"
          ]
        }
      ],
      "source": [
        "all_properties = list(properties.keys())\n",
        "for property_name in all_properties:\n",
        "  print(property_name)\n",
        "\n",
        "  property_df = All_dfs[property_name]\n",
        "      \n",
        "  foreign_keys = list(fk[property_name].keys())\n",
        "\n",
        "  fk_col = foreign_keys[0]\n",
        "  referenced_table_name = fk[property_name][fk_col]\n",
        "  referenced_table_df = All_dfs[referenced_table_name]\n",
        "  referenced_table_pk = pk[referenced_table_name]\n",
        "  \n",
        "  column_names = list(property_df.columns) #get column names\n",
        "  \n",
        "  for index, _ in property_df.iterrows():    \n",
        "      att = {}\n",
        "      reference_id = None;      \n",
        "      \n",
        "      for i in range(1, len(column_names)):\n",
        "        column_name = column_names[i]\n",
        "        \n",
        "        \n",
        "        if column_name not in foreign_keys:\n",
        "          att[column_name] = property_df.iloc[index, i]\n",
        "      \n",
        "        else:\n",
        "          # capturing foreign key value\n",
        "          reference_id = property_df.iloc[index, i]\n",
        "\n",
        "      # Adding new entry to node tabel\n",
        "      newRow = [{'Label': property_name , 'ID': property_df.iloc[index,0] , 'Attributes': att}]\n",
        "      tmp = pd.DataFrame(newRow)\n",
        "      nodes_df = pd.concat([nodes_df, tmp], ignore_index=True)\n",
        "      property_node_index = len(nodes_df)-1\n",
        "      # print(nodes_df.iloc[len(nodes_df)-1],property_df.iloc[index,0] )\n",
        "\n",
        "      # creating two edges, one from the from_node to the edge node and one from edge node to to_node\n",
        "      if  isinstance(reference_id,list):\n",
        "        for list_element_id in reference_id:\n",
        "          referenced_node_id = nodes_df[(nodes_df['Label']==referenced_table_name) &  (nodes_df['ID']==list_element_id)].index[0] \n",
        "        \n",
        "          new_property_edge_row = [{'From': referenced_node_id , 'To':  property_node_index,'From_Table':referenced_table_name.capitalize(), 'To_Table': property_name.capitalize()}]\n",
        "          tmp = pd.DataFrame(new_property_edge_row)\n",
        "          edges_df = pd.concat([edges_df, tmp], ignore_index=True)\n",
        "\n",
        "      else:\n",
        "        referenced_node_id = nodes_df[(nodes_df['Label']==referenced_table_name) &  (nodes_df['ID']==reference_id)].index[0] \n",
        "        \n",
        "        new_property_edge_row = [{'From': referenced_node_id , 'To':  property_node_index,'From_Table':referenced_table_name.capitalize(), 'To_Table': property_name.capitalize()}]\n",
        "        tmp = pd.DataFrame(new_property_edge_row)\n",
        "        edges_df = pd.concat([edges_df, tmp], ignore_index=True)\n",
        "\n"
      ]
    },
    {
      "cell_type": "code",
      "execution_count": 47,
      "id": "78aa6a18",
      "metadata": {},
      "outputs": [],
      "source": [
        "# Not Generic At All:\n",
        "# looping over each row in internal shipments and checking if it belongs to manufacturing\n",
        "internal_shipments_df = All_dfs[\"ssintship\"]\n",
        "products_df = All_dfs[\"products\"]\n",
        "manufacturing_df = All_dfs[\"manufacturing\"]\n",
        "\n",
        "for i, internal_shipments_row in internal_shipments_df.iterrows():\n",
        "    internal_shipments_ID = internal_shipments_row[0]\n",
        "    from_id = internal_shipments_row[1]\n",
        "    to_id = internal_shipments_row[2]\n",
        "    factory_records = manufacturing_df.query(f\"Factory_id == {to_id}\")\n",
        "    for j,manufacturing_row in factory_records.iterrows(): \n",
        "        if from_id in manufacturing_row[1]:\n",
        "            product_id = manufacturing_row[2]\n",
        "            product_node_index = nodes_df.query(f\"(Label == 'products' ) and (ID == {product_id}) \").index[0]\n",
        "            internal_shipment_node_index = nodes_df.query(f\"(Label == 'ssintship' ) and (ID == {internal_shipments_ID}) \").index[0]\n",
        "            new_edge_row = [{'From': product_node_index , 'To':  internal_shipment_node_index,'From_Table':\"products\".capitalize(), 'To_Table': \"ssintship\".capitalize()}]\n",
        "            tmp = pd.DataFrame(new_edge_row)\n",
        "            edges_df = pd.concat([edges_df, tmp], ignore_index=True)\n",
        "\n"
      ]
    },
    {
      "cell_type": "code",
      "execution_count": 48,
      "id": "12d88df2",
      "metadata": {},
      "outputs": [
        {
          "data": {
            "text/plain": [
              "facilities              2000\n",
              "warehouses              1000\n",
              "ssintorders              548\n",
              "ssintship                537\n",
              "products                 500\n",
              "supplier                 300\n",
              "retailer                 150\n",
              "customer                 150\n",
              "externaltransactions     100\n",
              "internaltransactions     100\n",
              "externalservices         100\n",
              "internalservices         100\n",
              "srintorders               74\n",
              "rcextorders               52\n",
              "rcextship                 51\n",
              "srintship                 51\n",
              "scextship                 49\n",
              "scextorders               48\n",
              "Name: Label, dtype: int64"
            ]
          },
          "execution_count": 48,
          "metadata": {},
          "output_type": "execute_result"
        }
      ],
      "source": [
        "nodes_df.Label.value_counts()"
      ]
    },
    {
      "cell_type": "code",
      "execution_count": 49,
      "id": "f6b4997f",
      "metadata": {},
      "outputs": [
        {
          "data": {
            "text/html": [
              "<div>\n",
              "<style scoped>\n",
              "    .dataframe tbody tr th:only-of-type {\n",
              "        vertical-align: middle;\n",
              "    }\n",
              "\n",
              "    .dataframe tbody tr th {\n",
              "        vertical-align: top;\n",
              "    }\n",
              "\n",
              "    .dataframe thead th {\n",
              "        text-align: right;\n",
              "    }\n",
              "</style>\n",
              "<table border=\"1\" class=\"dataframe\">\n",
              "  <thead>\n",
              "    <tr style=\"text-align: right;\">\n",
              "      <th></th>\n",
              "      <th>From</th>\n",
              "      <th>To</th>\n",
              "      <th>From_Table</th>\n",
              "      <th>To_Table</th>\n",
              "    </tr>\n",
              "  </thead>\n",
              "  <tbody>\n",
              "    <tr>\n",
              "      <th>0</th>\n",
              "      <td>484</td>\n",
              "      <td>1600</td>\n",
              "      <td>Supplier</td>\n",
              "      <td>Externaltransactions</td>\n",
              "    </tr>\n",
              "    <tr>\n",
              "      <th>1</th>\n",
              "      <td>1600</td>\n",
              "      <td>140</td>\n",
              "      <td>Externaltransactions</td>\n",
              "      <td>Customer</td>\n",
              "    </tr>\n",
              "    <tr>\n",
              "      <th>2</th>\n",
              "      <td>426</td>\n",
              "      <td>1601</td>\n",
              "      <td>Supplier</td>\n",
              "      <td>Externaltransactions</td>\n",
              "    </tr>\n",
              "    <tr>\n",
              "      <th>3</th>\n",
              "      <td>1601</td>\n",
              "      <td>72</td>\n",
              "      <td>Externaltransactions</td>\n",
              "      <td>Customer</td>\n",
              "    </tr>\n",
              "    <tr>\n",
              "      <th>4</th>\n",
              "      <td>465</td>\n",
              "      <td>1602</td>\n",
              "      <td>Supplier</td>\n",
              "      <td>Externaltransactions</td>\n",
              "    </tr>\n",
              "    <tr>\n",
              "      <th>...</th>\n",
              "      <td>...</td>\n",
              "      <td>...</td>\n",
              "      <td>...</td>\n",
              "      <td>...</td>\n",
              "    </tr>\n",
              "    <tr>\n",
              "      <th>7976</th>\n",
              "      <td>5181</td>\n",
              "      <td>2483</td>\n",
              "      <td>Products</td>\n",
              "      <td>Ssintship</td>\n",
              "    </tr>\n",
              "    <tr>\n",
              "      <th>7977</th>\n",
              "      <td>5181</td>\n",
              "      <td>2484</td>\n",
              "      <td>Products</td>\n",
              "      <td>Ssintship</td>\n",
              "    </tr>\n",
              "    <tr>\n",
              "      <th>7978</th>\n",
              "      <td>5182</td>\n",
              "      <td>2485</td>\n",
              "      <td>Products</td>\n",
              "      <td>Ssintship</td>\n",
              "    </tr>\n",
              "    <tr>\n",
              "      <th>7979</th>\n",
              "      <td>5182</td>\n",
              "      <td>2486</td>\n",
              "      <td>Products</td>\n",
              "      <td>Ssintship</td>\n",
              "    </tr>\n",
              "    <tr>\n",
              "      <th>7980</th>\n",
              "      <td>5182</td>\n",
              "      <td>2487</td>\n",
              "      <td>Products</td>\n",
              "      <td>Ssintship</td>\n",
              "    </tr>\n",
              "  </tbody>\n",
              "</table>\n",
              "<p>7981 rows × 4 columns</p>\n",
              "</div>"
            ],
            "text/plain": [
              "      From    To            From_Table              To_Table\n",
              "0      484  1600              Supplier  Externaltransactions\n",
              "1     1600   140  Externaltransactions              Customer\n",
              "2      426  1601              Supplier  Externaltransactions\n",
              "3     1601    72  Externaltransactions              Customer\n",
              "4      465  1602              Supplier  Externaltransactions\n",
              "...    ...   ...                   ...                   ...\n",
              "7976  5181  2483              Products             Ssintship\n",
              "7977  5181  2484              Products             Ssintship\n",
              "7978  5182  2485              Products             Ssintship\n",
              "7979  5182  2486              Products             Ssintship\n",
              "7980  5182  2487              Products             Ssintship\n",
              "\n",
              "[7981 rows x 4 columns]"
            ]
          },
          "execution_count": 49,
          "metadata": {},
          "output_type": "execute_result"
        }
      ],
      "source": [
        "edges_df"
      ]
    },
    {
      "cell_type": "code",
      "execution_count": 50,
      "id": "2011c1c0",
      "metadata": {},
      "outputs": [
        {
          "name": "stdout",
          "output_type": "stream",
          "text": [
            "Number of Nodes:  5910\n",
            "Number of Edges:  7981\n"
          ]
        }
      ],
      "source": [
        "draw_graph_pyvis(nodes_df,edges_df)"
      ]
    },
    {
      "cell_type": "markdown",
      "id": "c0073eb5",
      "metadata": {},
      "source": [
        "[Neo 4j Function](#Neo4jFunction)\n"
      ]
    },
    {
      "cell_type": "markdown",
      "id": "9db321d8",
      "metadata": {},
      "source": [
        "<a id=\"Neo4jCall\"></a>"
      ]
    },
    {
      "cell_type": "code",
      "execution_count": 54,
      "id": "173378a9",
      "metadata": {},
      "outputs": [],
      "source": [
        "draw_graph_Neo4j(nodes_df,edges_df)"
      ]
    },
    {
      "cell_type": "code",
      "execution_count": 52,
      "id": "8a9683bf",
      "metadata": {},
      "outputs": [
        {
          "name": "stdout",
          "output_type": "stream",
          "text": [
            "customer 150\n",
            "externalservices 100\n",
            "externaltransactions 100\n",
            "facilities 2000\n",
            "internalservices 100\n",
            "internaltransactions 100\n",
            "manufacturing 100\n",
            "products 500\n",
            "retailer 150\n",
            "supplier 300\n",
            "warehouses 1000\n",
            "rcextship 51\n",
            "scextship 49\n",
            "srintship 51\n",
            "ssintship 537\n",
            "rcextorders 52\n",
            "scextorders 48\n",
            "srintorders 74\n",
            "ssintorders 548\n",
            "Number Of Nodes:  6010\n",
            "Number Of Edges:  5198\n"
          ]
        }
      ],
      "source": [
        "sum_nodes = 0\n",
        "sum_edges = 0\n",
        "for key in All_dfs:\n",
        "    table_size = len(All_dfs[key])\n",
        "    print(key, table_size)\n",
        "    sum_nodes += table_size\n",
        "    if(key in all_edges):\n",
        "        sum_edges += table_size*2\n",
        "    if(key in all_properties ):\n",
        "        sum_edges += table_size\n",
        "print(\"Number Of Nodes: \",sum_nodes)\n",
        "print(\"Number Of Edges: \",sum_edges)"
      ]
    }
  ],
  "metadata": {
    "colab": {
      "collapsed_sections": [],
      "name": "Copy of Data Transformation.ipynb",
      "provenance": []
    },
    "kernelspec": {
      "display_name": "Python 3 (ipykernel)",
      "language": "python",
      "name": "python3"
    },
    "language_info": {
      "codemirror_mode": {
        "name": "ipython",
        "version": 3
      },
      "file_extension": ".py",
      "mimetype": "text/x-python",
      "name": "python",
      "nbconvert_exporter": "python",
      "pygments_lexer": "ipython3",
      "version": "3.9.7"
    },
    "vscode": {
      "interpreter": {
        "hash": "ad2bdc8ecc057115af97d19610ffacc2b4e99fae6737bb82f5d7fb13d2f2c186"
      }
    }
  },
  "nbformat": 4,
  "nbformat_minor": 5
}
